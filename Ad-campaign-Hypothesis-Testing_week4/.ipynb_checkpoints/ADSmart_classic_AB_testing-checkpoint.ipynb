{
 "cells": [
  {
   "cell_type": "markdown",
   "metadata": {},
   "source": [
    "### Import libs"
   ]
  },
  {
   "cell_type": "code",
   "execution_count": 1,
   "metadata": {},
   "outputs": [],
   "source": [
    "import numpy as np\n",
    "import pandas as pd\n",
    "import matplotlib as mpl\n",
    "import matplotlib.pyplot as plt\n",
    "import seaborn as sns\n",
    "import scipy.stats as scs"
   ]
  },
  {
   "cell_type": "markdown",
   "metadata": {},
   "source": [
    "### Read dataset"
   ]
  },
  {
   "cell_type": "code",
   "execution_count": 2,
   "metadata": {},
   "outputs": [],
   "source": [
    "data_adsmart = pd.read_csv(\"AdSmartABdata.csv\")"
   ]
  },
  {
   "cell_type": "markdown",
   "metadata": {},
   "source": [
    "Dataset shape"
   ]
  },
  {
   "cell_type": "code",
   "execution_count": 3,
   "metadata": {},
   "outputs": [
    {
     "data": {
      "text/plain": [
       "(8077, 9)"
      ]
     },
     "execution_count": 3,
     "metadata": {},
     "output_type": "execute_result"
    }
   ],
   "source": [
    "data_adsmart.shape"
   ]
  },
  {
   "cell_type": "markdown",
   "metadata": {},
   "source": [
    "Dataset samples"
   ]
  },
  {
   "cell_type": "code",
   "execution_count": 4,
   "metadata": {},
   "outputs": [
    {
     "data": {
      "text/html": [
       "<div>\n",
       "<style scoped>\n",
       "    .dataframe tbody tr th:only-of-type {\n",
       "        vertical-align: middle;\n",
       "    }\n",
       "\n",
       "    .dataframe tbody tr th {\n",
       "        vertical-align: top;\n",
       "    }\n",
       "\n",
       "    .dataframe thead th {\n",
       "        text-align: right;\n",
       "    }\n",
       "</style>\n",
       "<table border=\"1\" class=\"dataframe\">\n",
       "  <thead>\n",
       "    <tr style=\"text-align: right;\">\n",
       "      <th></th>\n",
       "      <th>auction_id</th>\n",
       "      <th>experiment</th>\n",
       "      <th>date</th>\n",
       "      <th>hour</th>\n",
       "      <th>device_make</th>\n",
       "      <th>platform_os</th>\n",
       "      <th>browser</th>\n",
       "      <th>yes</th>\n",
       "      <th>no</th>\n",
       "    </tr>\n",
       "  </thead>\n",
       "  <tbody>\n",
       "    <tr>\n",
       "      <th>0</th>\n",
       "      <td>0008ef63-77a7-448b-bd1e-075f42c55e39</td>\n",
       "      <td>exposed</td>\n",
       "      <td>2020-07-10</td>\n",
       "      <td>8</td>\n",
       "      <td>Generic Smartphone</td>\n",
       "      <td>6</td>\n",
       "      <td>Chrome Mobile</td>\n",
       "      <td>0</td>\n",
       "      <td>0</td>\n",
       "    </tr>\n",
       "    <tr>\n",
       "      <th>1</th>\n",
       "      <td>000eabc5-17ce-4137-8efe-44734d914446</td>\n",
       "      <td>exposed</td>\n",
       "      <td>2020-07-07</td>\n",
       "      <td>10</td>\n",
       "      <td>Generic Smartphone</td>\n",
       "      <td>6</td>\n",
       "      <td>Chrome Mobile</td>\n",
       "      <td>0</td>\n",
       "      <td>0</td>\n",
       "    </tr>\n",
       "    <tr>\n",
       "      <th>2</th>\n",
       "      <td>0016d14a-ae18-4a02-a204-6ba53b52f2ed</td>\n",
       "      <td>exposed</td>\n",
       "      <td>2020-07-05</td>\n",
       "      <td>2</td>\n",
       "      <td>E5823</td>\n",
       "      <td>6</td>\n",
       "      <td>Chrome Mobile WebView</td>\n",
       "      <td>0</td>\n",
       "      <td>1</td>\n",
       "    </tr>\n",
       "    <tr>\n",
       "      <th>3</th>\n",
       "      <td>00187412-2932-4542-a8ef-3633901c98d9</td>\n",
       "      <td>control</td>\n",
       "      <td>2020-07-03</td>\n",
       "      <td>15</td>\n",
       "      <td>Samsung SM-A705FN</td>\n",
       "      <td>6</td>\n",
       "      <td>Facebook</td>\n",
       "      <td>0</td>\n",
       "      <td>0</td>\n",
       "    </tr>\n",
       "    <tr>\n",
       "      <th>4</th>\n",
       "      <td>001a7785-d3fe-4e11-a344-c8735acacc2c</td>\n",
       "      <td>control</td>\n",
       "      <td>2020-07-03</td>\n",
       "      <td>15</td>\n",
       "      <td>Generic Smartphone</td>\n",
       "      <td>6</td>\n",
       "      <td>Chrome Mobile</td>\n",
       "      <td>0</td>\n",
       "      <td>0</td>\n",
       "    </tr>\n",
       "  </tbody>\n",
       "</table>\n",
       "</div>"
      ],
      "text/plain": [
       "                             auction_id experiment        date  hour  \\\n",
       "0  0008ef63-77a7-448b-bd1e-075f42c55e39    exposed  2020-07-10     8   \n",
       "1  000eabc5-17ce-4137-8efe-44734d914446    exposed  2020-07-07    10   \n",
       "2  0016d14a-ae18-4a02-a204-6ba53b52f2ed    exposed  2020-07-05     2   \n",
       "3  00187412-2932-4542-a8ef-3633901c98d9    control  2020-07-03    15   \n",
       "4  001a7785-d3fe-4e11-a344-c8735acacc2c    control  2020-07-03    15   \n",
       "\n",
       "          device_make  platform_os                browser  yes  no  \n",
       "0  Generic Smartphone            6          Chrome Mobile    0   0  \n",
       "1  Generic Smartphone            6          Chrome Mobile    0   0  \n",
       "2               E5823            6  Chrome Mobile WebView    0   1  \n",
       "3   Samsung SM-A705FN            6               Facebook    0   0  \n",
       "4  Generic Smartphone            6          Chrome Mobile    0   0  "
      ]
     },
     "execution_count": 4,
     "metadata": {},
     "output_type": "execute_result"
    }
   ],
   "source": [
    "data_adsmart.head()"
   ]
  },
  {
   "cell_type": "markdown",
   "metadata": {},
   "source": [
    "Dataset information"
   ]
  },
  {
   "cell_type": "code",
   "execution_count": 5,
   "metadata": {},
   "outputs": [
    {
     "name": "stdout",
     "output_type": "stream",
     "text": [
      "<class 'pandas.core.frame.DataFrame'>\n",
      "RangeIndex: 8077 entries, 0 to 8076\n",
      "Data columns (total 9 columns):\n",
      " #   Column       Non-Null Count  Dtype \n",
      "---  ------       --------------  ----- \n",
      " 0   auction_id   8077 non-null   object\n",
      " 1   experiment   8077 non-null   object\n",
      " 2   date         8077 non-null   object\n",
      " 3   hour         8077 non-null   int64 \n",
      " 4   device_make  8077 non-null   object\n",
      " 5   platform_os  8077 non-null   int64 \n",
      " 6   browser      8077 non-null   object\n",
      " 7   yes          8077 non-null   int64 \n",
      " 8   no           8077 non-null   int64 \n",
      "dtypes: int64(4), object(5)\n",
      "memory usage: 568.0+ KB\n"
     ]
    }
   ],
   "source": [
    "data_adsmart.info()"
   ]
  },
  {
   "cell_type": "code",
   "execution_count": 6,
   "metadata": {},
   "outputs": [
    {
     "data": {
      "text/plain": [
       "<matplotlib.axes._subplots.AxesSubplot at 0x7f08ef3cab90>"
      ]
     },
     "execution_count": 6,
     "metadata": {},
     "output_type": "execute_result"
    },
    {
     "data": {
      "image/png": "[encoded data removed]",
      "text/plain": [
       "<Figure size 432x288 with 1 Axes>"
      ]
     },
     "metadata": {
      "needs_background": "light"
     },
     "output_type": "display_data"
    }
   ],
   "source": [
    "data_adsmart['browser'].value_counts().plot.bar()"
   ]
  },
  {
   "cell_type": "markdown",
   "metadata": {},
   "source": [
    "Most users use chrome mobile followed by chrom wabview and samsung internet"
   ]
  },
  {
   "cell_type": "markdown",
   "metadata": {},
   "source": [
    "### Cleaning and transforming dataset"
   ]
  },
  {
   "cell_type": "markdown",
   "metadata": {},
   "source": [
    "All we need for classic A/B testing is experiment groups and their answeres, thus we will drop the rest of the variables"
   ]
  },
  {
   "cell_type": "code",
   "execution_count": 7,
   "metadata": {},
   "outputs": [],
   "source": [
    "data_adsmart_clean = data_adsmart.drop([\n",
    "    'auction_id', 'date', 'hour', 'device_make', 'platform_os', 'browser'], axis=1)"
   ]
  },
  {
   "cell_type": "markdown",
   "metadata": {},
   "source": [
    "Filter out all rows with out responses and transform the responses into on variable"
   ]
  },
  {
   "cell_type": "code",
   "execution_count": 8,
   "metadata": {},
   "outputs": [
    {
     "data": {
      "text/html": [
       "<div>\n",
       "<style scoped>\n",
       "    .dataframe tbody tr th:only-of-type {\n",
       "        vertical-align: middle;\n",
       "    }\n",
       "\n",
       "    .dataframe tbody tr th {\n",
       "        vertical-align: top;\n",
       "    }\n",
       "\n",
       "    .dataframe thead th {\n",
       "        text-align: right;\n",
       "    }\n",
       "</style>\n",
       "<table border=\"1\" class=\"dataframe\">\n",
       "  <thead>\n",
       "    <tr style=\"text-align: right;\">\n",
       "      <th></th>\n",
       "      <th>experiment</th>\n",
       "      <th>yes</th>\n",
       "      <th>no</th>\n",
       "      <th>aware</th>\n",
       "    </tr>\n",
       "  </thead>\n",
       "  <tbody>\n",
       "    <tr>\n",
       "      <th>2</th>\n",
       "      <td>exposed</td>\n",
       "      <td>0</td>\n",
       "      <td>1</td>\n",
       "      <td>0</td>\n",
       "    </tr>\n",
       "    <tr>\n",
       "      <th>16</th>\n",
       "      <td>exposed</td>\n",
       "      <td>1</td>\n",
       "      <td>0</td>\n",
       "      <td>1</td>\n",
       "    </tr>\n",
       "    <tr>\n",
       "      <th>20</th>\n",
       "      <td>exposed</td>\n",
       "      <td>0</td>\n",
       "      <td>1</td>\n",
       "      <td>0</td>\n",
       "    </tr>\n",
       "    <tr>\n",
       "      <th>23</th>\n",
       "      <td>control</td>\n",
       "      <td>1</td>\n",
       "      <td>0</td>\n",
       "      <td>1</td>\n",
       "    </tr>\n",
       "    <tr>\n",
       "      <th>27</th>\n",
       "      <td>control</td>\n",
       "      <td>0</td>\n",
       "      <td>1</td>\n",
       "      <td>0</td>\n",
       "    </tr>\n",
       "    <tr>\n",
       "      <th>...</th>\n",
       "      <td>...</td>\n",
       "      <td>...</td>\n",
       "      <td>...</td>\n",
       "      <td>...</td>\n",
       "    </tr>\n",
       "    <tr>\n",
       "      <th>8059</th>\n",
       "      <td>exposed</td>\n",
       "      <td>1</td>\n",
       "      <td>0</td>\n",
       "      <td>1</td>\n",
       "    </tr>\n",
       "    <tr>\n",
       "      <th>8063</th>\n",
       "      <td>exposed</td>\n",
       "      <td>1</td>\n",
       "      <td>0</td>\n",
       "      <td>1</td>\n",
       "    </tr>\n",
       "    <tr>\n",
       "      <th>8064</th>\n",
       "      <td>control</td>\n",
       "      <td>0</td>\n",
       "      <td>1</td>\n",
       "      <td>0</td>\n",
       "    </tr>\n",
       "    <tr>\n",
       "      <th>8069</th>\n",
       "      <td>control</td>\n",
       "      <td>0</td>\n",
       "      <td>1</td>\n",
       "      <td>0</td>\n",
       "    </tr>\n",
       "    <tr>\n",
       "      <th>8071</th>\n",
       "      <td>exposed</td>\n",
       "      <td>0</td>\n",
       "      <td>1</td>\n",
       "      <td>0</td>\n",
       "    </tr>\n",
       "  </tbody>\n",
       "</table>\n",
       "<p>1243 rows × 4 columns</p>\n",
       "</div>"
      ],
      "text/plain": [
       "     experiment  yes  no  aware\n",
       "2       exposed    0   1      0\n",
       "16      exposed    1   0      1\n",
       "20      exposed    0   1      0\n",
       "23      control    1   0      1\n",
       "27      control    0   1      0\n",
       "...         ...  ...  ..    ...\n",
       "8059    exposed    1   0      1\n",
       "8063    exposed    1   0      1\n",
       "8064    control    0   1      0\n",
       "8069    control    0   1      0\n",
       "8071    exposed    0   1      0\n",
       "\n",
       "[1243 rows x 4 columns]"
      ]
     },
     "execution_count": 8,
     "metadata": {},
     "output_type": "execute_result"
    }
   ],
   "source": [
    "data_adsmart_clean = data_adsmart_clean[(data_adsmart_clean['yes'] != 0) | data_adsmart_clean['no'] != 0]\n",
    "data_adsmart_clean['aware'] = 0\n",
    "data_adsmart_clean.loc[data_adsmart_clean['yes'] == 1, 'aware'] = 1\n",
    "data_adsmart_clean.loc[data_adsmart_clean['yes'] == 0, 'aware'] = 0\n",
    "\n",
    "data_adsmart_clean"
   ]
  },
  {
   "cell_type": "markdown",
   "metadata": {},
   "source": [
    "Summarize the data set into count and rate in a pivot table"
   ]
  },
  {
   "cell_type": "code",
   "execution_count": 9,
   "metadata": {},
   "outputs": [
    {
     "data": {
      "text/html": [
       "<div>\n",
       "<style scoped>\n",
       "    .dataframe tbody tr th:only-of-type {\n",
       "        vertical-align: middle;\n",
       "    }\n",
       "\n",
       "    .dataframe tbody tr th {\n",
       "        vertical-align: top;\n",
       "    }\n",
       "\n",
       "    .dataframe thead th {\n",
       "        text-align: right;\n",
       "    }\n",
       "</style>\n",
       "<table border=\"1\" class=\"dataframe\">\n",
       "  <thead>\n",
       "    <tr style=\"text-align: right;\">\n",
       "      <th></th>\n",
       "      <th>aware</th>\n",
       "      <th>not aware</th>\n",
       "      <th>total</th>\n",
       "      <th>rate</th>\n",
       "    </tr>\n",
       "    <tr>\n",
       "      <th>experiment</th>\n",
       "      <th></th>\n",
       "      <th></th>\n",
       "      <th></th>\n",
       "      <th></th>\n",
       "    </tr>\n",
       "  </thead>\n",
       "  <tbody>\n",
       "    <tr>\n",
       "      <th>control</th>\n",
       "      <td>264</td>\n",
       "      <td>322</td>\n",
       "      <td>586</td>\n",
       "      <td>0.450512</td>\n",
       "    </tr>\n",
       "    <tr>\n",
       "      <th>exposed</th>\n",
       "      <td>308</td>\n",
       "      <td>349</td>\n",
       "      <td>657</td>\n",
       "      <td>0.468798</td>\n",
       "    </tr>\n",
       "  </tbody>\n",
       "</table>\n",
       "</div>"
      ],
      "text/plain": [
       "            aware  not aware  total      rate\n",
       "experiment                                   \n",
       "control       264        322    586  0.450512\n",
       "exposed       308        349    657  0.468798"
      ]
     },
     "execution_count": 9,
     "metadata": {},
     "output_type": "execute_result"
    }
   ],
   "source": [
    "ad_summary = data_adsmart_clean.pivot_table(values='aware', index='experiment', aggfunc=np.sum)\n",
    "\n",
    "ad_summary['total'] = data_adsmart_clean.pivot_table(values='aware', index='experiment', aggfunc=lambda x: len(x))\n",
    "ad_summary['not aware'] = ad_summary['total'] - ad_summary['aware']\n",
    "ad_summary['rate'] = data_adsmart_clean.pivot_table(values='aware', index='experiment')\n",
    "ad_summary = ad_summary.reindex(['aware', 'not aware', 'total', 'rate'], axis=1)\n",
    "ad_summary"
   ]
  },
  {
   "cell_type": "markdown",
   "metadata": {},
   "source": [
    "There is a 1.8% difference in conversion rates between the two groups. It is a good sign but this is not enough evidence for us to confidently go with the new design."
   ]
  },
  {
   "cell_type": "markdown",
   "metadata": {},
   "source": [
    "# Comparing the two groups"
   ]
  },
  {
   "cell_type": "markdown",
   "metadata": {},
   "source": [
    "First let's extract response, total and rate of each group"
   ]
  },
  {
   "cell_type": "code",
   "execution_count": 10,
   "metadata": {},
   "outputs": [],
   "source": [
    "e_aware = ad_summary['aware']['exposed']\n",
    "e_total = ad_summary['total']['exposed']\n",
    "e_rate = ad_summary['rate']['exposed']\n",
    "\n",
    "c_aware = ad_summary['aware']['control']\n",
    "c_total = ad_summary['total']['control']\n",
    "c_rate = ad_summary['rate']['control']\n",
    "\n",
    "dif_cr = e_rate - c_rate"
   ]
  },
  {
   "cell_type": "markdown",
   "metadata": {},
   "source": [
    "Plot binomial distribution of the two groups and analyze"
   ]
  },
  {
   "cell_type": "code",
   "execution_count": 11,
   "metadata": {},
   "outputs": [
    {
     "data": {
      "image/png": "[encoded data removed]",
      "text/plain": [
       "<Figure size 864x432 with 1 Axes>"
      ]
     },
     "metadata": {
      "needs_background": "light"
     },
     "output_type": "display_data"
    }
   ],
   "source": [
    "fig, ax = plt.subplots(figsize=(12,6))\n",
    "\n",
    "# we take a spread of 50\n",
    "\n",
    "xC = np.linspace(c_aware - 49, c_aware + 50, 100)\n",
    "yC = scs.binom(c_total, c_rate).pmf(xC)\n",
    "ax.bar(xC, yC, alpha=0.5)\n",
    "\n",
    "xE = np.linspace(e_aware - 49, e_aware + 50, 100)\n",
    "yE = scs.binom(e_total, e_rate).pmf(xE)\n",
    "ax.bar(xE, yE, alpha=0.5)\n",
    "\n",
    "plt.xlabel('awareness')\n",
    "plt.ylabel('probability')\n",
    "plt.show()"
   ]
  },
  {
   "cell_type": "markdown",
   "metadata": {},
   "source": [
    "From the graph we can see that there is a shift in awareness of the two groups. "
   ]
  },
  {
   "cell_type": "markdown",
   "metadata": {},
   "source": [
    "### Module for computing statistical values"
   ]
  },
  {
   "cell_type": "code",
   "execution_count": 12,
   "metadata": {},
   "outputs": [],
   "source": [
    "class ab_stat:\n",
    "    \n",
    "    def __init__(self):\n",
    "        pass\n",
    "    \n",
    "    def pooled_prob(self, num_a, num_b, rate_a, rate_b):\n",
    "        \"\"\"Returns pooled probability for two samples\"\"\"\n",
    "        return (rate_a + rate_a) / (num_a + num_a)\n",
    "\n",
    "\n",
    "    def pooled_SE(self, num_a, num_b, rate_a, rate_b):\n",
    "        \"\"\"Returns the pooled standard error for two samples\"\"\"\n",
    "        p_hat = self.pooled_prob(num_a, num_b, rate_a, rate_b)\n",
    "        SE = np.sqrt(p_hat * (1 - p_hat) * (1 / num_a + 1 / num_b))\n",
    "        return SE\n",
    "\n",
    "    def confidence_interval(self, sample_mean=0, sample_std=1, sample_size=1,\n",
    "                            sig_level=0.05):\n",
    "        \"\"\"Returns the confidence interval as a tuple\"\"\"\n",
    "        z = self.z_val(sig_level)\n",
    "\n",
    "        left = sample_mean - z * sample_std / np.sqrt(sample_size)\n",
    "        right = sample_mean + z * sample_std / np.sqrt(sample_size)\n",
    "\n",
    "        return (left, right)\n",
    "\n",
    "    def ab_dist(self, stderr, d_hat=0, group_type='control'):\n",
    "        \"\"\"Returns a distribution object depending on group type\n",
    "        Examples:\n",
    "        Parameters:\n",
    "            stderr (float): pooled standard error of two independent samples\n",
    "            d_hat (float): the mean difference between two independent samples\n",
    "            group_type (string): 'control' and 'test' are supported\n",
    "        Returns:\n",
    "            dist (scipy.stats distribution object)\n",
    "        \"\"\"\n",
    "        if group_type == 'control':\n",
    "            sample_mean = 0\n",
    "\n",
    "        elif group_type == 'test':\n",
    "            sample_mean = d_hat\n",
    "\n",
    "        # create a normal distribution which is dependent on mean and std dev\n",
    "        dist = scs.norm(sample_mean, stderr)\n",
    "        return dist\n",
    "\n",
    "    def p_val(self, c_total, e_total, bcr, d_hat) :\n",
    "        \"\"\"Returns the p-value for an A/B test\"\"\"\n",
    "        std_a = np.sqrt(bcr * (1 - bcr) / c_total)\n",
    "        std_b = np.sqrt((bcr+d_hat) * (1 - (bcr+d_hat)) / e_total)\n",
    "        z_score = (d_hat) / np.sqrt(std_a**2 + std_b**2)\n",
    "        return  scs.norm().sf(z_score)\n",
    "    \n",
    "    def z_val(self, sig_level=0.05, two_tailed=True):\n",
    "        \"\"\"Returns the z value for a given significance level\"\"\"\n",
    "        z_dist = scs.norm()\n",
    "        if two_tailed:\n",
    "            sig_level = sig_level/2\n",
    "            area = 1 - sig_level\n",
    "        else:\n",
    "            area = 1 - sig_level\n",
    "\n",
    "        z = z_dist.ppf(area)\n",
    "\n",
    "        return z\n",
    "    \n",
    "    def min_sample_size(self, bcr, mde, power=0.8, sig_level=0.05):\n",
    "        \"\"\"Returns the minimum sample size to set up a split test\n",
    "        Arguments:\n",
    "            bcr (float): probability of success for control, sometimes\n",
    "            referred to as baseline conversion rate\n",
    "            mde (float): minimum change in measurement between control\n",
    "            group and test group if alternative hypothesis is true, sometimes\n",
    "            referred to as minimum detectable effect\n",
    "            power (float): probability of rejecting the null hypothesis when the\n",
    "            null hypothesis is false, typically 0.8\n",
    "            sig_level (float): significance level often denoted as alpha,\n",
    "            typically 0.05\n",
    "        Returns:\n",
    "            min_N: minimum sample size (float)\n",
    "        References:\n",
    "            Stanford lecture on sample sizes\n",
    "            http://statweb.stanford.edu/~susan/courses/s141/hopower.pdf\n",
    "        \"\"\"\n",
    "        # standard normal distribution to determine z-values\n",
    "        standard_norm = scs.norm(0, 1)\n",
    "\n",
    "        # find Z_beta from desired power\n",
    "        Z_beta = standard_norm.ppf(power)\n",
    "\n",
    "        # find Z_alpha\n",
    "        Z_alpha = standard_norm.ppf(1-sig_level/2)\n",
    "\n",
    "        # average of probabilities from both groups\n",
    "        pooled_prob = (bcr + bcr+mde) / 2\n",
    "\n",
    "        min_N = (2 * pooled_prob * (1 - pooled_prob) * (Z_beta + Z_alpha)**2\n",
    "                 / mde**2)\n",
    "\n",
    "        return min_N"
   ]
  },
  {
   "cell_type": "markdown",
   "metadata": {},
   "source": [
    "### Module for plotting graphs "
   ]
  },
  {
   "cell_type": "code",
   "execution_count": 13,
   "metadata": {},
   "outputs": [],
   "source": [
    "class ab_plot:\n",
    "    \n",
    "    def __init__(self):\n",
    "        # initiate ab_stat for statistical value computition\n",
    "        self.ab_stat_cal = ab_stat()\n",
    "    \n",
    "    def plot_norm_dist(self, ax, mu, std, sig_level=0.05, label=None):\n",
    "        \"\"\"Adds a normal distribution to the axes provided\n",
    "        Example:\n",
    "            plot_norm_dist(ax, 0, 1)  # plots a standard normal distribution\n",
    "        Parameters:\n",
    "            ax (matplotlib axes)\n",
    "            mu (float): mean of the normal distribution\n",
    "            std (float): standard deviation of the normal distribution\n",
    "        Returns:\n",
    "            None: the function adds a plot to the axes object provided\n",
    "        \"\"\"\n",
    "        x = np.linspace(mu - 12 * std, mu + 12 * std, 1000)\n",
    "        y = scs.norm(mu, std).pdf(x)\n",
    "        ax.plot(x, y, label=label)\n",
    "\n",
    "    def plot_binom_dist(self, ax, n, p, label=None):\n",
    "        \"\"\"Adds a binomial distribution to the axes provided\n",
    "        Example:\n",
    "            plot_binom_dist(ax, 0, 1)  # plots a standard normal distribution\n",
    "        Parameters:\n",
    "            ax (matplotlib axes)\n",
    "            mu (float): mean of the normal distribution\n",
    "            sig (float): standard deviation of the normal distribution\n",
    "        Returns:\n",
    "            None: the function adds a plot to the axes object provided\n",
    "        \"\"\"\n",
    "        x = np.linspace(0, n, n+1)\n",
    "        y = scs.binom(n, p).pmf(x)\n",
    "        ax.plot(x, y, label=label)\n",
    "\n",
    "    def plot_CI(self, ax, mu, s, sig_level=0.05, color='grey'):\n",
    "        \"\"\"Calculates the two-tailed confidence interval and adds the plot to\n",
    "        an axes object.\n",
    "        Example:\n",
    "            plot_CI(ax, mu=0, s=stderr, sig_level=0.05)\n",
    "        Parameters:\n",
    "            ax (matplotlib axes)\n",
    "            mu (float): mean\n",
    "            s (float): standard deviation\n",
    "        Returns:\n",
    "            None: the function adds a plot to the axes object provided\n",
    "        \"\"\"\n",
    "        left, right = self.ab_stat_cal.confidence_interval(sample_mean=mu, sample_std=s,\n",
    "                                          sig_level=sig_level)\n",
    "        ax.axvline(left, c=color, linestyle='--', alpha=0.5)\n",
    "        ax.axvline(right, c=color, linestyle='--', alpha=0.5)\n",
    "\n",
    "\n",
    "    def plot_null(self, ax, stderr):\n",
    "        \"\"\"Plots the null hypothesis distribution where if there is no real change,\n",
    "        the distribution of the differences between the test and the control groups\n",
    "        will be normally distributed.\n",
    "        The confidence band is also plotted.\n",
    "        Example:\n",
    "            plot_null(ax, stderr)\n",
    "        Parameters:\n",
    "            ax (matplotlib axes)\n",
    "            stderr (float): the pooled standard error of the control and test group\n",
    "        Returns:\n",
    "            None: the function adds a plot to the axes object provided\n",
    "        \"\"\"\n",
    "        self.plot_norm_dist(ax, 0, stderr, label=\"Null\")\n",
    "        self.plot_CI(ax, mu=0, s=stderr, sig_level=0.05)\n",
    "\n",
    "\n",
    "    def plot_alt(self, ax, stderr, d_hat):\n",
    "        \"\"\"Plots the alternative hypothesis distribution where if there is a real\n",
    "        change, the distribution of the differences between the test and the\n",
    "        control groups will be normally distributed and centered around d_hat\n",
    "        The confidence band is also plotted.\n",
    "        Example:\n",
    "            plot_alt(ax, stderr, d_hat=0.025)\n",
    "        Parameters:\n",
    "            ax (matplotlib axes)\n",
    "            stderr (float): the pooled standard error of the control and test group\n",
    "        Returns:\n",
    "            None: the function adds a plot to the axes object provided\n",
    "        \"\"\"\n",
    "        self.plot_norm_dist(ax, d_hat, stderr, label=\"Alternative\")\n",
    "\n",
    "\n",
    "    def abplot(self, N_A, N_B, bcr, d_hat, sig_level=0.05, show_power=False,\n",
    "               show_alpha=False, show_beta=False, show_p_value=False,\n",
    "               show_legend=True):\n",
    "        \"\"\"Example plot of AB test\n",
    "        Example:\n",
    "            abplot(n=4000, bcr=0.11, d_hat=0.03)\n",
    "        Parameters:\n",
    "            n (int): total sample size for both control and test groups (N_A + N_B)\n",
    "            bcr (float): base conversion rate; conversion rate of control\n",
    "            d_hat: difference in conversion rate between the control and test\n",
    "                groups, sometimes referred to as **minimal detectable effect** when\n",
    "                calculating minimum sample size or **lift** when discussing\n",
    "                positive improvement desired from launching a change.\n",
    "        Returns:\n",
    "            None: the function plots an AB test as two distributions for\n",
    "            visualization purposes\n",
    "        \"\"\"\n",
    "        # create a plot object\n",
    "        fig, ax = plt.subplots(figsize=(12, 6))\n",
    "\n",
    "        # define parameters to find pooled standard error\n",
    "        X_A = bcr * N_A\n",
    "        X_B = (bcr + d_hat) * N_B\n",
    "        stderr = self.ab_stat_cal.pooled_SE(N_A, N_B, X_A, X_B) \n",
    "        \n",
    "        # plot the distribution of the null and alternative hypothesis\n",
    "        self.plot_null(ax, stderr)\n",
    "        self.plot_alt(ax, stderr, d_hat)\n",
    "\n",
    "        # set extent of plot area\n",
    "        ax.set_xlim(-8 * stderr, 8 * stderr)\n",
    "\n",
    "        # shade areas according to user input\n",
    "        if show_power:\n",
    "            self.show_area(ax, d_hat, stderr, sig_level, area_type='power')\n",
    "        if show_alpha:\n",
    "            self.show_area(ax, d_hat, stderr, sig_level, area_type='alpha')\n",
    "        if show_beta:\n",
    "            self.show_area(ax, d_hat, stderr, sig_level, area_type='beta')\n",
    "\n",
    "\n",
    "        # show p_value based on the binomial distributions for the two groups\n",
    "        if show_p_value:\n",
    "            null = self.ab_stat_cal.ab_dist(stderr, 'control')\n",
    "            p_value = self.ab_stat_cal.p_val(c_total, e_total, bcr, d_hat)  \n",
    "            ax.text(3 * stderr, null.pdf(0),\n",
    "                    'p-value = {0:.3f}'.format(p_value),\n",
    "                    fontsize=12, ha='left')\n",
    "\n",
    "        # option to show legend\n",
    "        if show_legend:\n",
    "            plt.legend()\n",
    "\n",
    "        plt.xlabel('distribution')\n",
    "        plt.ylabel('PDF')\n",
    "        plt.savefig('w4.png')\n",
    "        plt.show()\n",
    "\n",
    "\n",
    "    def show_area(self, ax, d_hat, stderr, sig_level, area_type='power'):\n",
    "        \"\"\"Fill between upper significance boundary and distribution for\n",
    "        alternative hypothesis\n",
    "        \"\"\"\n",
    "        left, right = self.ab_stat_cal.confidence_interval(sample_mean=0, sample_std=stderr,\n",
    "                                          sig_level=sig_level)\n",
    "        x = np.linspace(-12 * stderr, 12 * stderr, 1000)\n",
    "        null = self.ab_stat_cal.ab_dist(stderr, 'control')\n",
    "        alternative = self.ab_stat_cal.ab_dist(stderr, d_hat, 'test')\n",
    "\n",
    "        y_max = max(scs.norm(0, stderr).pdf(x))\n",
    "\n",
    "        # if area_type is power\n",
    "        # Fill between upper significance boundary and distribution for alternative\n",
    "        # hypothesis\n",
    "        if area_type == 'power':\n",
    "            ax.fill_between(x, 0, alternative.pdf(x), color='green', alpha='0.5',\n",
    "                            where=(x > right))\n",
    "            ax.text(-3 * stderr, y_max*0.9,\n",
    "                    'Power = {0:.3f}'.format(1 - alternative.cdf(right)),\n",
    "                    fontsize=12, ha='right', color='green')\n",
    "\n",
    "        # if area_type is alpha\n",
    "        # Fill between upper significance boundary and distribution for null\n",
    "        # hypothesis\n",
    "        if area_type == 'alpha':\n",
    "            ax.fill_between(x, 0, null.pdf(x), color='red', alpha='0.5',\n",
    "                            where=(x > right))\n",
    "            ax.text(-3 * stderr, y_max*0.8,\n",
    "                    'Alpha = {0:.3f}'.format(1 - null.cdf(right)),\n",
    "                    fontsize=12, ha='right', color='red')\n",
    "\n",
    "        # if area_type is beta\n",
    "        # Fill between distribution for alternative hypothesis and upper\n",
    "        # significance boundary\n",
    "        if area_type == 'beta':\n",
    "            ax.fill_between(x, 0, alternative.pdf(x), color='gray', alpha='0.5',\n",
    "                            where=(x < right))\n",
    "            ax.text(-3 * stderr, y_max*0.7,\n",
    "                    'Beta = {0:.3f}'.format(alternative.cdf(right)),\n",
    "                    fontsize=12, ha='right', color='gray')\n",
    "\n",
    "    def ab_confidence_plot(self, c_total, e_total, bcr, d_hat):\n",
    "        std_a = np.sqrt(bcr * (1 - bcr) / c_total)\n",
    "        std_b = np.sqrt((bcr+d_hat) * (1 - (bcr+d_hat)) / e_total)\n",
    "        p = scs.norm(d_hat, np.sqrt(std_a**2 + std_b**2))\n",
    "        x = np.linspace(-0.1, 0.15, 1000)\n",
    "        y = p.pdf(x)\n",
    "        area_under_curve = p.sf(0)\n",
    "\n",
    "        plt.subplots(figsize=(12, 6))\n",
    "        plt.plot(x, y, label=\"PDF\")\n",
    "        plt.fill_between(x, 0, y, where=x>0, label=\"Prob(b>a)\", alpha=0.3)\n",
    "        plt.annotate(f\"Area={area_under_curve:0.3f}\", (0.02, 5))\n",
    "        plt.legend()\n",
    "        plt.xlabel(\"Difference in conversion rate\"); plt.ylabel(\"Prob\");\n",
    "        plt.show()"
   ]
  },
  {
   "cell_type": "markdown",
   "metadata": {},
   "source": [
    "### Plot the two binomila distribution as a normal distribution"
   ]
  },
  {
   "cell_type": "code",
   "execution_count": 14,
   "metadata": {},
   "outputs": [
    {
     "data": {
      "image/png": "[encoded data removed]",
      "text/plain": [
       "<Figure size 864x432 with 1 Axes>"
      ]
     },
     "metadata": {
      "needs_background": "light"
     },
     "output_type": "display_data"
    }
   ],
   "source": [
    "# standard error of the mean for both groups\n",
    "SE_C = np.sqrt(c_rate * (1-c_rate)) / np.sqrt(c_total)\n",
    "SE_E = np.sqrt(e_rate * (1-e_rate)) / np.sqrt(e_total)\n",
    "\n",
    "# plot the null and alternative hypothesis\n",
    "fig, ax = plt.subplots(figsize=(12,6))\n",
    "\n",
    "x = np.linspace(.35, .6, 1000)\n",
    "\n",
    "yC = scs.norm(c_rate, SE_C).pdf(x)\n",
    "ax.plot(x, yC, label='Control')\n",
    "ax.axvline(x=c_rate, c='blue', alpha=0.5, linestyle='--')\n",
    "\n",
    "yE = scs.norm(e_rate, SE_E).pdf(x)\n",
    "ax.plot(x, yE, label='Exposed')\n",
    "ax.axvline(x=e_rate, c='red', alpha=0.5, linestyle='--')\n",
    "\n",
    "plt.legend()\n",
    "plt.xlabel('Awareness Proportion')\n",
    "plt.ylabel('PDF')\n",
    "plt.show()"
   ]
  },
  {
   "cell_type": "markdown",
   "metadata": {},
   "source": [
    "The graph in blue is control group distribution and in orange is exposed group distribution. The dashed vertical line which pass through the peaks are the mean conversion rate for each group."
   ]
  },
  {
   "cell_type": "markdown",
   "metadata": {},
   "source": [
    "## Plotting the Null Hypothesis and the Alternative Hypothesis "
   ]
  },
  {
   "cell_type": "markdown",
   "metadata": {},
   "source": [
    "Make instance of the ab_plot and ab_stat modules"
   ]
  },
  {
   "cell_type": "code",
   "execution_count": 15,
   "metadata": {},
   "outputs": [],
   "source": [
    "ab_plotter = ab_plot()\n",
    "ab_stat_cal = ab_stat()"
   ]
  },
  {
   "cell_type": "markdown",
   "metadata": {},
   "source": [
    "### Power of the test, Beta value, Significant level (alpha) and P-value"
   ]
  },
  {
   "cell_type": "code",
   "execution_count": 16,
   "metadata": {},
   "outputs": [
    {
     "data": {
      "image/png": "[encoded data removed]",
      "text/plain": [
       "<Figure size 864x432 with 1 Axes>"
      ]
     },
     "metadata": {
      "needs_background": "light"
     },
     "output_type": "display_data"
    }
   ],
   "source": [
    "ab_plotter.abplot(\n",
    "    c_total, e_total, c_rate, e_rate-c_rate, show_power=True, show_beta=True, show_alpha=True, show_p_value=True)"
   ]
  },
  {
   "cell_type": "markdown",
   "metadata": {},
   "source": [
    "Null hypothesis is in red and alternative hypothesis is in blue. There is a 1.8 difference between them. The gray dashed lines are confidence interval at 95% (0.05). \n",
    "\n",
    "There is a small value of power size of 0.094. What this is mean is there is a 9.4% probability of not making a type-II error. This is not a good sign that we will accept the outcome of this test.  \n",
    "\n",
    "Beta value is the probability of making a type-II error. 90.6% is high probability making a type-II error\n",
    "\n",
    "We take a significance level of 95%, whcih cross the x-axis at 0.025 on the right tail. We get a p-value of 0.259 that is greater than 0.05(significance level). Based on the p-value we failed to reject the Null hypotesis. But if we analyze the distribution graph and the power value we understand that the sample size taken to condact this testing is very small. There is a very high probability that we will make a type-II error. We need to gather more data to make a sounding conclusion from this testing."
   ]
  },
  {
   "cell_type": "markdown",
   "metadata": {},
   "source": [
    "### Confidence level"
   ]
  },
  {
   "cell_type": "code",
   "execution_count": 17,
   "metadata": {},
   "outputs": [
    {
     "data": {
      "image/png": "[encoded data removed]",
      "text/plain": [
       "<Figure size 864x432 with 1 Axes>"
      ]
     },
     "metadata": {
      "needs_background": "light"
     },
     "output_type": "display_data"
    }
   ],
   "source": [
    "ab_plotter.ab_confidence_plot(c_total, e_total, c_rate, e_rate - c_rate)"
   ]
  },
  {
   "cell_type": "markdown",
   "metadata": {},
   "source": [
    "We get a value of 0.741 confidence interval. What this telling is is 74.1% of time the exposed group has same awareness with the control group and 25.1% of a time the exposed group has different awareness with the control group"
   ]
  },
  {
   "cell_type": "markdown",
   "metadata": {},
   "source": [
    "### Conducting optimal sample size\n",
    "\n",
    "Most people consider power of 80% or 90% (just as we generally use 95% as the confidence level for confidence interval estimates)."
   ]
  },
  {
   "cell_type": "code",
   "execution_count": 18,
   "metadata": {},
   "outputs": [
    {
     "name": "stdout",
     "output_type": "stream",
     "text": [
      "Minimum sample size for 80% power: 11661.0 \n",
      "Minimum sample size for 90% power: 15610.0 \n"
     ]
    }
   ],
   "source": [
    "min_80 = ab_stat_cal.min_sample_size(power=0.8, bcr=c_rate, mde=e_rate - c_rate)\n",
    "min_90 = ab_stat_cal.min_sample_size(power=0.9, bcr=c_rate, mde=e_rate - c_rate)\n",
    "print('Minimum sample size for 80% power: {} '.format(round(min_80)))\n",
    "print('Minimum sample size for 90% power: {} '.format(round(min_90)))"
   ]
  },
  {
   "cell_type": "markdown",
   "metadata": {},
   "source": [
    "By banlancing the power and the time and cost sample gathering takes we will make a decision. Here to have at least 80% power we need to have 11661 sample size."
   ]
  }
 ],
 "metadata": {
  "kernelspec": {
   "display_name": "Python 3",
   "language": "python",
   "name": "python3"
  },
  "language_info": {
   "codemirror_mode": {
    "name": "ipython",
    "version": 3
   },
   "file_extension": ".py",
   "mimetype": "text/x-python",
   "name": "python",
   "nbconvert_exporter": "python",
   "pygments_lexer": "ipython3",
   "version": "3.7.6"
  }
 },
 "nbformat": 4,
 "nbformat_minor": 4
}
