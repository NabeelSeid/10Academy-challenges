{
 "cells": [
  {
   "cell_type": "code",
   "execution_count": 1,
   "metadata": {},
   "outputs": [],
   "source": [
    "#Import some libraries\n",
    "import pandas as pd\n",
    "import numpy as np\n",
    "import matplotlib.pyplot as plt\n",
    "from pylab import rcParams\n",
    "import seaborn as sb\n",
    "sb.set_style('darkgrid')\n",
    "rcParams['figure.figsize'] = 8,8\n",
    "import warnings\n",
    "warnings.filterwarnings(\"ignore\")\n",
    "%matplotlib inline"
   ]
  },
  {
   "cell_type": "code",
   "execution_count": 203,
   "metadata": {},
   "outputs": [],
   "source": [
    "#import data\n",
    "data_train = pd.read_csv('AIMS_Train.csv')\n",
    "data_test=  pd.read_csv('AIMS_Test.csv')\n",
    "data_submission = pd.read_csv('AIMS_SampleSubmission.csv')"
   ]
  },
  {
   "cell_type": "code",
   "execution_count": null,
   "metadata": {
    "jupyter": {
     "source_hidden": true
    }
   },
   "outputs": [],
   "source": [
    "train.head()"
   ]
  },
  {
   "cell_type": "code",
   "execution_count": null,
   "metadata": {
    "jupyter": {
     "source_hidden": true
    }
   },
   "outputs": [],
   "source": [
    "train.tail()"
   ]
  },
  {
   "cell_type": "code",
   "execution_count": 5,
   "metadata": {
    "jupyter": {
     "source_hidden": true
    }
   },
   "outputs": [
    {
     "data": {
      "text/plain": [
       "(646214, 19)"
      ]
     },
     "execution_count": 5,
     "metadata": {},
     "output_type": "execute_result"
    }
   ],
   "source": [
    "train.shape"
   ]
  },
  {
   "cell_type": "code",
   "execution_count": 204,
   "metadata": {},
   "outputs": [
    {
     "name": "stdout",
     "output_type": "stream",
     "text": [
      "<class 'pandas.core.frame.DataFrame'>\n",
      "RangeIndex: 646214 entries, 0 to 646213\n",
      "Data columns (total 19 columns):\n",
      " #   Column          Non-Null Count   Dtype  \n",
      "---  ------          --------------   -----  \n",
      " 0   user_id         646214 non-null  object \n",
      " 1   REGION          391246 non-null  object \n",
      " 2   TENURE          646214 non-null  object \n",
      " 3   MONTANT         419154 non-null  float64\n",
      " 4   FREQUENCE_RECH  419154 non-null  float64\n",
      " 5   REVENUE         428459 non-null  float64\n",
      " 6   ARPU_SEGMENT    428459 non-null  float64\n",
      " 7   FREQUENCE       428459 non-null  float64\n",
      " 8   DATA_VOLUME     327544 non-null  float64\n",
      " 9   ON_NET          409962 non-null  float64\n",
      " 10  ORANGE          377516 non-null  float64\n",
      " 11  TIGO            259060 non-null  float64\n",
      " 12  ZONE1           50406 non-null   float64\n",
      " 13  ZONE2           41072 non-null   float64\n",
      " 14  MRG             646214 non-null  object \n",
      " 15  REGULARITY      646214 non-null  int64  \n",
      " 16  TOP_PACK        375331 non-null  object \n",
      " 17  FREQ_TOP_PACK   375331 non-null  float64\n",
      " 18  CHURN           646214 non-null  int64  \n",
      "dtypes: float64(12), int64(2), object(5)\n",
      "memory usage: 93.7+ MB\n"
     ]
    }
   ],
   "source": [
    "#view the data types in the train data\n",
    "data_train.info()"
   ]
  },
  {
   "cell_type": "code",
   "execution_count": 7,
   "metadata": {},
   "outputs": [],
   "source": [
    "# test.head()"
   ]
  },
  {
   "cell_type": "code",
   "execution_count": 8,
   "metadata": {},
   "outputs": [],
   "source": [
    "# test.tail()"
   ]
  },
  {
   "cell_type": "code",
   "execution_count": 9,
   "metadata": {},
   "outputs": [],
   "source": [
    "# test.shape"
   ]
  },
  {
   "cell_type": "code",
   "execution_count": 205,
   "metadata": {},
   "outputs": [
    {
     "name": "stdout",
     "output_type": "stream",
     "text": [
      "<class 'pandas.core.frame.DataFrame'>\n",
      "RangeIndex: 114038 entries, 0 to 114037\n",
      "Data columns (total 18 columns):\n",
      " #   Column          Non-Null Count   Dtype  \n",
      "---  ------          --------------   -----  \n",
      " 0   user_id         114038 non-null  object \n",
      " 1   REGION          69081 non-null   object \n",
      " 2   TENURE          114038 non-null  object \n",
      " 3   MONTANT         74135 non-null   float64\n",
      " 4   FREQUENCE_RECH  74135 non-null   float64\n",
      " 5   REVENUE         75854 non-null   float64\n",
      " 6   ARPU_SEGMENT    75854 non-null   float64\n",
      " 7   FREQUENCE       75854 non-null   float64\n",
      " 8   DATA_VOLUME     58049 non-null   float64\n",
      " 9   ON_NET          72436 non-null   float64\n",
      " 10  ORANGE          66823 non-null   float64\n",
      " 11  TIGO            45908 non-null   float64\n",
      " 12  ZONE1           9011 non-null    float64\n",
      " 13  ZONE2           7217 non-null    float64\n",
      " 14  MRG             114038 non-null  object \n",
      " 15  REGULARITY      114038 non-null  int64  \n",
      " 16  TOP_PACK        66425 non-null   object \n",
      " 17  FREQ_TOP_PACK   66425 non-null   float64\n",
      "dtypes: float64(12), int64(1), object(5)\n",
      "memory usage: 15.7+ MB\n"
     ]
    }
   ],
   "source": [
    "data_test.info()"
   ]
  },
  {
   "cell_type": "code",
   "execution_count": 11,
   "metadata": {},
   "outputs": [],
   "source": [
    "# submission.head()"
   ]
  },
  {
   "cell_type": "code",
   "execution_count": 206,
   "metadata": {},
   "outputs": [
    {
     "data": {
      "text/plain": [
       "(114038, 2)"
      ]
     },
     "execution_count": 206,
     "metadata": {},
     "output_type": "execute_result"
    }
   ],
   "source": [
    "data_submission.shape"
   ]
  },
  {
   "cell_type": "code",
   "execution_count": 13,
   "metadata": {},
   "outputs": [],
   "source": [
    "#Check how many levels are involved in each of the categorical features (object)"
   ]
  },
  {
   "cell_type": "code",
   "execution_count": null,
   "metadata": {
    "jupyter": {
     "source_hidden": true
    }
   },
   "outputs": [],
   "source": [
    "print(train['REGION'].value_counts())\n",
    "plt.figure(figsize=(10,5))\n",
    "train['REGION'].value_counts(normalize=True).plot(kind='bar')\n",
    "plt.ylabel('counts')\n",
    "plt.xlabel('REGION')"
   ]
  },
  {
   "cell_type": "code",
   "execution_count": null,
   "metadata": {
    "jupyter": {
     "source_hidden": true
    }
   },
   "outputs": [],
   "source": [
    "print(train['TENURE'].value_counts())\n",
    "plt.figure(figsize=(10,5))\n",
    "train['TENURE'].value_counts(normalize=True).plot(kind='bar')\n",
    "plt.ylabel('counts')\n",
    "plt.xlabel('TENURE')"
   ]
  },
  {
   "cell_type": "code",
   "execution_count": null,
   "metadata": {
    "jupyter": {
     "source_hidden": true
    }
   },
   "outputs": [],
   "source": [
    "print(train['MRG'].value_counts())\n",
    "plt.figure(figsize=(10,5))\n",
    "train['MRG'].value_counts(normalize=True).plot(kind='bar')\n",
    "plt.ylabel('counts')\n",
    "plt.xlabel('MRG')"
   ]
  },
  {
   "cell_type": "code",
   "execution_count": null,
   "metadata": {
    "jupyter": {
     "source_hidden": true
    }
   },
   "outputs": [],
   "source": [
    "#probaly not the best way to visualize this\n",
    "print(train['TOP_PACK'].value_counts())\n",
    "plt.figure(figsize=(10,5))\n",
    "train['TOP_PACK'].value_counts(normalize=True).plot(kind='bar')\n",
    "plt.ylabel('counts')\n",
    "plt.xlabel('TOP_PACK')"
   ]
  },
  {
   "cell_type": "code",
   "execution_count": null,
   "metadata": {
    "jupyter": {
     "source_hidden": true
    }
   },
   "outputs": [],
   "source": [
    "#Check if the predictor class is balanced \n",
    "print(train['CHURN'].value_counts())\n",
    "plt.figure(figsize=(10,5))\n",
    "train['CHURN'].value_counts(normalize=True).plot(kind='bar')\n",
    "plt.ylabel('counts')\n",
    "plt.xlabel('Churn')"
   ]
  },
  {
   "cell_type": "code",
   "execution_count": 207,
   "metadata": {},
   "outputs": [
    {
     "data": {
      "text/html": [
       "<div>\n",
       "<style scoped>\n",
       "    .dataframe tbody tr th:only-of-type {\n",
       "        vertical-align: middle;\n",
       "    }\n",
       "\n",
       "    .dataframe tbody tr th {\n",
       "        vertical-align: top;\n",
       "    }\n",
       "\n",
       "    .dataframe thead th {\n",
       "        text-align: right;\n",
       "    }\n",
       "</style>\n",
       "<table border=\"1\" class=\"dataframe\">\n",
       "  <thead>\n",
       "    <tr style=\"text-align: right;\">\n",
       "      <th></th>\n",
       "      <th>count</th>\n",
       "      <th>mean</th>\n",
       "      <th>std</th>\n",
       "      <th>min</th>\n",
       "      <th>25%</th>\n",
       "      <th>50%</th>\n",
       "      <th>75%</th>\n",
       "      <th>max</th>\n",
       "    </tr>\n",
       "  </thead>\n",
       "  <tbody>\n",
       "    <tr>\n",
       "      <th>MONTANT</th>\n",
       "      <td>419154.0</td>\n",
       "      <td>5535.843227</td>\n",
       "      <td>7161.605662</td>\n",
       "      <td>10.0</td>\n",
       "      <td>1000.0</td>\n",
       "      <td>3000.0</td>\n",
       "      <td>7400.0</td>\n",
       "      <td>290500.0</td>\n",
       "    </tr>\n",
       "    <tr>\n",
       "      <th>FREQUENCE_RECH</th>\n",
       "      <td>419154.0</td>\n",
       "      <td>11.529891</td>\n",
       "      <td>13.270572</td>\n",
       "      <td>1.0</td>\n",
       "      <td>2.0</td>\n",
       "      <td>7.0</td>\n",
       "      <td>16.0</td>\n",
       "      <td>132.0</td>\n",
       "    </tr>\n",
       "    <tr>\n",
       "      <th>REVENUE</th>\n",
       "      <td>428459.0</td>\n",
       "      <td>5509.610712</td>\n",
       "      <td>7209.607287</td>\n",
       "      <td>1.0</td>\n",
       "      <td>1000.0</td>\n",
       "      <td>3000.0</td>\n",
       "      <td>7382.0</td>\n",
       "      <td>397968.0</td>\n",
       "    </tr>\n",
       "    <tr>\n",
       "      <th>ARPU_SEGMENT</th>\n",
       "      <td>428459.0</td>\n",
       "      <td>1836.543270</td>\n",
       "      <td>2403.197321</td>\n",
       "      <td>0.0</td>\n",
       "      <td>333.0</td>\n",
       "      <td>1000.0</td>\n",
       "      <td>2461.0</td>\n",
       "      <td>132656.0</td>\n",
       "    </tr>\n",
       "    <tr>\n",
       "      <th>FREQUENCE</th>\n",
       "      <td>428459.0</td>\n",
       "      <td>13.975855</td>\n",
       "      <td>14.689824</td>\n",
       "      <td>1.0</td>\n",
       "      <td>3.0</td>\n",
       "      <td>9.0</td>\n",
       "      <td>20.0</td>\n",
       "      <td>91.0</td>\n",
       "    </tr>\n",
       "    <tr>\n",
       "      <th>DATA_VOLUME</th>\n",
       "      <td>327544.0</td>\n",
       "      <td>3372.704974</td>\n",
       "      <td>13410.777186</td>\n",
       "      <td>0.0</td>\n",
       "      <td>0.0</td>\n",
       "      <td>260.0</td>\n",
       "      <td>2875.0</td>\n",
       "      <td>1823866.0</td>\n",
       "    </tr>\n",
       "    <tr>\n",
       "      <th>ON_NET</th>\n",
       "      <td>409962.0</td>\n",
       "      <td>277.649655</td>\n",
       "      <td>868.891990</td>\n",
       "      <td>0.0</td>\n",
       "      <td>5.0</td>\n",
       "      <td>27.0</td>\n",
       "      <td>157.0</td>\n",
       "      <td>36687.0</td>\n",
       "    </tr>\n",
       "    <tr>\n",
       "      <th>ORANGE</th>\n",
       "      <td>377516.0</td>\n",
       "      <td>95.274982</td>\n",
       "      <td>202.764409</td>\n",
       "      <td>0.0</td>\n",
       "      <td>7.0</td>\n",
       "      <td>29.0</td>\n",
       "      <td>99.0</td>\n",
       "      <td>6721.0</td>\n",
       "    </tr>\n",
       "    <tr>\n",
       "      <th>TIGO</th>\n",
       "      <td>259060.0</td>\n",
       "      <td>23.070601</td>\n",
       "      <td>63.219602</td>\n",
       "      <td>0.0</td>\n",
       "      <td>2.0</td>\n",
       "      <td>6.0</td>\n",
       "      <td>20.0</td>\n",
       "      <td>4174.0</td>\n",
       "    </tr>\n",
       "    <tr>\n",
       "      <th>ZONE1</th>\n",
       "      <td>50406.0</td>\n",
       "      <td>7.987779</td>\n",
       "      <td>39.546312</td>\n",
       "      <td>0.0</td>\n",
       "      <td>0.0</td>\n",
       "      <td>1.0</td>\n",
       "      <td>4.0</td>\n",
       "      <td>1867.0</td>\n",
       "    </tr>\n",
       "    <tr>\n",
       "      <th>ZONE2</th>\n",
       "      <td>41072.0</td>\n",
       "      <td>7.547478</td>\n",
       "      <td>33.370589</td>\n",
       "      <td>0.0</td>\n",
       "      <td>0.0</td>\n",
       "      <td>2.0</td>\n",
       "      <td>5.0</td>\n",
       "      <td>1796.0</td>\n",
       "    </tr>\n",
       "    <tr>\n",
       "      <th>REGULARITY</th>\n",
       "      <td>646214.0</td>\n",
       "      <td>28.038812</td>\n",
       "      <td>22.282758</td>\n",
       "      <td>1.0</td>\n",
       "      <td>6.0</td>\n",
       "      <td>24.0</td>\n",
       "      <td>51.0</td>\n",
       "      <td>62.0</td>\n",
       "    </tr>\n",
       "    <tr>\n",
       "      <th>FREQ_TOP_PACK</th>\n",
       "      <td>375331.0</td>\n",
       "      <td>9.284301</td>\n",
       "      <td>12.350381</td>\n",
       "      <td>1.0</td>\n",
       "      <td>2.0</td>\n",
       "      <td>5.0</td>\n",
       "      <td>12.0</td>\n",
       "      <td>629.0</td>\n",
       "    </tr>\n",
       "    <tr>\n",
       "      <th>CHURN</th>\n",
       "      <td>646214.0</td>\n",
       "      <td>0.187712</td>\n",
       "      <td>0.390482</td>\n",
       "      <td>0.0</td>\n",
       "      <td>0.0</td>\n",
       "      <td>0.0</td>\n",
       "      <td>0.0</td>\n",
       "      <td>1.0</td>\n",
       "    </tr>\n",
       "  </tbody>\n",
       "</table>\n",
       "</div>"
      ],
      "text/plain": [
       "                   count         mean           std   min     25%     50%  \\\n",
       "MONTANT         419154.0  5535.843227   7161.605662  10.0  1000.0  3000.0   \n",
       "FREQUENCE_RECH  419154.0    11.529891     13.270572   1.0     2.0     7.0   \n",
       "REVENUE         428459.0  5509.610712   7209.607287   1.0  1000.0  3000.0   \n",
       "ARPU_SEGMENT    428459.0  1836.543270   2403.197321   0.0   333.0  1000.0   \n",
       "FREQUENCE       428459.0    13.975855     14.689824   1.0     3.0     9.0   \n",
       "DATA_VOLUME     327544.0  3372.704974  13410.777186   0.0     0.0   260.0   \n",
       "ON_NET          409962.0   277.649655    868.891990   0.0     5.0    27.0   \n",
       "ORANGE          377516.0    95.274982    202.764409   0.0     7.0    29.0   \n",
       "TIGO            259060.0    23.070601     63.219602   0.0     2.0     6.0   \n",
       "ZONE1            50406.0     7.987779     39.546312   0.0     0.0     1.0   \n",
       "ZONE2            41072.0     7.547478     33.370589   0.0     0.0     2.0   \n",
       "REGULARITY      646214.0    28.038812     22.282758   1.0     6.0    24.0   \n",
       "FREQ_TOP_PACK   375331.0     9.284301     12.350381   1.0     2.0     5.0   \n",
       "CHURN           646214.0     0.187712      0.390482   0.0     0.0     0.0   \n",
       "\n",
       "                   75%        max  \n",
       "MONTANT         7400.0   290500.0  \n",
       "FREQUENCE_RECH    16.0      132.0  \n",
       "REVENUE         7382.0   397968.0  \n",
       "ARPU_SEGMENT    2461.0   132656.0  \n",
       "FREQUENCE         20.0       91.0  \n",
       "DATA_VOLUME     2875.0  1823866.0  \n",
       "ON_NET           157.0    36687.0  \n",
       "ORANGE            99.0     6721.0  \n",
       "TIGO              20.0     4174.0  \n",
       "ZONE1              4.0     1867.0  \n",
       "ZONE2              5.0     1796.0  \n",
       "REGULARITY        51.0       62.0  \n",
       "FREQ_TOP_PACK     12.0      629.0  \n",
       "CHURN              0.0        1.0  "
      ]
     },
     "execution_count": 207,
     "metadata": {},
     "output_type": "execute_result"
    }
   ],
   "source": [
    "#Check summary of numerical fields\n",
    "data_train.select_dtypes(include=['int64', 'float64']).describe().T"
   ]
  },
  {
   "cell_type": "code",
   "execution_count": 208,
   "metadata": {},
   "outputs": [
    {
     "data": {
      "text/plain": [
       "user_id                0\n",
       "REGION            254968\n",
       "TENURE                 0\n",
       "MONTANT           227060\n",
       "FREQUENCE_RECH    227060\n",
       "REVENUE           217755\n",
       "ARPU_SEGMENT      217755\n",
       "FREQUENCE         217755\n",
       "DATA_VOLUME       318670\n",
       "ON_NET            236252\n",
       "ORANGE            268698\n",
       "TIGO              387154\n",
       "ZONE1             595808\n",
       "ZONE2             605142\n",
       "MRG                    0\n",
       "REGULARITY             0\n",
       "TOP_PACK          270883\n",
       "FREQ_TOP_PACK     270883\n",
       "CHURN                  0\n",
       "dtype: int64"
      ]
     },
     "execution_count": 208,
     "metadata": {},
     "output_type": "execute_result"
    }
   ],
   "source": [
    "#Check for missing values in training data\n",
    "data_train.isnull().sum()"
   ]
  },
  {
   "cell_type": "code",
   "execution_count": 209,
   "metadata": {},
   "outputs": [
    {
     "data": {
      "text/plain": [
       "user_id                0\n",
       "REGION             44957\n",
       "TENURE                 0\n",
       "MONTANT            39903\n",
       "FREQUENCE_RECH     39903\n",
       "REVENUE            38184\n",
       "ARPU_SEGMENT       38184\n",
       "FREQUENCE          38184\n",
       "DATA_VOLUME        55989\n",
       "ON_NET             41602\n",
       "ORANGE             47215\n",
       "TIGO               68130\n",
       "ZONE1             105027\n",
       "ZONE2             106821\n",
       "MRG                    0\n",
       "REGULARITY             0\n",
       "TOP_PACK           47613\n",
       "FREQ_TOP_PACK      47613\n",
       "dtype: int64"
      ]
     },
     "execution_count": 209,
     "metadata": {},
     "output_type": "execute_result"
    }
   ],
   "source": [
    "#Check for missing values in test data\n",
    "data_test.isnull().sum()"
   ]
  },
  {
   "cell_type": "code",
   "execution_count": 22,
   "metadata": {},
   "outputs": [],
   "source": [
    "#We will drop REGION, TOP_PACK, and MRG\n",
    "#We will also replace the missing values for the numerical columns with their means (averages)"
   ]
  },
  {
   "cell_type": "code",
   "execution_count": 210,
   "metadata": {},
   "outputs": [],
   "source": [
    "data_train.drop(columns=['REGION', 'MRG', 'TOP_PACK', 'ZONE1', 'ZONE2'], inplace=True) #drop these columns"
   ]
  },
  {
   "cell_type": "code",
   "execution_count": null,
   "metadata": {
    "jupyter": {
     "source_hidden": true
    }
   },
   "outputs": [],
   "source": [
    "train.head()"
   ]
  },
  {
   "cell_type": "code",
   "execution_count": 211,
   "metadata": {},
   "outputs": [],
   "source": [
    "data_test.drop(columns=['REGION', 'MRG', 'TOP_PACK', 'ZONE1', 'ZONE2'], inplace=True)"
   ]
  },
  {
   "cell_type": "code",
   "execution_count": null,
   "metadata": {
    "jupyter": {
     "source_hidden": true
    }
   },
   "outputs": [],
   "source": [
    "test.head()"
   ]
  },
  {
   "cell_type": "code",
   "execution_count": 212,
   "metadata": {},
   "outputs": [
    {
     "data": {
      "text/plain": [
       "(646214, 14)"
      ]
     },
     "execution_count": 212,
     "metadata": {},
     "output_type": "execute_result"
    }
   ],
   "source": [
    "data_train.shape"
   ]
  },
  {
   "cell_type": "code",
   "execution_count": 213,
   "metadata": {},
   "outputs": [],
   "source": [
    "train = data_train[data_train.isnull().sum(axis=1) < 7]"
   ]
  },
  {
   "cell_type": "code",
   "execution_count": 248,
   "metadata": {},
   "outputs": [],
   "source": [
    "test = data_test"
   ]
  },
  {
   "cell_type": "code",
   "execution_count": 27,
   "metadata": {},
   "outputs": [],
   "source": [
    "#Fill NAs for train data"
   ]
  },
  {
   "cell_type": "code",
   "execution_count": 214,
   "metadata": {},
   "outputs": [],
   "source": [
    "train['MONTANT'].fillna((train['MONTANT'].mean()), inplace=True)\n",
    "train['FREQUENCE_RECH'].fillna((train['FREQUENCE_RECH'].mean()), inplace=True)\n",
    "train['REVENUE'].fillna((train['REVENUE'].mean()), inplace=True)\n",
    "train['ARPU_SEGMENT'].fillna((train['ARPU_SEGMENT'].mean()), inplace=True)\n",
    "train['FREQUENCE'].fillna((train['FREQUENCE'].mean()), inplace=True)\n",
    "train['DATA_VOLUME'].fillna((train['DATA_VOLUME'].mean()), inplace=True)\n",
    "train['ON_NET'].fillna((train['ON_NET'].mean()), inplace=True)\n",
    "train['ORANGE'].fillna((train['ORANGE'].mean()), inplace=True)\n",
    "train['TIGO'].fillna((train['TIGO'].mean()), inplace=True)\n",
    "# train['ZONE1'].fillna((train['ZONE1'].mean()), inplace=True)\n",
    "# train['ZONE2'].fillna((train['ZONE2'].mean()), inplace=True)\n",
    "train['FREQ_TOP_PACK'].fillna((train['FREQ_TOP_PACK'].mean()), inplace=True)"
   ]
  },
  {
   "cell_type": "code",
   "execution_count": 29,
   "metadata": {},
   "outputs": [
    {
     "data": {
      "text/html": [
       "<div>\n",
       "<style scoped>\n",
       "    .dataframe tbody tr th:only-of-type {\n",
       "        vertical-align: middle;\n",
       "    }\n",
       "\n",
       "    .dataframe tbody tr th {\n",
       "        vertical-align: top;\n",
       "    }\n",
       "\n",
       "    .dataframe thead th {\n",
       "        text-align: right;\n",
       "    }\n",
       "</style>\n",
       "<table border=\"1\" class=\"dataframe\">\n",
       "  <thead>\n",
       "    <tr style=\"text-align: right;\">\n",
       "      <th></th>\n",
       "      <th>user_id</th>\n",
       "      <th>TENURE</th>\n",
       "      <th>MONTANT</th>\n",
       "      <th>FREQUENCE_RECH</th>\n",
       "      <th>REVENUE</th>\n",
       "      <th>ARPU_SEGMENT</th>\n",
       "      <th>FREQUENCE</th>\n",
       "      <th>DATA_VOLUME</th>\n",
       "      <th>ON_NET</th>\n",
       "      <th>ORANGE</th>\n",
       "      <th>TIGO</th>\n",
       "      <th>ZONE1</th>\n",
       "      <th>ZONE2</th>\n",
       "      <th>REGULARITY</th>\n",
       "      <th>FREQ_TOP_PACK</th>\n",
       "      <th>CHURN</th>\n",
       "    </tr>\n",
       "  </thead>\n",
       "  <tbody>\n",
       "    <tr>\n",
       "      <th>0</th>\n",
       "      <td>51d5367a58953904c14238c4dd7393f5c4fd0a88</td>\n",
       "      <td>K &gt; 24 month</td>\n",
       "      <td>1000.000000</td>\n",
       "      <td>1.000000</td>\n",
       "      <td>990.000000</td>\n",
       "      <td>330.00000</td>\n",
       "      <td>1.000000</td>\n",
       "      <td>97.000000</td>\n",
       "      <td>1.000000</td>\n",
       "      <td>95.274982</td>\n",
       "      <td>23.070601</td>\n",
       "      <td>7.987779</td>\n",
       "      <td>7.547478</td>\n",
       "      <td>22</td>\n",
       "      <td>1.000000</td>\n",
       "      <td>0</td>\n",
       "    </tr>\n",
       "    <tr>\n",
       "      <th>1</th>\n",
       "      <td>3322a4900689f7f3cb14b8f9ea00778853f02d75</td>\n",
       "      <td>K &gt; 24 month</td>\n",
       "      <td>5535.843227</td>\n",
       "      <td>11.529891</td>\n",
       "      <td>5509.610712</td>\n",
       "      <td>1836.54327</td>\n",
       "      <td>13.975855</td>\n",
       "      <td>223.000000</td>\n",
       "      <td>277.649655</td>\n",
       "      <td>95.274982</td>\n",
       "      <td>23.070601</td>\n",
       "      <td>7.987779</td>\n",
       "      <td>7.547478</td>\n",
       "      <td>4</td>\n",
       "      <td>9.284301</td>\n",
       "      <td>0</td>\n",
       "    </tr>\n",
       "    <tr>\n",
       "      <th>2</th>\n",
       "      <td>3b00ec4bfcc855c6f39b14a722e47ec6d15607e7</td>\n",
       "      <td>K &gt; 24 month</td>\n",
       "      <td>700.000000</td>\n",
       "      <td>5.000000</td>\n",
       "      <td>1010.000000</td>\n",
       "      <td>337.00000</td>\n",
       "      <td>7.000000</td>\n",
       "      <td>566.000000</td>\n",
       "      <td>1.000000</td>\n",
       "      <td>3.000000</td>\n",
       "      <td>15.000000</td>\n",
       "      <td>0.000000</td>\n",
       "      <td>7.547478</td>\n",
       "      <td>8</td>\n",
       "      <td>3.000000</td>\n",
       "      <td>0</td>\n",
       "    </tr>\n",
       "    <tr>\n",
       "      <th>3</th>\n",
       "      <td>98c44b62c33c6a1d9dbcf5e918868419f249c4a8</td>\n",
       "      <td>K &gt; 24 month</td>\n",
       "      <td>5535.843227</td>\n",
       "      <td>11.529891</td>\n",
       "      <td>5509.610712</td>\n",
       "      <td>1836.54327</td>\n",
       "      <td>13.975855</td>\n",
       "      <td>3372.704974</td>\n",
       "      <td>277.649655</td>\n",
       "      <td>95.274982</td>\n",
       "      <td>23.070601</td>\n",
       "      <td>7.987779</td>\n",
       "      <td>7.547478</td>\n",
       "      <td>3</td>\n",
       "      <td>9.284301</td>\n",
       "      <td>0</td>\n",
       "    </tr>\n",
       "    <tr>\n",
       "      <th>4</th>\n",
       "      <td>18bd8c41ecb503a2d9137e3f70bc1caf146a266d</td>\n",
       "      <td>K &gt; 24 month</td>\n",
       "      <td>3000.000000</td>\n",
       "      <td>3.000000</td>\n",
       "      <td>2995.000000</td>\n",
       "      <td>998.00000</td>\n",
       "      <td>3.000000</td>\n",
       "      <td>3372.704974</td>\n",
       "      <td>277.649655</td>\n",
       "      <td>33.000000</td>\n",
       "      <td>23.070601</td>\n",
       "      <td>7.987779</td>\n",
       "      <td>7.547478</td>\n",
       "      <td>9</td>\n",
       "      <td>9.284301</td>\n",
       "      <td>0</td>\n",
       "    </tr>\n",
       "  </tbody>\n",
       "</table>\n",
       "</div>"
      ],
      "text/plain": [
       "                                    user_id        TENURE      MONTANT  \\\n",
       "0  51d5367a58953904c14238c4dd7393f5c4fd0a88  K > 24 month  1000.000000   \n",
       "1  3322a4900689f7f3cb14b8f9ea00778853f02d75  K > 24 month  5535.843227   \n",
       "2  3b00ec4bfcc855c6f39b14a722e47ec6d15607e7  K > 24 month   700.000000   \n",
       "3  98c44b62c33c6a1d9dbcf5e918868419f249c4a8  K > 24 month  5535.843227   \n",
       "4  18bd8c41ecb503a2d9137e3f70bc1caf146a266d  K > 24 month  3000.000000   \n",
       "\n",
       "   FREQUENCE_RECH      REVENUE  ARPU_SEGMENT  FREQUENCE  DATA_VOLUME  \\\n",
       "0        1.000000   990.000000     330.00000   1.000000    97.000000   \n",
       "1       11.529891  5509.610712    1836.54327  13.975855   223.000000   \n",
       "2        5.000000  1010.000000     337.00000   7.000000   566.000000   \n",
       "3       11.529891  5509.610712    1836.54327  13.975855  3372.704974   \n",
       "4        3.000000  2995.000000     998.00000   3.000000  3372.704974   \n",
       "\n",
       "       ON_NET     ORANGE       TIGO     ZONE1     ZONE2  REGULARITY  \\\n",
       "0    1.000000  95.274982  23.070601  7.987779  7.547478          22   \n",
       "1  277.649655  95.274982  23.070601  7.987779  7.547478           4   \n",
       "2    1.000000   3.000000  15.000000  0.000000  7.547478           8   \n",
       "3  277.649655  95.274982  23.070601  7.987779  7.547478           3   \n",
       "4  277.649655  33.000000  23.070601  7.987779  7.547478           9   \n",
       "\n",
       "   FREQ_TOP_PACK  CHURN  \n",
       "0       1.000000      0  \n",
       "1       9.284301      0  \n",
       "2       3.000000      0  \n",
       "3       9.284301      0  \n",
       "4       9.284301      0  "
      ]
     },
     "execution_count": 29,
     "metadata": {},
     "output_type": "execute_result"
    }
   ],
   "source": [
    "train.head()"
   ]
  },
  {
   "cell_type": "code",
   "execution_count": 215,
   "metadata": {},
   "outputs": [
    {
     "data": {
      "text/plain": [
       "user_id           0\n",
       "TENURE            0\n",
       "MONTANT           0\n",
       "FREQUENCE_RECH    0\n",
       "REVENUE           0\n",
       "ARPU_SEGMENT      0\n",
       "FREQUENCE         0\n",
       "DATA_VOLUME       0\n",
       "ON_NET            0\n",
       "ORANGE            0\n",
       "TIGO              0\n",
       "REGULARITY        0\n",
       "FREQ_TOP_PACK     0\n",
       "CHURN             0\n",
       "dtype: int64"
      ]
     },
     "execution_count": 215,
     "metadata": {},
     "output_type": "execute_result"
    }
   ],
   "source": [
    "train.isnull().sum()"
   ]
  },
  {
   "cell_type": "code",
   "execution_count": 31,
   "metadata": {},
   "outputs": [],
   "source": [
    "#Fill NAs for test data"
   ]
  },
  {
   "cell_type": "code",
   "execution_count": 249,
   "metadata": {},
   "outputs": [],
   "source": [
    "test['MONTANT'].fillna((test['MONTANT'].mean()), inplace=True)\n",
    "test['FREQUENCE_RECH'].fillna((test['FREQUENCE_RECH'].mean()), inplace=True)\n",
    "test['REVENUE'].fillna((test['REVENUE'].mean()), inplace=True)\n",
    "test['ARPU_SEGMENT'].fillna((test['ARPU_SEGMENT'].mean()), inplace=True)\n",
    "test['FREQUENCE'].fillna((test['FREQUENCE'].mean()), inplace=True)\n",
    "test['DATA_VOLUME'].fillna((test['DATA_VOLUME'].mean()), inplace=True)\n",
    "test['ON_NET'].fillna((test['ON_NET'].mean()), inplace=True)\n",
    "test['ORANGE'].fillna((test['ORANGE'].mean()), inplace=True)\n",
    "test['TIGO'].fillna((test['TIGO'].mean()), inplace=True)\n",
    "# test['ZONE1'].fillna((test['ZONE1'].mean()), inplace=True)\n",
    "# test['ZONE2'].fillna((test['ZONE2'].mean()), inplace=True)\n",
    "test['FREQ_TOP_PACK'].fillna((test['FREQ_TOP_PACK'].mean()), inplace=True)"
   ]
  },
  {
   "cell_type": "code",
   "execution_count": 221,
   "metadata": {},
   "outputs": [
    {
     "data": {
      "text/html": [
       "<div>\n",
       "<style scoped>\n",
       "    .dataframe tbody tr th:only-of-type {\n",
       "        vertical-align: middle;\n",
       "    }\n",
       "\n",
       "    .dataframe tbody tr th {\n",
       "        vertical-align: top;\n",
       "    }\n",
       "\n",
       "    .dataframe thead th {\n",
       "        text-align: right;\n",
       "    }\n",
       "</style>\n",
       "<table border=\"1\" class=\"dataframe\">\n",
       "  <thead>\n",
       "    <tr style=\"text-align: right;\">\n",
       "      <th></th>\n",
       "      <th>user_id</th>\n",
       "      <th>TENURE</th>\n",
       "      <th>MONTANT</th>\n",
       "      <th>FREQUENCE_RECH</th>\n",
       "      <th>REVENUE</th>\n",
       "      <th>ARPU_SEGMENT</th>\n",
       "      <th>FREQUENCE</th>\n",
       "      <th>DATA_VOLUME</th>\n",
       "      <th>ON_NET</th>\n",
       "      <th>ORANGE</th>\n",
       "      <th>TIGO</th>\n",
       "      <th>REGULARITY</th>\n",
       "      <th>FREQ_TOP_PACK</th>\n",
       "    </tr>\n",
       "  </thead>\n",
       "  <tbody>\n",
       "    <tr>\n",
       "      <th>0</th>\n",
       "      <td>c1b31e7cef249f2b777d934886b787a433029263</td>\n",
       "      <td>K &gt; 24 month</td>\n",
       "      <td>10600.0</td>\n",
       "      <td>18.0</td>\n",
       "      <td>11099.0</td>\n",
       "      <td>3700.0</td>\n",
       "      <td>22.0</td>\n",
       "      <td>4004.000000</td>\n",
       "      <td>60.0</td>\n",
       "      <td>123.000000</td>\n",
       "      <td>19.000000</td>\n",
       "      <td>61</td>\n",
       "      <td>9.0</td>\n",
       "    </tr>\n",
       "    <tr>\n",
       "      <th>2</th>\n",
       "      <td>d743faaf50bbc43e02a08a2c2f4326f6d368fb25</td>\n",
       "      <td>K &gt; 24 month</td>\n",
       "      <td>17900.0</td>\n",
       "      <td>36.0</td>\n",
       "      <td>18405.0</td>\n",
       "      <td>6135.0</td>\n",
       "      <td>44.0</td>\n",
       "      <td>0.000000</td>\n",
       "      <td>446.0</td>\n",
       "      <td>50.000000</td>\n",
       "      <td>28.000000</td>\n",
       "      <td>62</td>\n",
       "      <td>9.0</td>\n",
       "    </tr>\n",
       "    <tr>\n",
       "      <th>3</th>\n",
       "      <td>c4e45ed21d5e2f64146b95fecbbb6b24740f803c</td>\n",
       "      <td>K &gt; 24 month</td>\n",
       "      <td>10000.0</td>\n",
       "      <td>10.0</td>\n",
       "      <td>10001.0</td>\n",
       "      <td>3334.0</td>\n",
       "      <td>27.0</td>\n",
       "      <td>3824.996588</td>\n",
       "      <td>0.0</td>\n",
       "      <td>93.000000</td>\n",
       "      <td>8.000000</td>\n",
       "      <td>45</td>\n",
       "      <td>12.0</td>\n",
       "    </tr>\n",
       "    <tr>\n",
       "      <th>4</th>\n",
       "      <td>96c6a822243654ae1fe5f5f887089681f806cb46</td>\n",
       "      <td>K &gt; 24 month</td>\n",
       "      <td>500.0</td>\n",
       "      <td>1.0</td>\n",
       "      <td>500.0</td>\n",
       "      <td>167.0</td>\n",
       "      <td>1.0</td>\n",
       "      <td>3824.996588</td>\n",
       "      <td>8.0</td>\n",
       "      <td>14.000000</td>\n",
       "      <td>23.083612</td>\n",
       "      <td>8</td>\n",
       "      <td>1.0</td>\n",
       "    </tr>\n",
       "    <tr>\n",
       "      <th>7</th>\n",
       "      <td>ac8b3d775c3a2adb6859dc5c6498591aa0a904b0</td>\n",
       "      <td>K &gt; 24 month</td>\n",
       "      <td>4000.0</td>\n",
       "      <td>4.0</td>\n",
       "      <td>4008.0</td>\n",
       "      <td>1336.0</td>\n",
       "      <td>7.0</td>\n",
       "      <td>10268.000000</td>\n",
       "      <td>0.0</td>\n",
       "      <td>96.151264</td>\n",
       "      <td>0.000000</td>\n",
       "      <td>60</td>\n",
       "      <td>4.0</td>\n",
       "    </tr>\n",
       "  </tbody>\n",
       "</table>\n",
       "</div>"
      ],
      "text/plain": [
       "                                    user_id        TENURE  MONTANT  \\\n",
       "0  c1b31e7cef249f2b777d934886b787a433029263  K > 24 month  10600.0   \n",
       "2  d743faaf50bbc43e02a08a2c2f4326f6d368fb25  K > 24 month  17900.0   \n",
       "3  c4e45ed21d5e2f64146b95fecbbb6b24740f803c  K > 24 month  10000.0   \n",
       "4  96c6a822243654ae1fe5f5f887089681f806cb46  K > 24 month    500.0   \n",
       "7  ac8b3d775c3a2adb6859dc5c6498591aa0a904b0  K > 24 month   4000.0   \n",
       "\n",
       "   FREQUENCE_RECH  REVENUE  ARPU_SEGMENT  FREQUENCE   DATA_VOLUME  ON_NET  \\\n",
       "0            18.0  11099.0        3700.0       22.0   4004.000000    60.0   \n",
       "2            36.0  18405.0        6135.0       44.0      0.000000   446.0   \n",
       "3            10.0  10001.0        3334.0       27.0   3824.996588     0.0   \n",
       "4             1.0    500.0         167.0        1.0   3824.996588     8.0   \n",
       "7             4.0   4008.0        1336.0        7.0  10268.000000     0.0   \n",
       "\n",
       "       ORANGE       TIGO  REGULARITY  FREQ_TOP_PACK  \n",
       "0  123.000000  19.000000          61            9.0  \n",
       "2   50.000000  28.000000          62            9.0  \n",
       "3   93.000000   8.000000          45           12.0  \n",
       "4   14.000000  23.083612           8            1.0  \n",
       "7   96.151264   0.000000          60            4.0  "
      ]
     },
     "execution_count": 221,
     "metadata": {},
     "output_type": "execute_result"
    }
   ],
   "source": [
    "test.head()"
   ]
  },
  {
   "cell_type": "code",
   "execution_count": 222,
   "metadata": {},
   "outputs": [
    {
     "data": {
      "text/plain": [
       "user_id           0\n",
       "TENURE            0\n",
       "MONTANT           0\n",
       "FREQUENCE_RECH    0\n",
       "REVENUE           0\n",
       "ARPU_SEGMENT      0\n",
       "FREQUENCE         0\n",
       "DATA_VOLUME       0\n",
       "ON_NET            0\n",
       "ORANGE            0\n",
       "TIGO              0\n",
       "REGULARITY        0\n",
       "FREQ_TOP_PACK     0\n",
       "dtype: int64"
      ]
     },
     "execution_count": 222,
     "metadata": {},
     "output_type": "execute_result"
    }
   ],
   "source": [
    "test.isnull().sum()"
   ]
  },
  {
   "cell_type": "code",
   "execution_count": 327,
   "metadata": {},
   "outputs": [
    {
     "data": {
      "text/plain": [
       "1    403097\n",
       "0    403097\n",
       "Name: CHURN, dtype: int64"
      ]
     },
     "execution_count": 327,
     "metadata": {},
     "output_type": "execute_result"
    },
    {
     "data": {
      "image/png": "[encoded data removed]",
      "text/plain": [
       "<Figure size 432x288 with 1 Axes>"
      ]
     },
     "metadata": {
      "needs_background": "light"
     },
     "output_type": "display_data"
    }
   ],
   "source": [
    "from sklearn.utils import resample\n",
    "\n",
    "sb.barplot([0,1],train.CHURN.value_counts().values)\n",
    "\n",
    "not_churned=train[train.CHURN==0]\n",
    "churned=train[train.CHURN==1]\n",
    "\n",
    "# upsample minority\n",
    "churned_upsampled = resample(churned,\n",
    "                          replace=True, # sample with replacement\n",
    "                          n_samples=len(not_churned), # match number in majority class\n",
    "                          random_state=27) # reproducible results\n",
    "\n",
    "# combine majority and upsampled minority\n",
    "upsampled = pd.concat([not_churned, churned_upsampled])\n",
    "\n",
    "# check new class counts\n",
    "upsampled.CHURN.value_counts()"
   ]
  },
  {
   "cell_type": "markdown",
   "metadata": {},
   "source": [
    "## Machine Learning"
   ]
  },
  {
   "cell_type": "code",
   "execution_count": 223,
   "metadata": {},
   "outputs": [],
   "source": [
    "from sklearn.model_selection import train_test_split,cross_val_score\n",
    "from sklearn.metrics import accuracy_score,confusion_matrix,recall_score,precision_recall_curve, f1_score\n",
    "from sklearn.preprocessing import StandardScaler\n",
    "from sklearn.ensemble import RandomForestClassifier\n",
    "from sklearn.preprocessing import LabelEncoder\n",
    "\n",
    "import xgboost as xgb\n",
    "from catboost import CatBoostClassifier"
   ]
  },
  {
   "cell_type": "code",
   "execution_count": 329,
   "metadata": {},
   "outputs": [
    {
     "name": "stdout",
     "output_type": "stream",
     "text": [
      "(806194, 12)\n",
      "(806194,)\n",
      "(114038, 12)\n"
     ]
    }
   ],
   "source": [
    "dropcols = ['user_id', 'CHURN']\n",
    "y = upsampled['CHURN']\n",
    "x = upsampled.drop(columns=dropcols, axis=1)\n",
    "test = test.drop(columns=['user_id'], axis=1) #you will use this for predicting and submitting the resulting\n",
    "print(x.shape)\n",
    "print(y.shape)\n",
    "print(test.shape)"
   ]
  },
  {
   "cell_type": "code",
   "execution_count": 37,
   "metadata": {},
   "outputs": [],
   "source": [
    "#Split training data into train and test split"
   ]
  },
  {
   "cell_type": "code",
   "execution_count": 330,
   "metadata": {},
   "outputs": [
    {
     "name": "stdout",
     "output_type": "stream",
     "text": [
      "(644955, 12)\n",
      "(644955,)\n",
      "(161239, 12)\n",
      "(161239,)\n"
     ]
    }
   ],
   "source": [
    "X_train,X_test,y_train,y_test = train_test_split(x,y,test_size = 0.2,random_state=1)\n",
    "print(X_train.shape)\n",
    "print(y_train.shape)\n",
    "\n",
    "print(X_test.shape)\n",
    "print(y_test.shape)"
   ]
  },
  {
   "cell_type": "code",
   "execution_count": 39,
   "metadata": {},
   "outputs": [],
   "source": [
    "#Further split X_train and y_train into train and validation sets"
   ]
  },
  {
   "cell_type": "code",
   "execution_count": 331,
   "metadata": {},
   "outputs": [],
   "source": [
    "X_train,X_val,y_train,y_val = train_test_split(X_train,y_train,test_size = 0.2, random_state=1)"
   ]
  },
  {
   "cell_type": "code",
   "execution_count": 227,
   "metadata": {},
   "outputs": [
    {
     "name": "stdout",
     "output_type": "stream",
     "text": [
      "train\n",
      "(271093, 12)\n",
      "(271093,)\n",
      "+++++++\n",
      "test\n",
      "(84717, 12)\n",
      "(84717,)\n",
      "+++++++\n",
      "validation\n",
      "(67774, 12)\n",
      "(67774,)\n"
     ]
    }
   ],
   "source": [
    "print(\"train\")\n",
    "print(X_train.shape)\n",
    "print(y_train.shape)\n",
    "print(\"+\"*7)\n",
    "print(\"test\")\n",
    "print(X_test.shape)\n",
    "print(y_test.shape)\n",
    "print(\"+\"*7)\n",
    "print(\"validation\")\n",
    "print(X_val.shape)\n",
    "print(y_val.shape)"
   ]
  },
  {
   "cell_type": "code",
   "execution_count": 42,
   "metadata": {},
   "outputs": [],
   "source": [
    "#Standardize numeric columns"
   ]
  },
  {
   "cell_type": "code",
   "execution_count": 332,
   "metadata": {},
   "outputs": [
    {
     "data": {
      "text/plain": [
       "<matplotlib.axes._subplots.AxesSubplot at 0x7f8ddca16cd0>"
      ]
     },
     "execution_count": 332,
     "metadata": {},
     "output_type": "execute_result"
    },
    {
     "data": {
      "image/png": "[encoded data removed]",
      "text/plain": [
       "<Figure size 432x288 with 1 Axes>"
      ]
     },
     "metadata": {
      "needs_background": "light"
     },
     "output_type": "display_data"
    }
   ],
   "source": [
    "X_train.boxplot(column=num_cols)"
   ]
  },
  {
   "cell_type": "code",
   "execution_count": 333,
   "metadata": {},
   "outputs": [],
   "source": [
    "num_cols = ['MONTANT', 'FREQUENCE_RECH', 'REVENUE', 'ARPU_SEGMENT', 'FREQUENCE',\n",
    "       'DATA_VOLUME', 'ON_NET', 'ORANGE', 'TIGO', # 'ZONE1', 'ZONE2',\n",
    "       'REGULARITY', 'FREQ_TOP_PACK']"
   ]
  },
  {
   "cell_type": "code",
   "execution_count": 334,
   "metadata": {},
   "outputs": [
    {
     "data": {
      "text/plain": [
       "StandardScaler(copy=True, with_mean=True, with_std=True)"
      ]
     },
     "execution_count": 334,
     "metadata": {},
     "output_type": "execute_result"
    }
   ],
   "source": [
    "scaler = StandardScaler()\n",
    "\n",
    "scaler.fit(x[num_cols])"
   ]
  },
  {
   "cell_type": "code",
   "execution_count": 335,
   "metadata": {},
   "outputs": [],
   "source": [
    "X_train[num_cols] = scaler.transform(X_train[num_cols])"
   ]
  },
  {
   "cell_type": "code",
   "execution_count": null,
   "metadata": {},
   "outputs": [],
   "source": [
    "X_train.head()"
   ]
  },
  {
   "cell_type": "code",
   "execution_count": 336,
   "metadata": {},
   "outputs": [],
   "source": [
    "X_test[num_cols] = scaler.transform(X_test[num_cols])"
   ]
  },
  {
   "cell_type": "code",
   "execution_count": null,
   "metadata": {},
   "outputs": [],
   "source": [
    "X_test.head()"
   ]
  },
  {
   "cell_type": "code",
   "execution_count": 337,
   "metadata": {},
   "outputs": [],
   "source": [
    "test[num_cols] = scaler.transform(test[num_cols])"
   ]
  },
  {
   "cell_type": "code",
   "execution_count": null,
   "metadata": {},
   "outputs": [],
   "source": [
    "test.head()"
   ]
  },
  {
   "cell_type": "code",
   "execution_count": 338,
   "metadata": {},
   "outputs": [],
   "source": [
    "X_val[num_cols] = scaler.transform(X_val[num_cols])"
   ]
  },
  {
   "cell_type": "code",
   "execution_count": null,
   "metadata": {},
   "outputs": [],
   "source": [
    "X_val.head()"
   ]
  },
  {
   "cell_type": "code",
   "execution_count": 53,
   "metadata": {},
   "outputs": [],
   "source": [
    "#Encode the TENURE column"
   ]
  },
  {
   "cell_type": "code",
   "execution_count": 339,
   "metadata": {},
   "outputs": [],
   "source": [
    "encoder = LabelEncoder()\n",
    "X_train[\"TENURE\"] = encoder.fit_transform(X_train[\"TENURE\"])"
   ]
  },
  {
   "cell_type": "code",
   "execution_count": 340,
   "metadata": {},
   "outputs": [],
   "source": [
    "X_test[\"TENURE\"] = encoder.transform(X_test[\"TENURE\"])"
   ]
  },
  {
   "cell_type": "code",
   "execution_count": 341,
   "metadata": {},
   "outputs": [],
   "source": [
    "X_val['TENURE'] = encoder.transform(X_val[\"TENURE\"])"
   ]
  },
  {
   "cell_type": "code",
   "execution_count": null,
   "metadata": {},
   "outputs": [],
   "source": [
    "test['TENURE'] = encoder.transform(test[\"TENURE\"])"
   ]
  },
  {
   "cell_type": "code",
   "execution_count": null,
   "metadata": {},
   "outputs": [],
   "source": [
    "X_train"
   ]
  },
  {
   "cell_type": "code",
   "execution_count": 59,
   "metadata": {},
   "outputs": [],
   "source": [
    "##RandomForestClassifier Model"
   ]
  },
  {
   "cell_type": "code",
   "execution_count": 315,
   "metadata": {},
   "outputs": [
    {
     "name": "stdout",
     "output_type": "stream",
     "text": [
      "6 selected features\n"
     ]
    }
   ],
   "source": [
    "from sklearn.feature_selection import SelectKBest\n",
    "from sklearn.feature_selection import f_classif\n",
    "\n",
    "chi_selector = SelectKBest(f_classif, k=6)\n",
    "chi_selector.fit(X_train, y_train)\n",
    "chi_support = chi_selector.get_support()\n",
    "cor_feature = X_train.loc[:,chi_support].columns.tolist()\n",
    "print(str(len(cor_feature)), 'selected features')"
   ]
  },
  {
   "cell_type": "code",
   "execution_count": 316,
   "metadata": {},
   "outputs": [
    {
     "data": {
      "text/plain": [
       "['MONTANT',\n",
       " 'FREQUENCE_RECH',\n",
       " 'REVENUE',\n",
       " 'ARPU_SEGMENT',\n",
       " 'FREQUENCE',\n",
       " 'REGULARITY']"
      ]
     },
     "execution_count": 316,
     "metadata": {},
     "output_type": "execute_result"
    }
   ],
   "source": [
    "cor_feature"
   ]
  },
  {
   "cell_type": "code",
   "execution_count": 359,
   "metadata": {},
   "outputs": [],
   "source": [
    "rand = RandomForestClassifier(bootstrap=True,criterion = \"gini\",\n",
    "                              n_jobs=-1,\n",
    "                              max_depth=7,\n",
    "                              n_estimators=200,\n",
    "                              random_state=1,\n",
    "                             verbose=True)\n",
    "\n",
    "xg_class = xgb.XGBRFClassifier()\n",
    "\n",
    "cat_classifier = CatBoostClassifier(max_depth=4, cat_features=['TENURE'])"
   ]
  },
  {
   "cell_type": "code",
   "execution_count": 363,
   "metadata": {},
   "outputs": [
    {
     "name": "stdout",
     "output_type": "stream",
     "text": [
      "Learning rate set to 0.148328\n",
      "0:\tlearn: 0.6318367\ttotal: 1.82s\tremaining: 30m 16s\n",
      "1:\tlearn: 0.5871628\ttotal: 2.01s\tremaining: 16m 43s\n",
      "2:\tlearn: 0.5568450\ttotal: 2.24s\tremaining: 12m 24s\n",
      "3:\tlearn: 0.5367614\ttotal: 2.45s\tremaining: 10m 10s\n",
      "4:\tlearn: 0.5207096\ttotal: 2.68s\tremaining: 8m 53s\n",
      "5:\tlearn: 0.5094936\ttotal: 2.91s\tremaining: 8m 2s\n",
      "6:\tlearn: 0.5012065\ttotal: 3.17s\tremaining: 7m 29s\n",
      "7:\tlearn: 0.4953315\ttotal: 3.44s\tremaining: 7m 6s\n",
      "8:\tlearn: 0.4900413\ttotal: 3.66s\tremaining: 6m 43s\n",
      "9:\tlearn: 0.4864376\ttotal: 3.88s\tremaining: 6m 24s\n",
      "10:\tlearn: 0.4833474\ttotal: 4.14s\tremaining: 6m 11s\n",
      "11:\tlearn: 0.4807126\ttotal: 4.39s\tremaining: 6m 1s\n",
      "12:\tlearn: 0.4784616\ttotal: 4.6s\tremaining: 5m 49s\n",
      "13:\tlearn: 0.4768285\ttotal: 4.81s\tremaining: 5m 38s\n",
      "14:\tlearn: 0.4755817\ttotal: 5.03s\tremaining: 5m 30s\n",
      "15:\tlearn: 0.4743700\ttotal: 5.26s\tremaining: 5m 23s\n",
      "16:\tlearn: 0.4734446\ttotal: 5.54s\tremaining: 5m 20s\n",
      "17:\tlearn: 0.4721191\ttotal: 5.78s\tremaining: 5m 15s\n",
      "18:\tlearn: 0.4713611\ttotal: 6.03s\tremaining: 5m 11s\n",
      "19:\tlearn: 0.4707613\ttotal: 6.33s\tremaining: 5m 10s\n",
      "20:\tlearn: 0.4699409\ttotal: 6.56s\tremaining: 5m 5s\n",
      "21:\tlearn: 0.4693593\ttotal: 6.75s\tremaining: 4m 59s\n",
      "22:\tlearn: 0.4687847\ttotal: 6.96s\tremaining: 4m 55s\n",
      "23:\tlearn: 0.4682616\ttotal: 7.25s\tremaining: 4m 54s\n",
      "24:\tlearn: 0.4677493\ttotal: 7.57s\tremaining: 4m 55s\n",
      "25:\tlearn: 0.4674437\ttotal: 7.81s\tremaining: 4m 52s\n",
      "26:\tlearn: 0.4670114\ttotal: 8.01s\tremaining: 4m 48s\n",
      "27:\tlearn: 0.4665980\ttotal: 8.22s\tremaining: 4m 45s\n",
      "28:\tlearn: 0.4661930\ttotal: 8.41s\tremaining: 4m 41s\n",
      "29:\tlearn: 0.4658215\ttotal: 8.61s\tremaining: 4m 38s\n",
      "30:\tlearn: 0.4654550\ttotal: 8.78s\tremaining: 4m 34s\n",
      "31:\tlearn: 0.4650314\ttotal: 8.98s\tremaining: 4m 31s\n",
      "32:\tlearn: 0.4647416\ttotal: 9.2s\tremaining: 4m 29s\n",
      "33:\tlearn: 0.4643944\ttotal: 9.43s\tremaining: 4m 27s\n",
      "34:\tlearn: 0.4641033\ttotal: 9.66s\tremaining: 4m 26s\n",
      "35:\tlearn: 0.4639386\ttotal: 9.9s\tremaining: 4m 25s\n",
      "36:\tlearn: 0.4636771\ttotal: 10.1s\tremaining: 4m 23s\n",
      "37:\tlearn: 0.4634982\ttotal: 10.3s\tremaining: 4m 21s\n",
      "38:\tlearn: 0.4632920\ttotal: 10.6s\tremaining: 4m 20s\n",
      "39:\tlearn: 0.4630513\ttotal: 10.8s\tremaining: 4m 18s\n",
      "40:\tlearn: 0.4628720\ttotal: 11s\tremaining: 4m 17s\n",
      "41:\tlearn: 0.4626755\ttotal: 11.3s\tremaining: 4m 18s\n",
      "42:\tlearn: 0.4625019\ttotal: 11.6s\tremaining: 4m 18s\n",
      "43:\tlearn: 0.4623902\ttotal: 11.9s\tremaining: 4m 17s\n",
      "44:\tlearn: 0.4622176\ttotal: 12.2s\tremaining: 4m 18s\n",
      "45:\tlearn: 0.4620690\ttotal: 12.5s\tremaining: 4m 19s\n",
      "46:\tlearn: 0.4618808\ttotal: 12.8s\tremaining: 4m 20s\n",
      "47:\tlearn: 0.4617341\ttotal: 13.1s\tremaining: 4m 19s\n",
      "48:\tlearn: 0.4615778\ttotal: 13.4s\tremaining: 4m 19s\n",
      "49:\tlearn: 0.4614097\ttotal: 13.6s\tremaining: 4m 18s\n",
      "50:\tlearn: 0.4612706\ttotal: 13.9s\tremaining: 4m 18s\n",
      "51:\tlearn: 0.4611355\ttotal: 14.1s\tremaining: 4m 16s\n",
      "52:\tlearn: 0.4610041\ttotal: 14.3s\tremaining: 4m 15s\n",
      "53:\tlearn: 0.4608675\ttotal: 14.6s\tremaining: 4m 14s\n",
      "54:\tlearn: 0.4607318\ttotal: 14.8s\tremaining: 4m 14s\n",
      "55:\tlearn: 0.4605900\ttotal: 15s\tremaining: 4m 13s\n",
      "56:\tlearn: 0.4604509\ttotal: 15.2s\tremaining: 4m 11s\n",
      "57:\tlearn: 0.4603655\ttotal: 15.4s\tremaining: 4m 10s\n",
      "58:\tlearn: 0.4602399\ttotal: 15.7s\tremaining: 4m 9s\n",
      "59:\tlearn: 0.4601654\ttotal: 15.9s\tremaining: 4m 8s\n",
      "60:\tlearn: 0.4600470\ttotal: 16.1s\tremaining: 4m 7s\n",
      "61:\tlearn: 0.4599255\ttotal: 16.3s\tremaining: 4m 7s\n",
      "62:\tlearn: 0.4598172\ttotal: 16.6s\tremaining: 4m 6s\n",
      "63:\tlearn: 0.4596990\ttotal: 16.8s\tremaining: 4m 5s\n",
      "64:\tlearn: 0.4595783\ttotal: 17s\tremaining: 4m 4s\n",
      "65:\tlearn: 0.4594660\ttotal: 17.3s\tremaining: 4m 4s\n",
      "66:\tlearn: 0.4593728\ttotal: 17.5s\tremaining: 4m 4s\n",
      "67:\tlearn: 0.4592668\ttotal: 17.8s\tremaining: 4m 4s\n",
      "68:\tlearn: 0.4591802\ttotal: 18.2s\tremaining: 4m 5s\n",
      "69:\tlearn: 0.4590613\ttotal: 18.4s\tremaining: 4m 5s\n",
      "70:\tlearn: 0.4589562\ttotal: 18.7s\tremaining: 4m 4s\n",
      "71:\tlearn: 0.4588341\ttotal: 19s\tremaining: 4m 5s\n",
      "72:\tlearn: 0.4587802\ttotal: 19.3s\tremaining: 4m 4s\n",
      "73:\tlearn: 0.4587282\ttotal: 19.5s\tremaining: 4m 4s\n",
      "74:\tlearn: 0.4586317\ttotal: 19.8s\tremaining: 4m 4s\n",
      "75:\tlearn: 0.4585613\ttotal: 20.1s\tremaining: 4m 4s\n",
      "76:\tlearn: 0.4584862\ttotal: 20.3s\tremaining: 4m 3s\n",
      "77:\tlearn: 0.4583918\ttotal: 20.6s\tremaining: 4m 3s\n",
      "78:\tlearn: 0.4582848\ttotal: 20.8s\tremaining: 4m 2s\n",
      "79:\tlearn: 0.4581547\ttotal: 21s\tremaining: 4m 1s\n",
      "80:\tlearn: 0.4580805\ttotal: 21.2s\tremaining: 4m 1s\n",
      "81:\tlearn: 0.4579448\ttotal: 21.5s\tremaining: 4m\n",
      "82:\tlearn: 0.4578711\ttotal: 21.8s\tremaining: 4m\n",
      "83:\tlearn: 0.4577603\ttotal: 22s\tremaining: 3m 59s\n",
      "84:\tlearn: 0.4576732\ttotal: 22.3s\tremaining: 3m 59s\n",
      "85:\tlearn: 0.4575717\ttotal: 22.5s\tremaining: 3m 59s\n",
      "86:\tlearn: 0.4574919\ttotal: 22.8s\tremaining: 3m 58s\n",
      "87:\tlearn: 0.4574105\ttotal: 23s\tremaining: 3m 58s\n",
      "88:\tlearn: 0.4573093\ttotal: 23.2s\tremaining: 3m 57s\n",
      "89:\tlearn: 0.4572319\ttotal: 23.5s\tremaining: 3m 57s\n",
      "90:\tlearn: 0.4571419\ttotal: 23.7s\tremaining: 3m 56s\n",
      "91:\tlearn: 0.4570509\ttotal: 24s\tremaining: 3m 56s\n",
      "92:\tlearn: 0.4569687\ttotal: 24.2s\tremaining: 3m 55s\n",
      "93:\tlearn: 0.4569071\ttotal: 24.4s\tremaining: 3m 55s\n",
      "94:\tlearn: 0.4568327\ttotal: 24.6s\tremaining: 3m 54s\n",
      "95:\tlearn: 0.4567613\ttotal: 24.9s\tremaining: 3m 54s\n",
      "96:\tlearn: 0.4566877\ttotal: 25.2s\tremaining: 3m 54s\n",
      "97:\tlearn: 0.4566144\ttotal: 25.4s\tremaining: 3m 53s\n",
      "98:\tlearn: 0.4565287\ttotal: 25.6s\tremaining: 3m 53s\n",
      "99:\tlearn: 0.4564481\ttotal: 25.9s\tremaining: 3m 53s\n",
      "100:\tlearn: 0.4563869\ttotal: 26.2s\tremaining: 3m 52s\n",
      "101:\tlearn: 0.4563047\ttotal: 26.5s\tremaining: 3m 52s\n",
      "102:\tlearn: 0.4562286\ttotal: 26.8s\tremaining: 3m 53s\n",
      "103:\tlearn: 0.4561270\ttotal: 27s\tremaining: 3m 52s\n",
      "104:\tlearn: 0.4560497\ttotal: 27.2s\tremaining: 3m 52s\n",
      "105:\tlearn: 0.4559624\ttotal: 27.5s\tremaining: 3m 51s\n",
      "106:\tlearn: 0.4558782\ttotal: 27.8s\tremaining: 3m 51s\n",
      "107:\tlearn: 0.4558141\ttotal: 28s\tremaining: 3m 51s\n",
      "108:\tlearn: 0.4557465\ttotal: 28.3s\tremaining: 3m 50s\n",
      "109:\tlearn: 0.4556727\ttotal: 28.5s\tremaining: 3m 50s\n",
      "110:\tlearn: 0.4555942\ttotal: 28.8s\tremaining: 3m 50s\n",
      "111:\tlearn: 0.4555252\ttotal: 29s\tremaining: 3m 49s\n",
      "112:\tlearn: 0.4554525\ttotal: 29.3s\tremaining: 3m 49s\n",
      "113:\tlearn: 0.4553891\ttotal: 29.5s\tremaining: 3m 49s\n",
      "114:\tlearn: 0.4553243\ttotal: 29.7s\tremaining: 3m 48s\n",
      "115:\tlearn: 0.4552587\ttotal: 29.9s\tremaining: 3m 48s\n",
      "116:\tlearn: 0.4551561\ttotal: 30.2s\tremaining: 3m 47s\n",
      "117:\tlearn: 0.4550879\ttotal: 30.4s\tremaining: 3m 47s\n",
      "118:\tlearn: 0.4550206\ttotal: 30.6s\tremaining: 3m 46s\n",
      "119:\tlearn: 0.4549259\ttotal: 30.9s\tremaining: 3m 46s\n",
      "120:\tlearn: 0.4548390\ttotal: 31.1s\tremaining: 3m 45s\n",
      "121:\tlearn: 0.4547930\ttotal: 31.4s\tremaining: 3m 45s\n",
      "122:\tlearn: 0.4547207\ttotal: 31.6s\tremaining: 3m 44s\n",
      "123:\tlearn: 0.4546593\ttotal: 31.8s\tremaining: 3m 44s\n",
      "124:\tlearn: 0.4545858\ttotal: 32s\tremaining: 3m 43s\n",
      "125:\tlearn: 0.4544822\ttotal: 32.2s\tremaining: 3m 43s\n",
      "126:\tlearn: 0.4544194\ttotal: 32.5s\tremaining: 3m 43s\n",
      "127:\tlearn: 0.4543642\ttotal: 32.8s\tremaining: 3m 43s\n",
      "128:\tlearn: 0.4543161\ttotal: 32.9s\tremaining: 3m 42s\n",
      "129:\tlearn: 0.4542692\ttotal: 33.2s\tremaining: 3m 41s\n",
      "130:\tlearn: 0.4541788\ttotal: 33.5s\tremaining: 3m 42s\n",
      "131:\tlearn: 0.4541092\ttotal: 33.7s\tremaining: 3m 41s\n",
      "132:\tlearn: 0.4540228\ttotal: 34s\tremaining: 3m 41s\n",
      "133:\tlearn: 0.4539662\ttotal: 34.2s\tremaining: 3m 41s\n",
      "134:\tlearn: 0.4538724\ttotal: 34.4s\tremaining: 3m 40s\n",
      "135:\tlearn: 0.4537914\ttotal: 34.7s\tremaining: 3m 40s\n",
      "136:\tlearn: 0.4537515\ttotal: 35s\tremaining: 3m 40s\n",
      "137:\tlearn: 0.4536946\ttotal: 35.2s\tremaining: 3m 40s\n",
      "138:\tlearn: 0.4536275\ttotal: 35.5s\tremaining: 3m 39s\n",
      "139:\tlearn: 0.4535426\ttotal: 35.8s\tremaining: 3m 39s\n",
      "140:\tlearn: 0.4534998\ttotal: 36s\tremaining: 3m 39s\n",
      "141:\tlearn: 0.4534485\ttotal: 36.3s\tremaining: 3m 39s\n",
      "142:\tlearn: 0.4533995\ttotal: 36.6s\tremaining: 3m 39s\n",
      "143:\tlearn: 0.4533519\ttotal: 36.8s\tremaining: 3m 38s\n",
      "144:\tlearn: 0.4532927\ttotal: 37s\tremaining: 3m 38s\n",
      "145:\tlearn: 0.4532182\ttotal: 37.3s\tremaining: 3m 37s\n",
      "146:\tlearn: 0.4531290\ttotal: 37.6s\tremaining: 3m 37s\n",
      "147:\tlearn: 0.4530682\ttotal: 37.8s\tremaining: 3m 37s\n",
      "148:\tlearn: 0.4529929\ttotal: 38s\tremaining: 3m 37s\n",
      "149:\tlearn: 0.4529638\ttotal: 38.3s\tremaining: 3m 36s\n",
      "150:\tlearn: 0.4529048\ttotal: 38.5s\tremaining: 3m 36s\n",
      "151:\tlearn: 0.4528673\ttotal: 38.7s\tremaining: 3m 36s\n",
      "152:\tlearn: 0.4528249\ttotal: 39s\tremaining: 3m 35s\n",
      "153:\tlearn: 0.4527732\ttotal: 39.3s\tremaining: 3m 35s\n",
      "154:\tlearn: 0.4527052\ttotal: 39.5s\tremaining: 3m 35s\n",
      "155:\tlearn: 0.4526421\ttotal: 39.8s\tremaining: 3m 35s\n",
      "156:\tlearn: 0.4525780\ttotal: 40s\tremaining: 3m 34s\n",
      "157:\tlearn: 0.4525548\ttotal: 40.3s\tremaining: 3m 34s\n",
      "158:\tlearn: 0.4524533\ttotal: 40.5s\tremaining: 3m 34s\n",
      "159:\tlearn: 0.4523924\ttotal: 40.8s\tremaining: 3m 33s\n",
      "160:\tlearn: 0.4523395\ttotal: 41s\tremaining: 3m 33s\n",
      "161:\tlearn: 0.4522740\ttotal: 41.2s\tremaining: 3m 33s\n",
      "162:\tlearn: 0.4522130\ttotal: 41.5s\tremaining: 3m 33s\n",
      "163:\tlearn: 0.4521399\ttotal: 41.7s\tremaining: 3m 32s\n",
      "164:\tlearn: 0.4520892\ttotal: 41.9s\tremaining: 3m 32s\n",
      "165:\tlearn: 0.4520338\ttotal: 42.2s\tremaining: 3m 31s\n",
      "166:\tlearn: 0.4519758\ttotal: 42.4s\tremaining: 3m 31s\n",
      "167:\tlearn: 0.4519320\ttotal: 42.7s\tremaining: 3m 31s\n",
      "168:\tlearn: 0.4518472\ttotal: 43s\tremaining: 3m 31s\n",
      "169:\tlearn: 0.4517912\ttotal: 43.2s\tremaining: 3m 30s\n",
      "170:\tlearn: 0.4517405\ttotal: 43.5s\tremaining: 3m 30s\n",
      "171:\tlearn: 0.4516910\ttotal: 43.7s\tremaining: 3m 30s\n",
      "172:\tlearn: 0.4516717\ttotal: 44s\tremaining: 3m 30s\n",
      "173:\tlearn: 0.4516232\ttotal: 44.2s\tremaining: 3m 29s\n",
      "174:\tlearn: 0.4515634\ttotal: 44.5s\tremaining: 3m 29s\n",
      "175:\tlearn: 0.4515170\ttotal: 44.7s\tremaining: 3m 29s\n",
      "176:\tlearn: 0.4514611\ttotal: 45s\tremaining: 3m 29s\n",
      "177:\tlearn: 0.4513958\ttotal: 45.2s\tremaining: 3m 28s\n",
      "178:\tlearn: 0.4513376\ttotal: 45.5s\tremaining: 3m 28s\n",
      "179:\tlearn: 0.4512950\ttotal: 45.7s\tremaining: 3m 28s\n",
      "180:\tlearn: 0.4512377\ttotal: 45.9s\tremaining: 3m 27s\n",
      "181:\tlearn: 0.4511720\ttotal: 46.3s\tremaining: 3m 28s\n",
      "182:\tlearn: 0.4511399\ttotal: 46.6s\tremaining: 3m 28s\n",
      "183:\tlearn: 0.4510660\ttotal: 46.9s\tremaining: 3m 27s\n",
      "184:\tlearn: 0.4510031\ttotal: 47.1s\tremaining: 3m 27s\n",
      "185:\tlearn: 0.4509256\ttotal: 47.4s\tremaining: 3m 27s\n",
      "186:\tlearn: 0.4508596\ttotal: 47.7s\tremaining: 3m 27s\n",
      "187:\tlearn: 0.4507810\ttotal: 47.9s\tremaining: 3m 27s\n",
      "188:\tlearn: 0.4507482\ttotal: 48.2s\tremaining: 3m 26s\n",
      "189:\tlearn: 0.4507002\ttotal: 48.5s\tremaining: 3m 26s\n",
      "190:\tlearn: 0.4506227\ttotal: 48.7s\tremaining: 3m 26s\n",
      "191:\tlearn: 0.4505701\ttotal: 49s\tremaining: 3m 26s\n",
      "192:\tlearn: 0.4505318\ttotal: 49.3s\tremaining: 3m 26s\n",
      "193:\tlearn: 0.4504704\ttotal: 49.5s\tremaining: 3m 25s\n",
      "194:\tlearn: 0.4504121\ttotal: 49.9s\tremaining: 3m 25s\n",
      "195:\tlearn: 0.4503533\ttotal: 50.2s\tremaining: 3m 26s\n",
      "196:\tlearn: 0.4502895\ttotal: 50.6s\tremaining: 3m 26s\n",
      "197:\tlearn: 0.4502450\ttotal: 50.9s\tremaining: 3m 26s\n",
      "198:\tlearn: 0.4501877\ttotal: 51.1s\tremaining: 3m 25s\n",
      "199:\tlearn: 0.4501498\ttotal: 51.4s\tremaining: 3m 25s\n",
      "200:\tlearn: 0.4501150\ttotal: 51.7s\tremaining: 3m 25s\n",
      "201:\tlearn: 0.4500808\ttotal: 52s\tremaining: 3m 25s\n",
      "202:\tlearn: 0.4499784\ttotal: 52.2s\tremaining: 3m 24s\n",
      "203:\tlearn: 0.4499122\ttotal: 52.5s\tremaining: 3m 24s\n",
      "204:\tlearn: 0.4498666\ttotal: 52.9s\tremaining: 3m 24s\n",
      "205:\tlearn: 0.4497778\ttotal: 53.2s\tremaining: 3m 24s\n",
      "206:\tlearn: 0.4496941\ttotal: 53.4s\tremaining: 3m 24s\n",
      "207:\tlearn: 0.4496473\ttotal: 53.6s\tremaining: 3m 24s\n",
      "208:\tlearn: 0.4495911\ttotal: 53.9s\tremaining: 3m 23s\n",
      "209:\tlearn: 0.4495636\ttotal: 54.1s\tremaining: 3m 23s\n",
      "210:\tlearn: 0.4494996\ttotal: 54.4s\tremaining: 3m 23s\n",
      "211:\tlearn: 0.4494792\ttotal: 54.7s\tremaining: 3m 23s\n",
      "212:\tlearn: 0.4494288\ttotal: 55s\tremaining: 3m 23s\n",
      "213:\tlearn: 0.4493700\ttotal: 55.2s\tremaining: 3m 22s\n",
      "214:\tlearn: 0.4493169\ttotal: 55.5s\tremaining: 3m 22s\n",
      "215:\tlearn: 0.4492472\ttotal: 55.7s\tremaining: 3m 22s\n",
      "216:\tlearn: 0.4491955\ttotal: 56s\tremaining: 3m 21s\n",
      "217:\tlearn: 0.4491452\ttotal: 56.2s\tremaining: 3m 21s\n",
      "218:\tlearn: 0.4490858\ttotal: 56.5s\tremaining: 3m 21s\n",
      "219:\tlearn: 0.4490403\ttotal: 56.7s\tremaining: 3m 20s\n",
      "220:\tlearn: 0.4489975\ttotal: 56.9s\tremaining: 3m 20s\n",
      "221:\tlearn: 0.4489456\ttotal: 57.2s\tremaining: 3m 20s\n",
      "222:\tlearn: 0.4489143\ttotal: 57.5s\tremaining: 3m 20s\n",
      "223:\tlearn: 0.4488601\ttotal: 57.7s\tremaining: 3m 19s\n",
      "224:\tlearn: 0.4488188\ttotal: 57.9s\tremaining: 3m 19s\n",
      "225:\tlearn: 0.4487279\ttotal: 58.1s\tremaining: 3m 19s\n",
      "226:\tlearn: 0.4486732\ttotal: 58.4s\tremaining: 3m 18s\n",
      "227:\tlearn: 0.4486550\ttotal: 58.6s\tremaining: 3m 18s\n",
      "228:\tlearn: 0.4485968\ttotal: 58.9s\tremaining: 3m 18s\n",
      "229:\tlearn: 0.4485316\ttotal: 59.1s\tremaining: 3m 17s\n",
      "230:\tlearn: 0.4484762\ttotal: 59.3s\tremaining: 3m 17s\n",
      "231:\tlearn: 0.4484433\ttotal: 59.5s\tremaining: 3m 16s\n",
      "232:\tlearn: 0.4484115\ttotal: 59.7s\tremaining: 3m 16s\n",
      "233:\tlearn: 0.4483769\ttotal: 1m\tremaining: 3m 16s\n",
      "234:\tlearn: 0.4483430\ttotal: 1m\tremaining: 3m 16s\n",
      "235:\tlearn: 0.4482734\ttotal: 1m\tremaining: 3m 16s\n",
      "236:\tlearn: 0.4482216\ttotal: 1m\tremaining: 3m 15s\n",
      "237:\tlearn: 0.4481768\ttotal: 1m 1s\tremaining: 3m 15s\n",
      "238:\tlearn: 0.4481424\ttotal: 1m 1s\tremaining: 3m 15s\n",
      "239:\tlearn: 0.4480759\ttotal: 1m 1s\tremaining: 3m 15s\n",
      "240:\tlearn: 0.4480429\ttotal: 1m 1s\tremaining: 3m 14s\n",
      "241:\tlearn: 0.4480032\ttotal: 1m 2s\tremaining: 3m 14s\n",
      "242:\tlearn: 0.4479654\ttotal: 1m 2s\tremaining: 3m 14s\n",
      "243:\tlearn: 0.4478978\ttotal: 1m 2s\tremaining: 3m 14s\n",
      "244:\tlearn: 0.4478508\ttotal: 1m 2s\tremaining: 3m 14s\n",
      "245:\tlearn: 0.4478048\ttotal: 1m 3s\tremaining: 3m 13s\n",
      "246:\tlearn: 0.4477759\ttotal: 1m 3s\tremaining: 3m 13s\n",
      "247:\tlearn: 0.4477460\ttotal: 1m 3s\tremaining: 3m 13s\n",
      "248:\tlearn: 0.4477100\ttotal: 1m 3s\tremaining: 3m 12s\n",
      "249:\tlearn: 0.4476596\ttotal: 1m 4s\tremaining: 3m 12s\n",
      "250:\tlearn: 0.4475943\ttotal: 1m 4s\tremaining: 3m 12s\n",
      "251:\tlearn: 0.4475725\ttotal: 1m 4s\tremaining: 3m 12s\n",
      "252:\tlearn: 0.4475275\ttotal: 1m 5s\tremaining: 3m 12s\n",
      "253:\tlearn: 0.4474791\ttotal: 1m 5s\tremaining: 3m 12s\n",
      "254:\tlearn: 0.4473797\ttotal: 1m 5s\tremaining: 3m 11s\n",
      "255:\tlearn: 0.4473407\ttotal: 1m 5s\tremaining: 3m 11s\n",
      "256:\tlearn: 0.4473246\ttotal: 1m 6s\tremaining: 3m 11s\n",
      "257:\tlearn: 0.4473035\ttotal: 1m 6s\tremaining: 3m 11s\n",
      "258:\tlearn: 0.4472521\ttotal: 1m 6s\tremaining: 3m 10s\n",
      "259:\tlearn: 0.4472190\ttotal: 1m 6s\tremaining: 3m 10s\n",
      "260:\tlearn: 0.4471816\ttotal: 1m 7s\tremaining: 3m 10s\n",
      "261:\tlearn: 0.4471337\ttotal: 1m 7s\tremaining: 3m 9s\n",
      "262:\tlearn: 0.4470672\ttotal: 1m 7s\tremaining: 3m 9s\n",
      "263:\tlearn: 0.4470001\ttotal: 1m 8s\tremaining: 3m 9s\n",
      "264:\tlearn: 0.4469510\ttotal: 1m 8s\tremaining: 3m 9s\n",
      "265:\tlearn: 0.4469039\ttotal: 1m 8s\tremaining: 3m 8s\n",
      "266:\tlearn: 0.4468399\ttotal: 1m 8s\tremaining: 3m 8s\n",
      "267:\tlearn: 0.4467656\ttotal: 1m 8s\tremaining: 3m 8s\n",
      "268:\tlearn: 0.4467070\ttotal: 1m 9s\tremaining: 3m 7s\n",
      "269:\tlearn: 0.4466586\ttotal: 1m 9s\tremaining: 3m 7s\n",
      "270:\tlearn: 0.4466105\ttotal: 1m 9s\tremaining: 3m 7s\n",
      "271:\tlearn: 0.4465615\ttotal: 1m 9s\tremaining: 3m 7s\n",
      "272:\tlearn: 0.4464940\ttotal: 1m 10s\tremaining: 3m 7s\n",
      "273:\tlearn: 0.4464331\ttotal: 1m 10s\tremaining: 3m 6s\n",
      "274:\tlearn: 0.4463660\ttotal: 1m 10s\tremaining: 3m 6s\n",
      "275:\tlearn: 0.4463006\ttotal: 1m 10s\tremaining: 3m 5s\n",
      "276:\tlearn: 0.4462525\ttotal: 1m 11s\tremaining: 3m 5s\n",
      "277:\tlearn: 0.4461996\ttotal: 1m 11s\tremaining: 3m 5s\n",
      "278:\tlearn: 0.4461615\ttotal: 1m 11s\tremaining: 3m 5s\n",
      "279:\tlearn: 0.4461314\ttotal: 1m 11s\tremaining: 3m 4s\n",
      "280:\tlearn: 0.4461078\ttotal: 1m 12s\tremaining: 3m 4s\n",
      "281:\tlearn: 0.4460870\ttotal: 1m 12s\tremaining: 3m 4s\n",
      "282:\tlearn: 0.4460457\ttotal: 1m 12s\tremaining: 3m 3s\n",
      "283:\tlearn: 0.4460140\ttotal: 1m 12s\tremaining: 3m 3s\n",
      "284:\tlearn: 0.4459826\ttotal: 1m 13s\tremaining: 3m 3s\n",
      "285:\tlearn: 0.4459240\ttotal: 1m 13s\tremaining: 3m 2s\n",
      "286:\tlearn: 0.4458866\ttotal: 1m 13s\tremaining: 3m 2s\n",
      "287:\tlearn: 0.4458332\ttotal: 1m 13s\tremaining: 3m 2s\n",
      "288:\tlearn: 0.4457649\ttotal: 1m 14s\tremaining: 3m 2s\n",
      "289:\tlearn: 0.4457061\ttotal: 1m 14s\tremaining: 3m 2s\n",
      "290:\tlearn: 0.4456719\ttotal: 1m 14s\tremaining: 3m 2s\n",
      "291:\tlearn: 0.4456205\ttotal: 1m 14s\tremaining: 3m 1s\n",
      "292:\tlearn: 0.4455805\ttotal: 1m 15s\tremaining: 3m 1s\n",
      "293:\tlearn: 0.4455343\ttotal: 1m 15s\tremaining: 3m 1s\n",
      "294:\tlearn: 0.4454988\ttotal: 1m 15s\tremaining: 3m\n",
      "295:\tlearn: 0.4454675\ttotal: 1m 15s\tremaining: 3m\n",
      "296:\tlearn: 0.4454446\ttotal: 1m 16s\tremaining: 3m\n",
      "297:\tlearn: 0.4454025\ttotal: 1m 16s\tremaining: 3m\n",
      "298:\tlearn: 0.4453558\ttotal: 1m 16s\tremaining: 2m 59s\n",
      "299:\tlearn: 0.4453078\ttotal: 1m 16s\tremaining: 2m 59s\n",
      "300:\tlearn: 0.4452593\ttotal: 1m 17s\tremaining: 2m 59s\n",
      "301:\tlearn: 0.4452184\ttotal: 1m 17s\tremaining: 2m 59s\n",
      "302:\tlearn: 0.4451564\ttotal: 1m 17s\tremaining: 2m 58s\n",
      "303:\tlearn: 0.4451257\ttotal: 1m 18s\tremaining: 2m 58s\n",
      "304:\tlearn: 0.4450731\ttotal: 1m 18s\tremaining: 2m 58s\n",
      "305:\tlearn: 0.4450164\ttotal: 1m 18s\tremaining: 2m 58s\n",
      "306:\tlearn: 0.4449669\ttotal: 1m 18s\tremaining: 2m 57s\n",
      "307:\tlearn: 0.4449206\ttotal: 1m 19s\tremaining: 2m 57s\n",
      "308:\tlearn: 0.4449036\ttotal: 1m 19s\tremaining: 2m 57s\n",
      "309:\tlearn: 0.4448357\ttotal: 1m 19s\tremaining: 2m 57s\n",
      "310:\tlearn: 0.4447954\ttotal: 1m 19s\tremaining: 2m 56s\n",
      "311:\tlearn: 0.4447373\ttotal: 1m 20s\tremaining: 2m 56s\n",
      "312:\tlearn: 0.4446902\ttotal: 1m 20s\tremaining: 2m 56s\n",
      "313:\tlearn: 0.4446386\ttotal: 1m 20s\tremaining: 2m 56s\n",
      "314:\tlearn: 0.4446043\ttotal: 1m 20s\tremaining: 2m 55s\n",
      "315:\tlearn: 0.4445492\ttotal: 1m 21s\tremaining: 2m 55s\n",
      "316:\tlearn: 0.4444989\ttotal: 1m 21s\tremaining: 2m 55s\n",
      "317:\tlearn: 0.4444548\ttotal: 1m 21s\tremaining: 2m 55s\n",
      "318:\tlearn: 0.4444358\ttotal: 1m 21s\tremaining: 2m 54s\n",
      "319:\tlearn: 0.4443921\ttotal: 1m 22s\tremaining: 2m 54s\n",
      "320:\tlearn: 0.4443688\ttotal: 1m 22s\tremaining: 2m 54s\n",
      "321:\tlearn: 0.4443413\ttotal: 1m 22s\tremaining: 2m 54s\n",
      "322:\tlearn: 0.4442987\ttotal: 1m 23s\tremaining: 2m 53s\n",
      "323:\tlearn: 0.4442663\ttotal: 1m 23s\tremaining: 2m 53s\n",
      "324:\tlearn: 0.4442111\ttotal: 1m 23s\tremaining: 2m 53s\n",
      "325:\tlearn: 0.4441690\ttotal: 1m 23s\tremaining: 2m 53s\n",
      "326:\tlearn: 0.4441297\ttotal: 1m 24s\tremaining: 2m 53s\n",
      "327:\tlearn: 0.4441232\ttotal: 1m 24s\tremaining: 2m 52s\n",
      "328:\tlearn: 0.4440662\ttotal: 1m 24s\tremaining: 2m 52s\n",
      "329:\tlearn: 0.4440095\ttotal: 1m 24s\tremaining: 2m 52s\n",
      "330:\tlearn: 0.4439324\ttotal: 1m 25s\tremaining: 2m 52s\n",
      "331:\tlearn: 0.4438863\ttotal: 1m 25s\tremaining: 2m 52s\n",
      "332:\tlearn: 0.4438250\ttotal: 1m 25s\tremaining: 2m 51s\n",
      "333:\tlearn: 0.4437830\ttotal: 1m 26s\tremaining: 2m 51s\n",
      "334:\tlearn: 0.4437546\ttotal: 1m 26s\tremaining: 2m 51s\n",
      "335:\tlearn: 0.4437170\ttotal: 1m 26s\tremaining: 2m 50s\n",
      "336:\tlearn: 0.4436702\ttotal: 1m 26s\tremaining: 2m 50s\n",
      "337:\tlearn: 0.4436276\ttotal: 1m 27s\tremaining: 2m 50s\n",
      "338:\tlearn: 0.4435946\ttotal: 1m 27s\tremaining: 2m 50s\n",
      "339:\tlearn: 0.4435647\ttotal: 1m 27s\tremaining: 2m 50s\n",
      "340:\tlearn: 0.4435230\ttotal: 1m 27s\tremaining: 2m 50s\n",
      "341:\tlearn: 0.4434859\ttotal: 1m 28s\tremaining: 2m 49s\n",
      "342:\tlearn: 0.4434708\ttotal: 1m 28s\tremaining: 2m 49s\n",
      "343:\tlearn: 0.4434429\ttotal: 1m 28s\tremaining: 2m 49s\n",
      "344:\tlearn: 0.4434072\ttotal: 1m 29s\tremaining: 2m 49s\n",
      "345:\tlearn: 0.4433614\ttotal: 1m 29s\tremaining: 2m 49s\n",
      "346:\tlearn: 0.4433096\ttotal: 1m 29s\tremaining: 2m 48s\n",
      "347:\tlearn: 0.4432646\ttotal: 1m 30s\tremaining: 2m 48s\n",
      "348:\tlearn: 0.4432160\ttotal: 1m 30s\tremaining: 2m 48s\n",
      "349:\tlearn: 0.4431775\ttotal: 1m 30s\tremaining: 2m 48s\n",
      "350:\tlearn: 0.4431234\ttotal: 1m 31s\tremaining: 2m 48s\n",
      "351:\tlearn: 0.4430831\ttotal: 1m 31s\tremaining: 2m 48s\n",
      "352:\tlearn: 0.4430304\ttotal: 1m 31s\tremaining: 2m 47s\n",
      "353:\tlearn: 0.4430090\ttotal: 1m 31s\tremaining: 2m 47s\n",
      "354:\tlearn: 0.4429679\ttotal: 1m 32s\tremaining: 2m 47s\n",
      "355:\tlearn: 0.4428757\ttotal: 1m 32s\tremaining: 2m 47s\n",
      "356:\tlearn: 0.4428277\ttotal: 1m 32s\tremaining: 2m 46s\n",
      "357:\tlearn: 0.4427856\ttotal: 1m 32s\tremaining: 2m 46s\n",
      "358:\tlearn: 0.4427277\ttotal: 1m 33s\tremaining: 2m 46s\n",
      "359:\tlearn: 0.4426898\ttotal: 1m 33s\tremaining: 2m 46s\n",
      "360:\tlearn: 0.4426605\ttotal: 1m 33s\tremaining: 2m 45s\n",
      "361:\tlearn: 0.4425996\ttotal: 1m 33s\tremaining: 2m 45s\n",
      "362:\tlearn: 0.4425433\ttotal: 1m 34s\tremaining: 2m 45s\n",
      "363:\tlearn: 0.4425070\ttotal: 1m 34s\tremaining: 2m 45s\n",
      "364:\tlearn: 0.4424595\ttotal: 1m 34s\tremaining: 2m 44s\n",
      "365:\tlearn: 0.4424389\ttotal: 1m 34s\tremaining: 2m 44s\n",
      "366:\tlearn: 0.4424093\ttotal: 1m 35s\tremaining: 2m 44s\n",
      "367:\tlearn: 0.4423379\ttotal: 1m 35s\tremaining: 2m 43s\n",
      "368:\tlearn: 0.4422841\ttotal: 1m 35s\tremaining: 2m 43s\n",
      "369:\tlearn: 0.4422341\ttotal: 1m 35s\tremaining: 2m 43s\n",
      "370:\tlearn: 0.4421910\ttotal: 1m 36s\tremaining: 2m 43s\n",
      "371:\tlearn: 0.4421023\ttotal: 1m 36s\tremaining: 2m 42s\n",
      "372:\tlearn: 0.4420730\ttotal: 1m 36s\tremaining: 2m 42s\n",
      "373:\tlearn: 0.4420252\ttotal: 1m 37s\tremaining: 2m 42s\n",
      "374:\tlearn: 0.4419777\ttotal: 1m 37s\tremaining: 2m 42s\n",
      "375:\tlearn: 0.4419197\ttotal: 1m 37s\tremaining: 2m 42s\n",
      "376:\tlearn: 0.4418910\ttotal: 1m 37s\tremaining: 2m 41s\n",
      "377:\tlearn: 0.4418361\ttotal: 1m 38s\tremaining: 2m 41s\n",
      "378:\tlearn: 0.4417710\ttotal: 1m 38s\tremaining: 2m 41s\n",
      "379:\tlearn: 0.4417236\ttotal: 1m 38s\tremaining: 2m 41s\n",
      "380:\tlearn: 0.4416736\ttotal: 1m 39s\tremaining: 2m 40s\n",
      "381:\tlearn: 0.4416205\ttotal: 1m 39s\tremaining: 2m 40s\n",
      "382:\tlearn: 0.4415779\ttotal: 1m 39s\tremaining: 2m 40s\n",
      "383:\tlearn: 0.4415378\ttotal: 1m 39s\tremaining: 2m 40s\n",
      "384:\tlearn: 0.4415188\ttotal: 1m 40s\tremaining: 2m 40s\n",
      "385:\tlearn: 0.4414865\ttotal: 1m 40s\tremaining: 2m 39s\n",
      "386:\tlearn: 0.4414661\ttotal: 1m 40s\tremaining: 2m 39s\n",
      "387:\tlearn: 0.4414283\ttotal: 1m 41s\tremaining: 2m 39s\n",
      "388:\tlearn: 0.4413817\ttotal: 1m 41s\tremaining: 2m 39s\n",
      "389:\tlearn: 0.4413029\ttotal: 1m 41s\tremaining: 2m 38s\n",
      "390:\tlearn: 0.4412290\ttotal: 1m 41s\tremaining: 2m 38s\n",
      "391:\tlearn: 0.4412108\ttotal: 1m 42s\tremaining: 2m 38s\n",
      "392:\tlearn: 0.4411871\ttotal: 1m 42s\tremaining: 2m 38s\n",
      "393:\tlearn: 0.4411515\ttotal: 1m 42s\tremaining: 2m 38s\n",
      "394:\tlearn: 0.4411150\ttotal: 1m 43s\tremaining: 2m 37s\n",
      "395:\tlearn: 0.4410766\ttotal: 1m 43s\tremaining: 2m 37s\n",
      "396:\tlearn: 0.4410351\ttotal: 1m 43s\tremaining: 2m 37s\n",
      "397:\tlearn: 0.4409794\ttotal: 1m 43s\tremaining: 2m 37s\n",
      "398:\tlearn: 0.4409358\ttotal: 1m 44s\tremaining: 2m 36s\n",
      "399:\tlearn: 0.4408743\ttotal: 1m 44s\tremaining: 2m 36s\n",
      "400:\tlearn: 0.4408368\ttotal: 1m 44s\tremaining: 2m 36s\n",
      "401:\tlearn: 0.4408225\ttotal: 1m 44s\tremaining: 2m 36s\n",
      "402:\tlearn: 0.4407770\ttotal: 1m 45s\tremaining: 2m 35s\n",
      "403:\tlearn: 0.4407459\ttotal: 1m 45s\tremaining: 2m 35s\n",
      "404:\tlearn: 0.4407307\ttotal: 1m 45s\tremaining: 2m 35s\n",
      "405:\tlearn: 0.4406891\ttotal: 1m 45s\tremaining: 2m 34s\n",
      "406:\tlearn: 0.4406488\ttotal: 1m 46s\tremaining: 2m 34s\n",
      "407:\tlearn: 0.4406099\ttotal: 1m 46s\tremaining: 2m 34s\n",
      "408:\tlearn: 0.4405731\ttotal: 1m 46s\tremaining: 2m 34s\n",
      "409:\tlearn: 0.4405424\ttotal: 1m 46s\tremaining: 2m 33s\n",
      "410:\tlearn: 0.4404975\ttotal: 1m 47s\tremaining: 2m 33s\n",
      "411:\tlearn: 0.4404596\ttotal: 1m 47s\tremaining: 2m 33s\n",
      "412:\tlearn: 0.4404105\ttotal: 1m 47s\tremaining: 2m 33s\n",
      "413:\tlearn: 0.4403733\ttotal: 1m 47s\tremaining: 2m 32s\n",
      "414:\tlearn: 0.4403415\ttotal: 1m 48s\tremaining: 2m 32s\n",
      "415:\tlearn: 0.4402831\ttotal: 1m 48s\tremaining: 2m 32s\n",
      "416:\tlearn: 0.4402481\ttotal: 1m 48s\tremaining: 2m 32s\n",
      "417:\tlearn: 0.4402121\ttotal: 1m 49s\tremaining: 2m 31s\n",
      "418:\tlearn: 0.4401780\ttotal: 1m 49s\tremaining: 2m 31s\n",
      "419:\tlearn: 0.4401282\ttotal: 1m 49s\tremaining: 2m 31s\n",
      "420:\tlearn: 0.4400892\ttotal: 1m 49s\tremaining: 2m 31s\n",
      "421:\tlearn: 0.4400237\ttotal: 1m 50s\tremaining: 2m 30s\n",
      "422:\tlearn: 0.4399811\ttotal: 1m 50s\tremaining: 2m 30s\n",
      "423:\tlearn: 0.4399453\ttotal: 1m 50s\tremaining: 2m 30s\n",
      "424:\tlearn: 0.4399178\ttotal: 1m 50s\tremaining: 2m 29s\n",
      "425:\tlearn: 0.4398783\ttotal: 1m 51s\tremaining: 2m 29s\n",
      "426:\tlearn: 0.4398242\ttotal: 1m 51s\tremaining: 2m 29s\n",
      "427:\tlearn: 0.4397842\ttotal: 1m 51s\tremaining: 2m 29s\n",
      "428:\tlearn: 0.4397754\ttotal: 1m 51s\tremaining: 2m 28s\n",
      "429:\tlearn: 0.4397379\ttotal: 1m 52s\tremaining: 2m 28s\n",
      "430:\tlearn: 0.4396905\ttotal: 1m 52s\tremaining: 2m 28s\n",
      "431:\tlearn: 0.4396431\ttotal: 1m 52s\tremaining: 2m 28s\n",
      "432:\tlearn: 0.4396054\ttotal: 1m 52s\tremaining: 2m 27s\n",
      "433:\tlearn: 0.4395677\ttotal: 1m 53s\tremaining: 2m 27s\n",
      "434:\tlearn: 0.4395225\ttotal: 1m 53s\tremaining: 2m 27s\n",
      "435:\tlearn: 0.4394572\ttotal: 1m 53s\tremaining: 2m 27s\n",
      "436:\tlearn: 0.4394349\ttotal: 1m 54s\tremaining: 2m 27s\n",
      "437:\tlearn: 0.4393833\ttotal: 1m 54s\tremaining: 2m 26s\n",
      "438:\tlearn: 0.4393397\ttotal: 1m 54s\tremaining: 2m 26s\n",
      "439:\tlearn: 0.4393075\ttotal: 1m 54s\tremaining: 2m 26s\n",
      "440:\tlearn: 0.4392632\ttotal: 1m 55s\tremaining: 2m 26s\n",
      "441:\tlearn: 0.4392214\ttotal: 1m 55s\tremaining: 2m 25s\n",
      "442:\tlearn: 0.4391676\ttotal: 1m 55s\tremaining: 2m 25s\n",
      "443:\tlearn: 0.4391194\ttotal: 1m 55s\tremaining: 2m 25s\n",
      "444:\tlearn: 0.4390772\ttotal: 1m 56s\tremaining: 2m 24s\n",
      "445:\tlearn: 0.4390256\ttotal: 1m 56s\tremaining: 2m 24s\n",
      "446:\tlearn: 0.4389940\ttotal: 1m 56s\tremaining: 2m 24s\n",
      "447:\tlearn: 0.4389556\ttotal: 1m 56s\tremaining: 2m 23s\n",
      "448:\tlearn: 0.4389034\ttotal: 1m 57s\tremaining: 2m 23s\n",
      "449:\tlearn: 0.4388649\ttotal: 1m 57s\tremaining: 2m 23s\n",
      "450:\tlearn: 0.4388381\ttotal: 1m 57s\tremaining: 2m 22s\n",
      "451:\tlearn: 0.4387802\ttotal: 1m 57s\tremaining: 2m 22s\n",
      "452:\tlearn: 0.4387226\ttotal: 1m 57s\tremaining: 2m 22s\n",
      "453:\tlearn: 0.4386996\ttotal: 1m 58s\tremaining: 2m 22s\n",
      "454:\tlearn: 0.4386566\ttotal: 1m 58s\tremaining: 2m 21s\n",
      "455:\tlearn: 0.4386187\ttotal: 1m 58s\tremaining: 2m 21s\n",
      "456:\tlearn: 0.4385819\ttotal: 1m 58s\tremaining: 2m 21s\n",
      "457:\tlearn: 0.4385250\ttotal: 1m 59s\tremaining: 2m 21s\n",
      "458:\tlearn: 0.4384742\ttotal: 1m 59s\tremaining: 2m 20s\n",
      "459:\tlearn: 0.4384171\ttotal: 1m 59s\tremaining: 2m 20s\n",
      "460:\tlearn: 0.4383372\ttotal: 1m 59s\tremaining: 2m 20s\n",
      "461:\tlearn: 0.4382986\ttotal: 2m\tremaining: 2m 19s\n",
      "462:\tlearn: 0.4382672\ttotal: 2m\tremaining: 2m 19s\n",
      "463:\tlearn: 0.4382340\ttotal: 2m\tremaining: 2m 19s\n",
      "464:\tlearn: 0.4382011\ttotal: 2m\tremaining: 2m 19s\n",
      "465:\tlearn: 0.4381798\ttotal: 2m 1s\tremaining: 2m 18s\n",
      "466:\tlearn: 0.4381531\ttotal: 2m 1s\tremaining: 2m 18s\n",
      "467:\tlearn: 0.4381258\ttotal: 2m 1s\tremaining: 2m 18s\n",
      "468:\tlearn: 0.4380823\ttotal: 2m 1s\tremaining: 2m 18s\n",
      "469:\tlearn: 0.4380516\ttotal: 2m 2s\tremaining: 2m 17s\n",
      "470:\tlearn: 0.4380014\ttotal: 2m 2s\tremaining: 2m 17s\n",
      "471:\tlearn: 0.4379603\ttotal: 2m 2s\tremaining: 2m 17s\n",
      "472:\tlearn: 0.4379270\ttotal: 2m 2s\tremaining: 2m 16s\n",
      "473:\tlearn: 0.4378616\ttotal: 2m 3s\tremaining: 2m 16s\n",
      "474:\tlearn: 0.4378271\ttotal: 2m 3s\tremaining: 2m 16s\n",
      "475:\tlearn: 0.4377995\ttotal: 2m 3s\tremaining: 2m 16s\n",
      "476:\tlearn: 0.4377713\ttotal: 2m 3s\tremaining: 2m 15s\n",
      "477:\tlearn: 0.4377336\ttotal: 2m 4s\tremaining: 2m 15s\n",
      "478:\tlearn: 0.4377078\ttotal: 2m 4s\tremaining: 2m 15s\n",
      "479:\tlearn: 0.4376634\ttotal: 2m 4s\tremaining: 2m 15s\n",
      "480:\tlearn: 0.4376129\ttotal: 2m 4s\tremaining: 2m 14s\n",
      "481:\tlearn: 0.4375688\ttotal: 2m 5s\tremaining: 2m 14s\n",
      "482:\tlearn: 0.4375391\ttotal: 2m 5s\tremaining: 2m 14s\n",
      "483:\tlearn: 0.4374782\ttotal: 2m 5s\tremaining: 2m 14s\n",
      "484:\tlearn: 0.4374441\ttotal: 2m 6s\tremaining: 2m 13s\n",
      "485:\tlearn: 0.4374046\ttotal: 2m 6s\tremaining: 2m 13s\n",
      "486:\tlearn: 0.4373830\ttotal: 2m 6s\tremaining: 2m 13s\n",
      "487:\tlearn: 0.4373544\ttotal: 2m 7s\tremaining: 2m 13s\n",
      "488:\tlearn: 0.4372969\ttotal: 2m 7s\tremaining: 2m 13s\n",
      "489:\tlearn: 0.4372560\ttotal: 2m 7s\tremaining: 2m 12s\n",
      "490:\tlearn: 0.4372179\ttotal: 2m 7s\tremaining: 2m 12s\n",
      "491:\tlearn: 0.4371639\ttotal: 2m 7s\tremaining: 2m 12s\n",
      "492:\tlearn: 0.4371348\ttotal: 2m 8s\tremaining: 2m 11s\n",
      "493:\tlearn: 0.4370790\ttotal: 2m 8s\tremaining: 2m 11s\n",
      "494:\tlearn: 0.4370597\ttotal: 2m 8s\tremaining: 2m 11s\n",
      "495:\tlearn: 0.4370234\ttotal: 2m 9s\tremaining: 2m 11s\n",
      "496:\tlearn: 0.4369780\ttotal: 2m 9s\tremaining: 2m 10s\n",
      "497:\tlearn: 0.4369439\ttotal: 2m 9s\tremaining: 2m 10s\n",
      "498:\tlearn: 0.4369142\ttotal: 2m 9s\tremaining: 2m 10s\n",
      "499:\tlearn: 0.4368556\ttotal: 2m 10s\tremaining: 2m 10s\n",
      "500:\tlearn: 0.4368130\ttotal: 2m 10s\tremaining: 2m 9s\n",
      "501:\tlearn: 0.4367810\ttotal: 2m 10s\tremaining: 2m 9s\n",
      "502:\tlearn: 0.4367602\ttotal: 2m 10s\tremaining: 2m 9s\n",
      "503:\tlearn: 0.4367299\ttotal: 2m 11s\tremaining: 2m 9s\n",
      "504:\tlearn: 0.4367070\ttotal: 2m 11s\tremaining: 2m 8s\n",
      "505:\tlearn: 0.4366786\ttotal: 2m 11s\tremaining: 2m 8s\n",
      "506:\tlearn: 0.4366642\ttotal: 2m 11s\tremaining: 2m 8s\n",
      "507:\tlearn: 0.4366315\ttotal: 2m 12s\tremaining: 2m 7s\n",
      "508:\tlearn: 0.4365693\ttotal: 2m 12s\tremaining: 2m 7s\n",
      "509:\tlearn: 0.4365332\ttotal: 2m 12s\tremaining: 2m 7s\n",
      "510:\tlearn: 0.4364746\ttotal: 2m 12s\tremaining: 2m 7s\n",
      "511:\tlearn: 0.4364394\ttotal: 2m 13s\tremaining: 2m 6s\n",
      "512:\tlearn: 0.4364033\ttotal: 2m 13s\tremaining: 2m 6s\n",
      "513:\tlearn: 0.4363550\ttotal: 2m 13s\tremaining: 2m 6s\n",
      "514:\tlearn: 0.4363144\ttotal: 2m 13s\tremaining: 2m 6s\n",
      "515:\tlearn: 0.4362478\ttotal: 2m 14s\tremaining: 2m 5s\n",
      "516:\tlearn: 0.4362160\ttotal: 2m 14s\tremaining: 2m 5s\n",
      "517:\tlearn: 0.4361887\ttotal: 2m 14s\tremaining: 2m 5s\n",
      "518:\tlearn: 0.4361373\ttotal: 2m 14s\tremaining: 2m 5s\n",
      "519:\tlearn: 0.4360991\ttotal: 2m 15s\tremaining: 2m 4s\n",
      "520:\tlearn: 0.4360537\ttotal: 2m 15s\tremaining: 2m 4s\n",
      "521:\tlearn: 0.4360204\ttotal: 2m 15s\tremaining: 2m 4s\n",
      "522:\tlearn: 0.4359814\ttotal: 2m 15s\tremaining: 2m 3s\n",
      "523:\tlearn: 0.4359294\ttotal: 2m 16s\tremaining: 2m 3s\n",
      "524:\tlearn: 0.4358960\ttotal: 2m 16s\tremaining: 2m 3s\n",
      "525:\tlearn: 0.4358385\ttotal: 2m 16s\tremaining: 2m 3s\n",
      "526:\tlearn: 0.4357817\ttotal: 2m 16s\tremaining: 2m 2s\n",
      "527:\tlearn: 0.4357362\ttotal: 2m 17s\tremaining: 2m 2s\n",
      "528:\tlearn: 0.4357128\ttotal: 2m 17s\tremaining: 2m 2s\n",
      "529:\tlearn: 0.4356810\ttotal: 2m 17s\tremaining: 2m 1s\n",
      "530:\tlearn: 0.4356435\ttotal: 2m 17s\tremaining: 2m 1s\n",
      "531:\tlearn: 0.4356075\ttotal: 2m 18s\tremaining: 2m 1s\n",
      "532:\tlearn: 0.4355700\ttotal: 2m 18s\tremaining: 2m 1s\n",
      "533:\tlearn: 0.4355446\ttotal: 2m 18s\tremaining: 2m\n",
      "534:\tlearn: 0.4355046\ttotal: 2m 18s\tremaining: 2m\n",
      "535:\tlearn: 0.4354908\ttotal: 2m 19s\tremaining: 2m\n",
      "536:\tlearn: 0.4354385\ttotal: 2m 19s\tremaining: 2m\n",
      "537:\tlearn: 0.4354032\ttotal: 2m 19s\tremaining: 1m 59s\n",
      "538:\tlearn: 0.4353753\ttotal: 2m 19s\tremaining: 1m 59s\n",
      "539:\tlearn: 0.4353506\ttotal: 2m 20s\tremaining: 1m 59s\n",
      "540:\tlearn: 0.4353074\ttotal: 2m 20s\tremaining: 1m 59s\n",
      "541:\tlearn: 0.4352963\ttotal: 2m 20s\tremaining: 1m 58s\n",
      "542:\tlearn: 0.4352786\ttotal: 2m 20s\tremaining: 1m 58s\n",
      "543:\tlearn: 0.4352333\ttotal: 2m 21s\tremaining: 1m 58s\n",
      "544:\tlearn: 0.4351983\ttotal: 2m 21s\tremaining: 1m 58s\n",
      "545:\tlearn: 0.4351661\ttotal: 2m 21s\tremaining: 1m 57s\n",
      "546:\tlearn: 0.4351381\ttotal: 2m 21s\tremaining: 1m 57s\n",
      "547:\tlearn: 0.4351000\ttotal: 2m 22s\tremaining: 1m 57s\n",
      "548:\tlearn: 0.4350705\ttotal: 2m 22s\tremaining: 1m 56s\n",
      "549:\tlearn: 0.4350438\ttotal: 2m 22s\tremaining: 1m 56s\n",
      "550:\tlearn: 0.4349768\ttotal: 2m 22s\tremaining: 1m 56s\n",
      "551:\tlearn: 0.4349371\ttotal: 2m 23s\tremaining: 1m 56s\n",
      "552:\tlearn: 0.4349084\ttotal: 2m 23s\tremaining: 1m 55s\n",
      "553:\tlearn: 0.4348621\ttotal: 2m 23s\tremaining: 1m 55s\n",
      "554:\tlearn: 0.4348392\ttotal: 2m 24s\tremaining: 1m 55s\n",
      "555:\tlearn: 0.4348129\ttotal: 2m 24s\tremaining: 1m 55s\n",
      "556:\tlearn: 0.4347710\ttotal: 2m 24s\tremaining: 1m 54s\n",
      "557:\tlearn: 0.4347380\ttotal: 2m 24s\tremaining: 1m 54s\n",
      "558:\tlearn: 0.4347094\ttotal: 2m 25s\tremaining: 1m 54s\n",
      "559:\tlearn: 0.4346614\ttotal: 2m 25s\tremaining: 1m 54s\n",
      "560:\tlearn: 0.4346480\ttotal: 2m 25s\tremaining: 1m 53s\n",
      "561:\tlearn: 0.4346172\ttotal: 2m 25s\tremaining: 1m 53s\n",
      "562:\tlearn: 0.4345644\ttotal: 2m 26s\tremaining: 1m 53s\n",
      "563:\tlearn: 0.4345259\ttotal: 2m 26s\tremaining: 1m 53s\n",
      "564:\tlearn: 0.4345084\ttotal: 2m 26s\tremaining: 1m 52s\n",
      "565:\tlearn: 0.4344723\ttotal: 2m 26s\tremaining: 1m 52s\n",
      "566:\tlearn: 0.4344434\ttotal: 2m 27s\tremaining: 1m 52s\n",
      "567:\tlearn: 0.4344160\ttotal: 2m 27s\tremaining: 1m 52s\n",
      "568:\tlearn: 0.4343853\ttotal: 2m 27s\tremaining: 1m 51s\n",
      "569:\tlearn: 0.4343580\ttotal: 2m 27s\tremaining: 1m 51s\n",
      "570:\tlearn: 0.4343203\ttotal: 2m 28s\tremaining: 1m 51s\n",
      "571:\tlearn: 0.4342955\ttotal: 2m 28s\tremaining: 1m 51s\n",
      "572:\tlearn: 0.4342792\ttotal: 2m 28s\tremaining: 1m 50s\n",
      "573:\tlearn: 0.4342509\ttotal: 2m 29s\tremaining: 1m 50s\n",
      "574:\tlearn: 0.4342216\ttotal: 2m 29s\tremaining: 1m 50s\n",
      "575:\tlearn: 0.4341672\ttotal: 2m 29s\tremaining: 1m 50s\n",
      "576:\tlearn: 0.4341171\ttotal: 2m 29s\tremaining: 1m 49s\n",
      "577:\tlearn: 0.4340901\ttotal: 2m 30s\tremaining: 1m 49s\n",
      "578:\tlearn: 0.4340420\ttotal: 2m 30s\tremaining: 1m 49s\n",
      "579:\tlearn: 0.4340197\ttotal: 2m 30s\tremaining: 1m 49s\n",
      "580:\tlearn: 0.4339961\ttotal: 2m 31s\tremaining: 1m 49s\n",
      "581:\tlearn: 0.4339765\ttotal: 2m 31s\tremaining: 1m 48s\n",
      "582:\tlearn: 0.4339199\ttotal: 2m 31s\tremaining: 1m 48s\n",
      "583:\tlearn: 0.4338564\ttotal: 2m 32s\tremaining: 1m 48s\n",
      "584:\tlearn: 0.4338161\ttotal: 2m 32s\tremaining: 1m 48s\n",
      "585:\tlearn: 0.4337950\ttotal: 2m 32s\tremaining: 1m 48s\n",
      "586:\tlearn: 0.4337428\ttotal: 2m 33s\tremaining: 1m 47s\n",
      "587:\tlearn: 0.4337176\ttotal: 2m 33s\tremaining: 1m 47s\n",
      "588:\tlearn: 0.4336685\ttotal: 2m 33s\tremaining: 1m 47s\n",
      "589:\tlearn: 0.4336303\ttotal: 2m 34s\tremaining: 1m 47s\n",
      "590:\tlearn: 0.4335921\ttotal: 2m 34s\tremaining: 1m 46s\n",
      "591:\tlearn: 0.4335684\ttotal: 2m 34s\tremaining: 1m 46s\n",
      "592:\tlearn: 0.4335300\ttotal: 2m 34s\tremaining: 1m 46s\n",
      "593:\tlearn: 0.4335153\ttotal: 2m 34s\tremaining: 1m 45s\n",
      "594:\tlearn: 0.4334717\ttotal: 2m 35s\tremaining: 1m 45s\n",
      "595:\tlearn: 0.4334304\ttotal: 2m 35s\tremaining: 1m 45s\n",
      "596:\tlearn: 0.4333861\ttotal: 2m 35s\tremaining: 1m 45s\n",
      "597:\tlearn: 0.4333481\ttotal: 2m 36s\tremaining: 1m 44s\n",
      "598:\tlearn: 0.4333093\ttotal: 2m 36s\tremaining: 1m 44s\n",
      "599:\tlearn: 0.4332758\ttotal: 2m 36s\tremaining: 1m 44s\n",
      "600:\tlearn: 0.4332521\ttotal: 2m 37s\tremaining: 1m 44s\n",
      "601:\tlearn: 0.4332108\ttotal: 2m 37s\tremaining: 1m 44s\n",
      "602:\tlearn: 0.4331451\ttotal: 2m 37s\tremaining: 1m 43s\n",
      "603:\tlearn: 0.4331229\ttotal: 2m 37s\tremaining: 1m 43s\n",
      "604:\tlearn: 0.4330979\ttotal: 2m 38s\tremaining: 1m 43s\n",
      "605:\tlearn: 0.4330584\ttotal: 2m 38s\tremaining: 1m 42s\n",
      "606:\tlearn: 0.4329990\ttotal: 2m 38s\tremaining: 1m 42s\n",
      "607:\tlearn: 0.4329605\ttotal: 2m 39s\tremaining: 1m 42s\n",
      "608:\tlearn: 0.4329175\ttotal: 2m 39s\tremaining: 1m 42s\n",
      "609:\tlearn: 0.4328950\ttotal: 2m 39s\tremaining: 1m 41s\n",
      "610:\tlearn: 0.4328687\ttotal: 2m 39s\tremaining: 1m 41s\n",
      "611:\tlearn: 0.4328439\ttotal: 2m 40s\tremaining: 1m 41s\n",
      "612:\tlearn: 0.4328299\ttotal: 2m 40s\tremaining: 1m 41s\n",
      "613:\tlearn: 0.4327846\ttotal: 2m 40s\tremaining: 1m 41s\n",
      "614:\tlearn: 0.4327642\ttotal: 2m 41s\tremaining: 1m 40s\n",
      "615:\tlearn: 0.4327262\ttotal: 2m 41s\tremaining: 1m 40s\n",
      "616:\tlearn: 0.4326822\ttotal: 2m 41s\tremaining: 1m 40s\n",
      "617:\tlearn: 0.4326369\ttotal: 2m 41s\tremaining: 1m 40s\n",
      "618:\tlearn: 0.4325943\ttotal: 2m 42s\tremaining: 1m 39s\n",
      "619:\tlearn: 0.4325543\ttotal: 2m 42s\tremaining: 1m 39s\n",
      "620:\tlearn: 0.4325316\ttotal: 2m 42s\tremaining: 1m 39s\n",
      "621:\tlearn: 0.4325098\ttotal: 2m 43s\tremaining: 1m 39s\n",
      "622:\tlearn: 0.4324902\ttotal: 2m 43s\tremaining: 1m 38s\n",
      "623:\tlearn: 0.4324580\ttotal: 2m 43s\tremaining: 1m 38s\n",
      "624:\tlearn: 0.4323974\ttotal: 2m 43s\tremaining: 1m 38s\n",
      "625:\tlearn: 0.4323593\ttotal: 2m 44s\tremaining: 1m 38s\n",
      "626:\tlearn: 0.4323140\ttotal: 2m 44s\tremaining: 1m 37s\n",
      "627:\tlearn: 0.4322954\ttotal: 2m 44s\tremaining: 1m 37s\n",
      "628:\tlearn: 0.4322813\ttotal: 2m 45s\tremaining: 1m 37s\n",
      "629:\tlearn: 0.4322519\ttotal: 2m 45s\tremaining: 1m 37s\n",
      "630:\tlearn: 0.4322277\ttotal: 2m 45s\tremaining: 1m 36s\n",
      "631:\tlearn: 0.4321750\ttotal: 2m 46s\tremaining: 1m 36s\n",
      "632:\tlearn: 0.4321232\ttotal: 2m 46s\tremaining: 1m 36s\n",
      "633:\tlearn: 0.4321004\ttotal: 2m 46s\tremaining: 1m 36s\n",
      "634:\tlearn: 0.4320660\ttotal: 2m 46s\tremaining: 1m 35s\n",
      "635:\tlearn: 0.4320186\ttotal: 2m 47s\tremaining: 1m 35s\n",
      "636:\tlearn: 0.4319899\ttotal: 2m 47s\tremaining: 1m 35s\n",
      "637:\tlearn: 0.4319553\ttotal: 2m 47s\tremaining: 1m 35s\n",
      "638:\tlearn: 0.4319408\ttotal: 2m 47s\tremaining: 1m 34s\n",
      "639:\tlearn: 0.4319171\ttotal: 2m 48s\tremaining: 1m 34s\n",
      "640:\tlearn: 0.4318823\ttotal: 2m 48s\tremaining: 1m 34s\n",
      "641:\tlearn: 0.4318520\ttotal: 2m 48s\tremaining: 1m 34s\n",
      "642:\tlearn: 0.4318330\ttotal: 2m 48s\tremaining: 1m 33s\n",
      "643:\tlearn: 0.4318066\ttotal: 2m 49s\tremaining: 1m 33s\n",
      "644:\tlearn: 0.4317794\ttotal: 2m 49s\tremaining: 1m 33s\n",
      "645:\tlearn: 0.4317504\ttotal: 2m 49s\tremaining: 1m 33s\n",
      "646:\tlearn: 0.4317089\ttotal: 2m 50s\tremaining: 1m 32s\n",
      "647:\tlearn: 0.4316834\ttotal: 2m 50s\tremaining: 1m 32s\n",
      "648:\tlearn: 0.4316503\ttotal: 2m 50s\tremaining: 1m 32s\n",
      "649:\tlearn: 0.4316088\ttotal: 2m 51s\tremaining: 1m 32s\n",
      "650:\tlearn: 0.4315834\ttotal: 2m 51s\tremaining: 1m 31s\n",
      "651:\tlearn: 0.4315320\ttotal: 2m 51s\tremaining: 1m 31s\n",
      "652:\tlearn: 0.4315146\ttotal: 2m 51s\tremaining: 1m 31s\n",
      "653:\tlearn: 0.4314824\ttotal: 2m 52s\tremaining: 1m 31s\n",
      "654:\tlearn: 0.4314432\ttotal: 2m 52s\tremaining: 1m 30s\n",
      "655:\tlearn: 0.4314059\ttotal: 2m 52s\tremaining: 1m 30s\n",
      "656:\tlearn: 0.4313664\ttotal: 2m 52s\tremaining: 1m 30s\n",
      "657:\tlearn: 0.4313295\ttotal: 2m 53s\tremaining: 1m 30s\n",
      "658:\tlearn: 0.4313074\ttotal: 2m 53s\tremaining: 1m 29s\n",
      "659:\tlearn: 0.4312605\ttotal: 2m 53s\tremaining: 1m 29s\n",
      "660:\tlearn: 0.4312278\ttotal: 2m 53s\tremaining: 1m 29s\n",
      "661:\tlearn: 0.4311967\ttotal: 2m 54s\tremaining: 1m 28s\n",
      "662:\tlearn: 0.4311664\ttotal: 2m 54s\tremaining: 1m 28s\n",
      "663:\tlearn: 0.4311329\ttotal: 2m 54s\tremaining: 1m 28s\n",
      "664:\tlearn: 0.4310620\ttotal: 2m 55s\tremaining: 1m 28s\n",
      "665:\tlearn: 0.4310276\ttotal: 2m 55s\tremaining: 1m 27s\n",
      "666:\tlearn: 0.4309878\ttotal: 2m 55s\tremaining: 1m 27s\n",
      "667:\tlearn: 0.4309488\ttotal: 2m 55s\tremaining: 1m 27s\n",
      "668:\tlearn: 0.4309071\ttotal: 2m 56s\tremaining: 1m 27s\n",
      "669:\tlearn: 0.4308718\ttotal: 2m 56s\tremaining: 1m 26s\n",
      "670:\tlearn: 0.4308244\ttotal: 2m 56s\tremaining: 1m 26s\n",
      "671:\tlearn: 0.4307892\ttotal: 2m 57s\tremaining: 1m 26s\n",
      "672:\tlearn: 0.4307445\ttotal: 2m 57s\tremaining: 1m 26s\n",
      "673:\tlearn: 0.4306792\ttotal: 2m 57s\tremaining: 1m 25s\n",
      "674:\tlearn: 0.4306408\ttotal: 2m 57s\tremaining: 1m 25s\n",
      "675:\tlearn: 0.4306096\ttotal: 2m 58s\tremaining: 1m 25s\n",
      "676:\tlearn: 0.4305759\ttotal: 2m 58s\tremaining: 1m 25s\n",
      "677:\tlearn: 0.4305505\ttotal: 2m 58s\tremaining: 1m 24s\n",
      "678:\tlearn: 0.4305324\ttotal: 2m 58s\tremaining: 1m 24s\n",
      "679:\tlearn: 0.4305099\ttotal: 2m 59s\tremaining: 1m 24s\n",
      "680:\tlearn: 0.4304804\ttotal: 2m 59s\tremaining: 1m 24s\n",
      "681:\tlearn: 0.4304561\ttotal: 3m\tremaining: 1m 23s\n",
      "682:\tlearn: 0.4304147\ttotal: 3m\tremaining: 1m 23s\n",
      "683:\tlearn: 0.4303970\ttotal: 3m\tremaining: 1m 23s\n",
      "684:\tlearn: 0.4303617\ttotal: 3m\tremaining: 1m 23s\n",
      "685:\tlearn: 0.4303363\ttotal: 3m 1s\tremaining: 1m 22s\n",
      "686:\tlearn: 0.4302982\ttotal: 3m 1s\tremaining: 1m 22s\n",
      "687:\tlearn: 0.4302587\ttotal: 3m 1s\tremaining: 1m 22s\n",
      "688:\tlearn: 0.4302223\ttotal: 3m 1s\tremaining: 1m 22s\n",
      "689:\tlearn: 0.4302008\ttotal: 3m 2s\tremaining: 1m 21s\n",
      "690:\tlearn: 0.4301650\ttotal: 3m 2s\tremaining: 1m 21s\n",
      "691:\tlearn: 0.4301240\ttotal: 3m 2s\tremaining: 1m 21s\n",
      "692:\tlearn: 0.4300970\ttotal: 3m 2s\tremaining: 1m 21s\n",
      "693:\tlearn: 0.4300721\ttotal: 3m 3s\tremaining: 1m 20s\n",
      "694:\tlearn: 0.4300429\ttotal: 3m 3s\tremaining: 1m 20s\n",
      "695:\tlearn: 0.4300128\ttotal: 3m 3s\tremaining: 1m 20s\n",
      "696:\tlearn: 0.4299871\ttotal: 3m 4s\tremaining: 1m 20s\n",
      "697:\tlearn: 0.4299510\ttotal: 3m 4s\tremaining: 1m 19s\n",
      "698:\tlearn: 0.4299095\ttotal: 3m 4s\tremaining: 1m 19s\n",
      "699:\tlearn: 0.4298765\ttotal: 3m 4s\tremaining: 1m 19s\n",
      "700:\tlearn: 0.4298615\ttotal: 3m 5s\tremaining: 1m 18s\n",
      "701:\tlearn: 0.4298117\ttotal: 3m 5s\tremaining: 1m 18s\n",
      "702:\tlearn: 0.4297842\ttotal: 3m 5s\tremaining: 1m 18s\n",
      "703:\tlearn: 0.4297553\ttotal: 3m 6s\tremaining: 1m 18s\n",
      "704:\tlearn: 0.4297181\ttotal: 3m 6s\tremaining: 1m 18s\n",
      "705:\tlearn: 0.4296881\ttotal: 3m 6s\tremaining: 1m 17s\n",
      "706:\tlearn: 0.4296649\ttotal: 3m 7s\tremaining: 1m 17s\n",
      "707:\tlearn: 0.4296211\ttotal: 3m 7s\tremaining: 1m 17s\n",
      "708:\tlearn: 0.4295990\ttotal: 3m 7s\tremaining: 1m 17s\n",
      "709:\tlearn: 0.4295488\ttotal: 3m 8s\tremaining: 1m 16s\n",
      "710:\tlearn: 0.4295219\ttotal: 3m 8s\tremaining: 1m 16s\n",
      "711:\tlearn: 0.4294683\ttotal: 3m 8s\tremaining: 1m 16s\n",
      "712:\tlearn: 0.4294381\ttotal: 3m 9s\tremaining: 1m 16s\n",
      "713:\tlearn: 0.4294052\ttotal: 3m 9s\tremaining: 1m 15s\n",
      "714:\tlearn: 0.4293778\ttotal: 3m 9s\tremaining: 1m 15s\n",
      "715:\tlearn: 0.4293476\ttotal: 3m 9s\tremaining: 1m 15s\n",
      "716:\tlearn: 0.4293129\ttotal: 3m 10s\tremaining: 1m 15s\n",
      "717:\tlearn: 0.4292916\ttotal: 3m 10s\tremaining: 1m 14s\n",
      "718:\tlearn: 0.4292565\ttotal: 3m 10s\tremaining: 1m 14s\n",
      "719:\tlearn: 0.4292219\ttotal: 3m 11s\tremaining: 1m 14s\n",
      "720:\tlearn: 0.4292028\ttotal: 3m 11s\tremaining: 1m 14s\n",
      "721:\tlearn: 0.4291666\ttotal: 3m 11s\tremaining: 1m 13s\n",
      "722:\tlearn: 0.4291035\ttotal: 3m 12s\tremaining: 1m 13s\n",
      "723:\tlearn: 0.4290897\ttotal: 3m 12s\tremaining: 1m 13s\n",
      "724:\tlearn: 0.4290436\ttotal: 3m 12s\tremaining: 1m 13s\n",
      "725:\tlearn: 0.4290012\ttotal: 3m 12s\tremaining: 1m 12s\n",
      "726:\tlearn: 0.4289615\ttotal: 3m 13s\tremaining: 1m 12s\n",
      "727:\tlearn: 0.4289322\ttotal: 3m 13s\tremaining: 1m 12s\n",
      "728:\tlearn: 0.4289017\ttotal: 3m 13s\tremaining: 1m 12s\n",
      "729:\tlearn: 0.4288832\ttotal: 3m 14s\tremaining: 1m 11s\n",
      "730:\tlearn: 0.4288360\ttotal: 3m 14s\tremaining: 1m 11s\n",
      "731:\tlearn: 0.4287967\ttotal: 3m 14s\tremaining: 1m 11s\n",
      "732:\tlearn: 0.4287875\ttotal: 3m 14s\tremaining: 1m 11s\n",
      "733:\tlearn: 0.4287508\ttotal: 3m 15s\tremaining: 1m 10s\n",
      "734:\tlearn: 0.4287315\ttotal: 3m 15s\tremaining: 1m 10s\n",
      "735:\tlearn: 0.4287107\ttotal: 3m 15s\tremaining: 1m 10s\n",
      "736:\tlearn: 0.4287002\ttotal: 3m 16s\tremaining: 1m 9s\n",
      "737:\tlearn: 0.4286607\ttotal: 3m 16s\tremaining: 1m 9s\n",
      "738:\tlearn: 0.4286169\ttotal: 3m 16s\tremaining: 1m 9s\n",
      "739:\tlearn: 0.4285823\ttotal: 3m 16s\tremaining: 1m 9s\n",
      "740:\tlearn: 0.4285373\ttotal: 3m 17s\tremaining: 1m 8s\n",
      "741:\tlearn: 0.4285077\ttotal: 3m 17s\tremaining: 1m 8s\n",
      "742:\tlearn: 0.4284794\ttotal: 3m 17s\tremaining: 1m 8s\n",
      "743:\tlearn: 0.4284491\ttotal: 3m 18s\tremaining: 1m 8s\n",
      "744:\tlearn: 0.4284021\ttotal: 3m 18s\tremaining: 1m 7s\n",
      "745:\tlearn: 0.4283520\ttotal: 3m 18s\tremaining: 1m 7s\n",
      "746:\tlearn: 0.4283265\ttotal: 3m 18s\tremaining: 1m 7s\n",
      "747:\tlearn: 0.4283216\ttotal: 3m 19s\tremaining: 1m 7s\n",
      "748:\tlearn: 0.4282440\ttotal: 3m 19s\tremaining: 1m 6s\n",
      "749:\tlearn: 0.4282224\ttotal: 3m 19s\tremaining: 1m 6s\n",
      "750:\tlearn: 0.4281983\ttotal: 3m 20s\tremaining: 1m 6s\n",
      "751:\tlearn: 0.4281560\ttotal: 3m 20s\tremaining: 1m 6s\n",
      "752:\tlearn: 0.4281052\ttotal: 3m 20s\tremaining: 1m 5s\n",
      "753:\tlearn: 0.4280709\ttotal: 3m 20s\tremaining: 1m 5s\n",
      "754:\tlearn: 0.4280070\ttotal: 3m 21s\tremaining: 1m 5s\n",
      "755:\tlearn: 0.4279887\ttotal: 3m 21s\tremaining: 1m 5s\n",
      "756:\tlearn: 0.4279514\ttotal: 3m 21s\tremaining: 1m 4s\n",
      "757:\tlearn: 0.4279169\ttotal: 3m 22s\tremaining: 1m 4s\n",
      "758:\tlearn: 0.4278831\ttotal: 3m 22s\tremaining: 1m 4s\n",
      "759:\tlearn: 0.4278409\ttotal: 3m 22s\tremaining: 1m 3s\n",
      "760:\tlearn: 0.4278094\ttotal: 3m 22s\tremaining: 1m 3s\n",
      "761:\tlearn: 0.4277871\ttotal: 3m 23s\tremaining: 1m 3s\n",
      "762:\tlearn: 0.4277672\ttotal: 3m 23s\tremaining: 1m 3s\n",
      "763:\tlearn: 0.4277348\ttotal: 3m 23s\tremaining: 1m 2s\n",
      "764:\tlearn: 0.4277106\ttotal: 3m 23s\tremaining: 1m 2s\n",
      "765:\tlearn: 0.4276669\ttotal: 3m 24s\tremaining: 1m 2s\n",
      "766:\tlearn: 0.4276398\ttotal: 3m 24s\tremaining: 1m 2s\n",
      "767:\tlearn: 0.4276073\ttotal: 3m 24s\tremaining: 1m 1s\n",
      "768:\tlearn: 0.4275614\ttotal: 3m 25s\tremaining: 1m 1s\n",
      "769:\tlearn: 0.4275456\ttotal: 3m 25s\tremaining: 1m 1s\n",
      "770:\tlearn: 0.4275047\ttotal: 3m 25s\tremaining: 1m 1s\n",
      "771:\tlearn: 0.4274696\ttotal: 3m 25s\tremaining: 1m\n",
      "772:\tlearn: 0.4274587\ttotal: 3m 26s\tremaining: 1m\n",
      "773:\tlearn: 0.4274310\ttotal: 3m 26s\tremaining: 1m\n",
      "774:\tlearn: 0.4273857\ttotal: 3m 26s\tremaining: 1m\n",
      "775:\tlearn: 0.4273729\ttotal: 3m 27s\tremaining: 59.8s\n",
      "776:\tlearn: 0.4273471\ttotal: 3m 27s\tremaining: 59.5s\n",
      "777:\tlearn: 0.4272964\ttotal: 3m 27s\tremaining: 59.3s\n",
      "778:\tlearn: 0.4272713\ttotal: 3m 28s\tremaining: 59s\n",
      "779:\tlearn: 0.4272438\ttotal: 3m 28s\tremaining: 58.8s\n",
      "780:\tlearn: 0.4272109\ttotal: 3m 28s\tremaining: 58.5s\n",
      "781:\tlearn: 0.4271698\ttotal: 3m 28s\tremaining: 58.2s\n",
      "782:\tlearn: 0.4271155\ttotal: 3m 29s\tremaining: 58s\n",
      "783:\tlearn: 0.4270939\ttotal: 3m 29s\tremaining: 57.8s\n",
      "784:\tlearn: 0.4270670\ttotal: 3m 29s\tremaining: 57.5s\n",
      "785:\tlearn: 0.4270469\ttotal: 3m 30s\tremaining: 57.3s\n",
      "786:\tlearn: 0.4270272\ttotal: 3m 30s\tremaining: 57s\n",
      "787:\tlearn: 0.4269883\ttotal: 3m 30s\tremaining: 56.7s\n",
      "788:\tlearn: 0.4269426\ttotal: 3m 31s\tremaining: 56.5s\n",
      "789:\tlearn: 0.4268933\ttotal: 3m 31s\tremaining: 56.2s\n",
      "790:\tlearn: 0.4268553\ttotal: 3m 31s\tremaining: 55.9s\n",
      "791:\tlearn: 0.4268412\ttotal: 3m 31s\tremaining: 55.7s\n",
      "792:\tlearn: 0.4268119\ttotal: 3m 32s\tremaining: 55.4s\n",
      "793:\tlearn: 0.4267761\ttotal: 3m 32s\tremaining: 55.1s\n",
      "794:\tlearn: 0.4267202\ttotal: 3m 32s\tremaining: 54.9s\n",
      "795:\tlearn: 0.4266927\ttotal: 3m 33s\tremaining: 54.6s\n",
      "796:\tlearn: 0.4266679\ttotal: 3m 33s\tremaining: 54.4s\n",
      "797:\tlearn: 0.4266470\ttotal: 3m 33s\tremaining: 54.1s\n",
      "798:\tlearn: 0.4265980\ttotal: 3m 34s\tremaining: 53.8s\n",
      "799:\tlearn: 0.4265759\ttotal: 3m 34s\tremaining: 53.6s\n",
      "800:\tlearn: 0.4265427\ttotal: 3m 34s\tremaining: 53.3s\n",
      "801:\tlearn: 0.4265175\ttotal: 3m 34s\tremaining: 53s\n",
      "802:\tlearn: 0.4264835\ttotal: 3m 35s\tremaining: 52.8s\n",
      "803:\tlearn: 0.4264595\ttotal: 3m 35s\tremaining: 52.5s\n",
      "804:\tlearn: 0.4264350\ttotal: 3m 35s\tremaining: 52.3s\n",
      "805:\tlearn: 0.4264103\ttotal: 3m 36s\tremaining: 52s\n",
      "806:\tlearn: 0.4263869\ttotal: 3m 36s\tremaining: 51.7s\n",
      "807:\tlearn: 0.4263433\ttotal: 3m 36s\tremaining: 51.5s\n",
      "808:\tlearn: 0.4263075\ttotal: 3m 37s\tremaining: 51.3s\n",
      "809:\tlearn: 0.4262674\ttotal: 3m 37s\tremaining: 51s\n",
      "810:\tlearn: 0.4262172\ttotal: 3m 37s\tremaining: 50.8s\n",
      "811:\tlearn: 0.4261805\ttotal: 3m 38s\tremaining: 50.6s\n",
      "812:\tlearn: 0.4261429\ttotal: 3m 38s\tremaining: 50.3s\n",
      "813:\tlearn: 0.4261109\ttotal: 3m 38s\tremaining: 50s\n",
      "814:\tlearn: 0.4260742\ttotal: 3m 39s\tremaining: 49.8s\n",
      "815:\tlearn: 0.4260424\ttotal: 3m 39s\tremaining: 49.5s\n",
      "816:\tlearn: 0.4259917\ttotal: 3m 39s\tremaining: 49.3s\n",
      "817:\tlearn: 0.4259440\ttotal: 3m 40s\tremaining: 49s\n",
      "818:\tlearn: 0.4258893\ttotal: 3m 40s\tremaining: 48.7s\n",
      "819:\tlearn: 0.4258681\ttotal: 3m 40s\tremaining: 48.5s\n",
      "820:\tlearn: 0.4258273\ttotal: 3m 41s\tremaining: 48.2s\n",
      "821:\tlearn: 0.4257884\ttotal: 3m 41s\tremaining: 48s\n",
      "822:\tlearn: 0.4257463\ttotal: 3m 41s\tremaining: 47.7s\n",
      "823:\tlearn: 0.4257050\ttotal: 3m 42s\tremaining: 47.4s\n",
      "824:\tlearn: 0.4256663\ttotal: 3m 42s\tremaining: 47.1s\n",
      "825:\tlearn: 0.4256034\ttotal: 3m 42s\tremaining: 46.9s\n",
      "826:\tlearn: 0.4255577\ttotal: 3m 42s\tremaining: 46.6s\n",
      "827:\tlearn: 0.4255262\ttotal: 3m 43s\tremaining: 46.3s\n",
      "828:\tlearn: 0.4255001\ttotal: 3m 43s\tremaining: 46.1s\n",
      "829:\tlearn: 0.4254941\ttotal: 3m 43s\tremaining: 45.8s\n",
      "830:\tlearn: 0.4254715\ttotal: 3m 44s\tremaining: 45.6s\n",
      "831:\tlearn: 0.4254344\ttotal: 3m 44s\tremaining: 45.3s\n",
      "832:\tlearn: 0.4254075\ttotal: 3m 44s\tremaining: 45.1s\n",
      "833:\tlearn: 0.4253570\ttotal: 3m 45s\tremaining: 44.8s\n",
      "834:\tlearn: 0.4253275\ttotal: 3m 45s\tremaining: 44.5s\n",
      "835:\tlearn: 0.4253090\ttotal: 3m 45s\tremaining: 44.3s\n",
      "836:\tlearn: 0.4252897\ttotal: 3m 46s\tremaining: 44s\n",
      "837:\tlearn: 0.4252483\ttotal: 3m 46s\tremaining: 43.8s\n",
      "838:\tlearn: 0.4252022\ttotal: 3m 46s\tremaining: 43.5s\n",
      "839:\tlearn: 0.4251549\ttotal: 3m 47s\tremaining: 43.2s\n",
      "840:\tlearn: 0.4251163\ttotal: 3m 47s\tremaining: 43s\n",
      "841:\tlearn: 0.4251015\ttotal: 3m 47s\tremaining: 42.7s\n",
      "842:\tlearn: 0.4250871\ttotal: 3m 47s\tremaining: 42.5s\n",
      "843:\tlearn: 0.4250771\ttotal: 3m 48s\tremaining: 42.2s\n",
      "844:\tlearn: 0.4250335\ttotal: 3m 48s\tremaining: 41.9s\n",
      "845:\tlearn: 0.4250273\ttotal: 3m 49s\tremaining: 41.7s\n",
      "846:\tlearn: 0.4249795\ttotal: 3m 49s\tremaining: 41.4s\n",
      "847:\tlearn: 0.4249444\ttotal: 3m 49s\tremaining: 41.2s\n",
      "848:\tlearn: 0.4249160\ttotal: 3m 49s\tremaining: 40.9s\n",
      "849:\tlearn: 0.4248847\ttotal: 3m 50s\tremaining: 40.6s\n",
      "850:\tlearn: 0.4248499\ttotal: 3m 50s\tremaining: 40.4s\n",
      "851:\tlearn: 0.4247931\ttotal: 3m 50s\tremaining: 40.1s\n",
      "852:\tlearn: 0.4247829\ttotal: 3m 51s\tremaining: 39.8s\n",
      "853:\tlearn: 0.4247395\ttotal: 3m 51s\tremaining: 39.5s\n",
      "854:\tlearn: 0.4246916\ttotal: 3m 51s\tremaining: 39.3s\n",
      "855:\tlearn: 0.4246578\ttotal: 3m 51s\tremaining: 39s\n",
      "856:\tlearn: 0.4246254\ttotal: 3m 52s\tremaining: 38.7s\n",
      "857:\tlearn: 0.4246028\ttotal: 3m 52s\tremaining: 38.5s\n",
      "858:\tlearn: 0.4245597\ttotal: 3m 52s\tremaining: 38.2s\n",
      "859:\tlearn: 0.4245374\ttotal: 3m 53s\tremaining: 37.9s\n",
      "860:\tlearn: 0.4245016\ttotal: 3m 53s\tremaining: 37.7s\n",
      "861:\tlearn: 0.4244659\ttotal: 3m 53s\tremaining: 37.4s\n",
      "862:\tlearn: 0.4244280\ttotal: 3m 53s\tremaining: 37.1s\n",
      "863:\tlearn: 0.4244126\ttotal: 3m 54s\tremaining: 36.9s\n",
      "864:\tlearn: 0.4243893\ttotal: 3m 54s\tremaining: 36.6s\n",
      "865:\tlearn: 0.4243631\ttotal: 3m 54s\tremaining: 36.3s\n",
      "866:\tlearn: 0.4243343\ttotal: 3m 55s\tremaining: 36.1s\n",
      "867:\tlearn: 0.4242991\ttotal: 3m 55s\tremaining: 35.8s\n",
      "868:\tlearn: 0.4242491\ttotal: 3m 55s\tremaining: 35.5s\n",
      "869:\tlearn: 0.4242287\ttotal: 3m 55s\tremaining: 35.3s\n",
      "870:\tlearn: 0.4241896\ttotal: 3m 56s\tremaining: 35s\n",
      "871:\tlearn: 0.4241527\ttotal: 3m 56s\tremaining: 34.7s\n",
      "872:\tlearn: 0.4241123\ttotal: 3m 56s\tremaining: 34.4s\n",
      "873:\tlearn: 0.4240948\ttotal: 3m 57s\tremaining: 34.2s\n",
      "874:\tlearn: 0.4240678\ttotal: 3m 57s\tremaining: 33.9s\n",
      "875:\tlearn: 0.4240470\ttotal: 3m 57s\tremaining: 33.6s\n",
      "876:\tlearn: 0.4240133\ttotal: 3m 57s\tremaining: 33.4s\n",
      "877:\tlearn: 0.4239937\ttotal: 3m 58s\tremaining: 33.1s\n",
      "878:\tlearn: 0.4239597\ttotal: 3m 58s\tremaining: 32.8s\n",
      "879:\tlearn: 0.4239295\ttotal: 3m 58s\tremaining: 32.6s\n",
      "880:\tlearn: 0.4238742\ttotal: 3m 59s\tremaining: 32.3s\n",
      "881:\tlearn: 0.4238335\ttotal: 3m 59s\tremaining: 32s\n",
      "882:\tlearn: 0.4238075\ttotal: 3m 59s\tremaining: 31.8s\n",
      "883:\tlearn: 0.4237665\ttotal: 3m 59s\tremaining: 31.5s\n",
      "884:\tlearn: 0.4237410\ttotal: 4m\tremaining: 31.2s\n",
      "885:\tlearn: 0.4237044\ttotal: 4m\tremaining: 30.9s\n",
      "886:\tlearn: 0.4236557\ttotal: 4m\tremaining: 30.7s\n",
      "887:\tlearn: 0.4236358\ttotal: 4m 1s\tremaining: 30.4s\n",
      "888:\tlearn: 0.4236095\ttotal: 4m 1s\tremaining: 30.1s\n",
      "889:\tlearn: 0.4235838\ttotal: 4m 1s\tremaining: 29.9s\n",
      "890:\tlearn: 0.4235527\ttotal: 4m 2s\tremaining: 29.6s\n",
      "891:\tlearn: 0.4235164\ttotal: 4m 2s\tremaining: 29.3s\n",
      "892:\tlearn: 0.4234866\ttotal: 4m 2s\tremaining: 29.1s\n",
      "893:\tlearn: 0.4234502\ttotal: 4m 2s\tremaining: 28.8s\n",
      "894:\tlearn: 0.4234168\ttotal: 4m 3s\tremaining: 28.5s\n",
      "895:\tlearn: 0.4233872\ttotal: 4m 3s\tremaining: 28.3s\n",
      "896:\tlearn: 0.4233579\ttotal: 4m 3s\tremaining: 28s\n",
      "897:\tlearn: 0.4233432\ttotal: 4m 4s\tremaining: 27.7s\n",
      "898:\tlearn: 0.4233175\ttotal: 4m 4s\tremaining: 27.5s\n",
      "899:\tlearn: 0.4232749\ttotal: 4m 4s\tremaining: 27.2s\n",
      "900:\tlearn: 0.4232450\ttotal: 4m 5s\tremaining: 26.9s\n",
      "901:\tlearn: 0.4232156\ttotal: 4m 5s\tremaining: 26.7s\n",
      "902:\tlearn: 0.4231763\ttotal: 4m 5s\tremaining: 26.4s\n",
      "903:\tlearn: 0.4231594\ttotal: 4m 6s\tremaining: 26.2s\n",
      "904:\tlearn: 0.4230951\ttotal: 4m 6s\tremaining: 25.9s\n",
      "905:\tlearn: 0.4230798\ttotal: 4m 7s\tremaining: 25.6s\n",
      "906:\tlearn: 0.4230456\ttotal: 4m 7s\tremaining: 25.4s\n",
      "907:\tlearn: 0.4229807\ttotal: 4m 7s\tremaining: 25.1s\n",
      "908:\tlearn: 0.4229595\ttotal: 4m 8s\tremaining: 24.8s\n",
      "909:\tlearn: 0.4229277\ttotal: 4m 8s\tremaining: 24.6s\n",
      "910:\tlearn: 0.4229076\ttotal: 4m 8s\tremaining: 24.3s\n",
      "911:\tlearn: 0.4228884\ttotal: 4m 8s\tremaining: 24s\n",
      "912:\tlearn: 0.4228434\ttotal: 4m 9s\tremaining: 23.7s\n",
      "913:\tlearn: 0.4228242\ttotal: 4m 9s\tremaining: 23.5s\n",
      "914:\tlearn: 0.4227764\ttotal: 4m 9s\tremaining: 23.2s\n",
      "915:\tlearn: 0.4227580\ttotal: 4m 10s\tremaining: 22.9s\n",
      "916:\tlearn: 0.4227374\ttotal: 4m 10s\tremaining: 22.7s\n",
      "917:\tlearn: 0.4227093\ttotal: 4m 10s\tremaining: 22.4s\n",
      "918:\tlearn: 0.4226754\ttotal: 4m 10s\tremaining: 22.1s\n",
      "919:\tlearn: 0.4226428\ttotal: 4m 11s\tremaining: 21.8s\n",
      "920:\tlearn: 0.4226202\ttotal: 4m 11s\tremaining: 21.6s\n",
      "921:\tlearn: 0.4225769\ttotal: 4m 11s\tremaining: 21.3s\n",
      "922:\tlearn: 0.4225421\ttotal: 4m 11s\tremaining: 21s\n",
      "923:\tlearn: 0.4225079\ttotal: 4m 12s\tremaining: 20.7s\n",
      "924:\tlearn: 0.4224901\ttotal: 4m 12s\tremaining: 20.5s\n",
      "925:\tlearn: 0.4224755\ttotal: 4m 12s\tremaining: 20.2s\n",
      "926:\tlearn: 0.4224396\ttotal: 4m 13s\tremaining: 19.9s\n",
      "927:\tlearn: 0.4224345\ttotal: 4m 13s\tremaining: 19.7s\n",
      "928:\tlearn: 0.4223933\ttotal: 4m 13s\tremaining: 19.4s\n",
      "929:\tlearn: 0.4223509\ttotal: 4m 13s\tremaining: 19.1s\n",
      "930:\tlearn: 0.4222980\ttotal: 4m 14s\tremaining: 18.8s\n",
      "931:\tlearn: 0.4222687\ttotal: 4m 14s\tremaining: 18.6s\n",
      "932:\tlearn: 0.4222598\ttotal: 4m 15s\tremaining: 18.3s\n",
      "933:\tlearn: 0.4222211\ttotal: 4m 15s\tremaining: 18.1s\n",
      "934:\tlearn: 0.4221560\ttotal: 4m 15s\tremaining: 17.8s\n",
      "935:\tlearn: 0.4221186\ttotal: 4m 16s\tremaining: 17.5s\n",
      "936:\tlearn: 0.4220786\ttotal: 4m 16s\tremaining: 17.2s\n",
      "937:\tlearn: 0.4220440\ttotal: 4m 16s\tremaining: 17s\n",
      "938:\tlearn: 0.4220055\ttotal: 4m 17s\tremaining: 16.7s\n",
      "939:\tlearn: 0.4219643\ttotal: 4m 17s\tremaining: 16.4s\n",
      "940:\tlearn: 0.4219414\ttotal: 4m 17s\tremaining: 16.2s\n",
      "941:\tlearn: 0.4218925\ttotal: 4m 18s\tremaining: 15.9s\n",
      "942:\tlearn: 0.4218663\ttotal: 4m 18s\tremaining: 15.6s\n",
      "943:\tlearn: 0.4218493\ttotal: 4m 18s\tremaining: 15.3s\n",
      "944:\tlearn: 0.4218097\ttotal: 4m 19s\tremaining: 15.1s\n",
      "945:\tlearn: 0.4217742\ttotal: 4m 19s\tremaining: 14.8s\n",
      "946:\tlearn: 0.4217590\ttotal: 4m 19s\tremaining: 14.5s\n",
      "947:\tlearn: 0.4217445\ttotal: 4m 20s\tremaining: 14.3s\n",
      "948:\tlearn: 0.4217082\ttotal: 4m 20s\tremaining: 14s\n",
      "949:\tlearn: 0.4216695\ttotal: 4m 20s\tremaining: 13.7s\n",
      "950:\tlearn: 0.4216357\ttotal: 4m 20s\tremaining: 13.4s\n",
      "951:\tlearn: 0.4216134\ttotal: 4m 21s\tremaining: 13.2s\n",
      "952:\tlearn: 0.4215976\ttotal: 4m 21s\tremaining: 12.9s\n",
      "953:\tlearn: 0.4215423\ttotal: 4m 21s\tremaining: 12.6s\n",
      "954:\tlearn: 0.4215181\ttotal: 4m 22s\tremaining: 12.4s\n",
      "955:\tlearn: 0.4214843\ttotal: 4m 22s\tremaining: 12.1s\n",
      "956:\tlearn: 0.4214426\ttotal: 4m 22s\tremaining: 11.8s\n",
      "957:\tlearn: 0.4214179\ttotal: 4m 23s\tremaining: 11.5s\n",
      "958:\tlearn: 0.4213815\ttotal: 4m 23s\tremaining: 11.3s\n",
      "959:\tlearn: 0.4213706\ttotal: 4m 23s\tremaining: 11s\n",
      "960:\tlearn: 0.4213444\ttotal: 4m 24s\tremaining: 10.7s\n",
      "961:\tlearn: 0.4213212\ttotal: 4m 24s\tremaining: 10.4s\n",
      "962:\tlearn: 0.4213013\ttotal: 4m 24s\tremaining: 10.2s\n",
      "963:\tlearn: 0.4212566\ttotal: 4m 25s\tremaining: 9.9s\n",
      "964:\tlearn: 0.4212281\ttotal: 4m 25s\tremaining: 9.63s\n",
      "965:\tlearn: 0.4212113\ttotal: 4m 25s\tremaining: 9.36s\n",
      "966:\tlearn: 0.4211888\ttotal: 4m 26s\tremaining: 9.08s\n",
      "967:\tlearn: 0.4211583\ttotal: 4m 26s\tremaining: 8.8s\n",
      "968:\tlearn: 0.4211234\ttotal: 4m 26s\tremaining: 8.53s\n",
      "969:\tlearn: 0.4211113\ttotal: 4m 26s\tremaining: 8.26s\n",
      "970:\tlearn: 0.4210755\ttotal: 4m 27s\tremaining: 7.98s\n",
      "971:\tlearn: 0.4210482\ttotal: 4m 27s\tremaining: 7.71s\n",
      "972:\tlearn: 0.4210146\ttotal: 4m 27s\tremaining: 7.43s\n",
      "973:\tlearn: 0.4209882\ttotal: 4m 28s\tremaining: 7.16s\n",
      "974:\tlearn: 0.4209747\ttotal: 4m 28s\tremaining: 6.88s\n",
      "975:\tlearn: 0.4209484\ttotal: 4m 28s\tremaining: 6.61s\n",
      "976:\tlearn: 0.4209103\ttotal: 4m 29s\tremaining: 6.33s\n",
      "977:\tlearn: 0.4208882\ttotal: 4m 29s\tremaining: 6.06s\n",
      "978:\tlearn: 0.4208498\ttotal: 4m 29s\tremaining: 5.78s\n",
      "979:\tlearn: 0.4208026\ttotal: 4m 29s\tremaining: 5.51s\n",
      "980:\tlearn: 0.4207596\ttotal: 4m 30s\tremaining: 5.23s\n",
      "981:\tlearn: 0.4207255\ttotal: 4m 30s\tremaining: 4.96s\n",
      "982:\tlearn: 0.4207118\ttotal: 4m 30s\tremaining: 4.68s\n",
      "983:\tlearn: 0.4206872\ttotal: 4m 31s\tremaining: 4.41s\n",
      "984:\tlearn: 0.4206554\ttotal: 4m 31s\tremaining: 4.13s\n",
      "985:\tlearn: 0.4206234\ttotal: 4m 31s\tremaining: 3.86s\n",
      "986:\tlearn: 0.4205845\ttotal: 4m 32s\tremaining: 3.58s\n",
      "987:\tlearn: 0.4205480\ttotal: 4m 32s\tremaining: 3.31s\n",
      "988:\tlearn: 0.4205205\ttotal: 4m 32s\tremaining: 3.03s\n",
      "989:\tlearn: 0.4204752\ttotal: 4m 32s\tremaining: 2.76s\n",
      "990:\tlearn: 0.4204600\ttotal: 4m 33s\tremaining: 2.48s\n",
      "991:\tlearn: 0.4204322\ttotal: 4m 33s\tremaining: 2.21s\n",
      "992:\tlearn: 0.4204006\ttotal: 4m 33s\tremaining: 1.93s\n",
      "993:\tlearn: 0.4203875\ttotal: 4m 34s\tremaining: 1.65s\n",
      "994:\tlearn: 0.4203079\ttotal: 4m 34s\tremaining: 1.38s\n",
      "995:\tlearn: 0.4202798\ttotal: 4m 34s\tremaining: 1.1s\n",
      "996:\tlearn: 0.4202694\ttotal: 4m 34s\tremaining: 827ms\n",
      "997:\tlearn: 0.4202305\ttotal: 4m 35s\tremaining: 552ms\n",
      "998:\tlearn: 0.4201994\ttotal: 4m 35s\tremaining: 276ms\n",
      "999:\tlearn: 0.4201674\ttotal: 4m 35s\tremaining: 0us\n"
     ]
    }
   ],
   "source": [
    "#Fit model on data\n",
    "# randmodel = rand.fit(X_train,y_train)\n",
    "\n",
    "# xg_model = xg_class.fit(X_train,y_train)\n",
    "\n",
    "cat_model = cat_classifier.fit(X_train,y_train)"
   ]
  },
  {
   "cell_type": "code",
   "execution_count": 368,
   "metadata": {},
   "outputs": [],
   "source": [
    "#Predict on the X_test data \n",
    "# randpred = randmodel.predict(X_test)\n",
    "\n",
    "# xgpred = xg_model.predict(X_test)\n",
    "\n",
    "catpred = cat_model.predict(X_test)"
   ]
  },
  {
   "cell_type": "code",
   "execution_count": null,
   "metadata": {},
   "outputs": [],
   "source": []
  },
  {
   "cell_type": "code",
   "execution_count": 369,
   "metadata": {},
   "outputs": [
    {
     "name": "stdout",
     "output_type": "stream",
     "text": [
      "Acuracy\n"
     ]
    },
    {
     "data": {
      "text/plain": [
       "0.8055123140183206"
      ]
     },
     "execution_count": 369,
     "metadata": {},
     "output_type": "execute_result"
    }
   ],
   "source": [
    "print(\"Acuracy\")\n",
    "accuracy_score(y_test, catpred)"
   ]
  },
  {
   "cell_type": "code",
   "execution_count": null,
   "metadata": {},
   "outputs": [],
   "source": []
  },
  {
   "cell_type": "code",
   "execution_count": null,
   "metadata": {},
   "outputs": [],
   "source": []
  },
  {
   "cell_type": "code",
   "execution_count": 370,
   "metadata": {},
   "outputs": [
    {
     "name": "stdout",
     "output_type": "stream",
     "text": [
      "Recall\n"
     ]
    },
    {
     "data": {
      "text/plain": [
       "0.8304297184773989"
      ]
     },
     "execution_count": 370,
     "metadata": {},
     "output_type": "execute_result"
    }
   ],
   "source": [
    "print(\"Recall\")\n",
    "recall_score(y_test, catpred)"
   ]
  },
  {
   "cell_type": "code",
   "execution_count": null,
   "metadata": {},
   "outputs": [],
   "source": []
  },
  {
   "cell_type": "code",
   "execution_count": 371,
   "metadata": {},
   "outputs": [
    {
     "name": "stdout",
     "output_type": "stream",
     "text": [
      "F1 Score\n"
     ]
    },
    {
     "data": {
      "text/plain": [
       "0.8104016396911673"
      ]
     },
     "execution_count": 371,
     "metadata": {},
     "output_type": "execute_result"
    }
   ],
   "source": [
    "print(\"F1 Score\")\n",
    "f1_score(y_test, catpred)"
   ]
  },
  {
   "cell_type": "code",
   "execution_count": 372,
   "metadata": {},
   "outputs": [
    {
     "data": {
      "text/plain": [
       "array([[62861, 17674],\n",
       "       [13685, 67019]])"
      ]
     },
     "execution_count": 372,
     "metadata": {},
     "output_type": "execute_result"
    }
   ],
   "source": [
    "confusion_matrix(y_test, catpred)"
   ]
  },
  {
   "cell_type": "code",
   "execution_count": null,
   "metadata": {},
   "outputs": [],
   "source": []
  },
  {
   "cell_type": "code",
   "execution_count": 292,
   "metadata": {},
   "outputs": [],
   "source": [
    "# Making a submissio"
   ]
  },
  {
   "cell_type": "code",
   "execution_count": null,
   "metadata": {},
   "outputs": [],
   "source": [
    "submission.head()"
   ]
  },
  {
   "cell_type": "code",
   "execution_count": null,
   "metadata": {},
   "outputs": [],
   "source": [
    "test.head()"
   ]
  },
  {
   "cell_type": "code",
   "execution_count": 373,
   "metadata": {},
   "outputs": [],
   "source": [
    "# subpred = randmodel.predict(test)\n",
    "# subpred = xg_model.predict(test)\n",
    "subpred = cat_model.predict(test)"
   ]
  },
  {
   "cell_type": "code",
   "execution_count": 376,
   "metadata": {},
   "outputs": [
    {
     "data": {
      "text/plain": [
       "114038"
      ]
     },
     "execution_count": 376,
     "metadata": {},
     "output_type": "execute_result"
    }
   ],
   "source": [
    "len(subpred)"
   ]
  },
  {
   "cell_type": "code",
   "execution_count": 356,
   "metadata": {},
   "outputs": [],
   "source": [
    "submission[\"CHURN\"] = subpred"
   ]
  },
  {
   "cell_type": "code",
   "execution_count": null,
   "metadata": {},
   "outputs": [],
   "source": [
    "submission.head()"
   ]
  },
  {
   "cell_type": "code",
   "execution_count": 357,
   "metadata": {},
   "outputs": [],
   "source": [
    "submission.to_csv('./submission/cat_submission.csv', index=False)"
   ]
  },
  {
   "cell_type": "code",
   "execution_count": null,
   "metadata": {},
   "outputs": [],
   "source": [
    "# 1. Do more feature engineering\n",
    "# 2. Handle the imbalance nature of the predictor class \n",
    "# 3. Use other algorithms\n",
    "# 4. Tune hyperparameters of this model\n",
    "# 5. Handle missing values properly\n",
    "# 6. Any other thing you feel can improve the performance of the model is good to go\n"
   ]
  },
  {
   "cell_type": "markdown",
   "metadata": {},
   "source": [
    "### Good Luck !!!"
   ]
  }
 ],
 "metadata": {
  "kernelspec": {
   "display_name": "Python 3",
   "language": "python",
   "name": "python3"
  },
  "language_info": {
   "codemirror_mode": {
    "name": "ipython",
    "version": 3
   },
   "file_extension": ".py",
   "mimetype": "text/x-python",
   "name": "python",
   "nbconvert_exporter": "python",
   "pygments_lexer": "ipython3",
   "version": "3.7.6"
  }
 },
 "nbformat": 4,
 "nbformat_minor": 4
}
