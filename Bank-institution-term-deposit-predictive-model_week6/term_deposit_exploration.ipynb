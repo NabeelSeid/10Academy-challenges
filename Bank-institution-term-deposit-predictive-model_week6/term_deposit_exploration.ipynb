{
 "cells": [
  {
   "cell_type": "markdown",
   "metadata": {},
   "source": [
    "# Importing and Loading"
   ]
  },
  {
   "cell_type": "markdown",
   "metadata": {},
   "source": [
    "### Importing relevant libs"
   ]
  },
  {
   "cell_type": "code",
   "execution_count": 13,
   "metadata": {},
   "outputs": [],
   "source": [
    "from IPython.display import Markdown, display\n",
    "\n",
    "import pandas as pd\n",
    "import numpy as np\n",
    "import matplotlib as mpl\n",
    "import matplotlib.pyplot as plt\n",
    "import matplotlib.patheffects as PathEffects\n",
    "\n",
    "import scipy.stats as st\n",
    "\n",
    "%matplotlib inline\n",
    "\n",
    "import seaborn as sns\n",
    "sns.set_style('darkgrid')\n",
    "sns.set_palette('muted')\n",
    "sns.set_context(\"notebook\", font_scale=1.5,\n",
    "                rc={\"lines.linewidth\": 2.5})\n",
    "RS = 123"
   ]
  },
  {
   "cell_type": "markdown",
   "metadata": {},
   "source": [
    "### Reading datasets"
   ]
  },
  {
   "cell_type": "code",
   "execution_count": 59,
   "metadata": {},
   "outputs": [
    {
     "data": {
      "text/plain": [
       "0         no\n",
       "1         no\n",
       "2         no\n",
       "3         no\n",
       "4         no\n",
       "        ... \n",
       "41183    yes\n",
       "41184     no\n",
       "41185     no\n",
       "41186    yes\n",
       "41187     no\n",
       "Name: y, Length: 41188, dtype: object"
      ]
     },
     "execution_count": 59,
     "metadata": {},
     "output_type": "execute_result"
    }
   ],
   "source": [
    "data_bank = pd.read_csv('./data/bank-additional/bank-additional-full.csv', sep=\";\")\n",
    "X = data_bank.loc[:, data_bank.columns != 'y']\n",
    "y = data_bank.loc[:, 'y']"
   ]
  },
  {
   "cell_type": "markdown",
   "metadata": {},
   "source": [
    "# Exploration"
   ]
  },
  {
   "cell_type": "markdown",
   "metadata": {},
   "source": [
    "### Exploration pipeline"
   ]
  },
  {
   "cell_type": "code",
   "execution_count": 3,
   "metadata": {
    "jupyter": {
     "source_hidden": true
    }
   },
   "outputs": [],
   "source": [
    "class ExploreData():\n",
    "    '''Print info, head, shape, missing values of a dataset\n",
    "    Parameter:\n",
    "        data DataFrame: pandas dataframe\n",
    "    '''\n",
    "    \n",
    "    def __init__(self, data):\n",
    "        self.data = data\n",
    "    \n",
    "    def __str__(self):\n",
    "        self.summary()\n",
    "        return ''\n",
    "    \n",
    "    def data(self):\n",
    "        '''Return the dataset of current instance'''\n",
    "        return self.data\n",
    "    \n",
    "    def summary(self):\n",
    "        '''print summary of the dataset'''\n",
    "        self.info()\n",
    "        self.divider()\n",
    "        self.head()\n",
    "        self.divider()\n",
    "        self.shape()\n",
    "        self.divider()\n",
    "        self.missing_values()\n",
    "    \n",
    "    def divider(self):\n",
    "        '''print a horzontal line'''\n",
    "        display(Markdown('---'))\n",
    "    \n",
    "    def info(self):\n",
    "        '''print a concise summary of a DataFrame'''\n",
    "        print('\\nDataframe summary')\n",
    "        display(self.data.info())\n",
    "\n",
    "    def head(self, n=5):\n",
    "        '''print out the first 5 rows of a dataframe'''\n",
    "        print('\\nFirst 5 rows')\n",
    "        display(self.data.head(n))\n",
    "\n",
    "    def shape(self):\n",
    "        '''print out shape of a dataframe'''\n",
    "        print('\\nShape of the dataset')\n",
    "        display(self.data.shape)\n",
    "\n",
    "    def missing_values(self):\n",
    "        '''print out count of  missing value of a dataframe'''\n",
    "        print('\\nMissing values count')\n",
    "        display(self.data.isna().sum())"
   ]
  },
  {
   "cell_type": "code",
   "execution_count": 4,
   "metadata": {
    "collapsed": true,
    "jupyter": {
     "outputs_hidden": true
    }
   },
   "outputs": [
    {
     "name": "stdout",
     "output_type": "stream",
     "text": [
      "\n",
      "Dataframe summary\n",
      "<class 'pandas.core.frame.DataFrame'>\n",
      "RangeIndex: 41188 entries, 0 to 41187\n",
      "Data columns (total 21 columns):\n",
      " #   Column          Non-Null Count  Dtype  \n",
      "---  ------          --------------  -----  \n",
      " 0   age             41188 non-null  int64  \n",
      " 1   job             41188 non-null  object \n",
      " 2   marital         41188 non-null  object \n",
      " 3   education       41188 non-null  object \n",
      " 4   default         41188 non-null  object \n",
      " 5   housing         41188 non-null  object \n",
      " 6   loan            41188 non-null  object \n",
      " 7   contact         41188 non-null  object \n",
      " 8   month           41188 non-null  object \n",
      " 9   day_of_week     41188 non-null  object \n",
      " 10  duration        41188 non-null  int64  \n",
      " 11  campaign        41188 non-null  int64  \n",
      " 12  pdays           41188 non-null  int64  \n",
      " 13  previous        41188 non-null  int64  \n",
      " 14  poutcome        41188 non-null  object \n",
      " 15  emp.var.rate    41188 non-null  float64\n",
      " 16  cons.price.idx  41188 non-null  float64\n",
      " 17  cons.conf.idx   41188 non-null  float64\n",
      " 18  euribor3m       41188 non-null  float64\n",
      " 19  nr.employed     41188 non-null  float64\n",
      " 20  y               41188 non-null  object \n",
      "dtypes: float64(5), int64(5), object(11)\n",
      "memory usage: 6.6+ MB\n"
     ]
    },
    {
     "data": {
      "text/plain": [
       "None"
      ]
     },
     "metadata": {},
     "output_type": "display_data"
    },
    {
     "data": {
      "text/markdown": [
       "---"
      ],
      "text/plain": [
       "<IPython.core.display.Markdown object>"
      ]
     },
     "metadata": {},
     "output_type": "display_data"
    },
    {
     "name": "stdout",
     "output_type": "stream",
     "text": [
      "\n",
      "First 5 rows\n"
     ]
    },
    {
     "data": {
      "text/html": [
       "<div>\n",
       "<style scoped>\n",
       "    .dataframe tbody tr th:only-of-type {\n",
       "        vertical-align: middle;\n",
       "    }\n",
       "\n",
       "    .dataframe tbody tr th {\n",
       "        vertical-align: top;\n",
       "    }\n",
       "\n",
       "    .dataframe thead th {\n",
       "        text-align: right;\n",
       "    }\n",
       "</style>\n",
       "<table border=\"1\" class=\"dataframe\">\n",
       "  <thead>\n",
       "    <tr style=\"text-align: right;\">\n",
       "      <th></th>\n",
       "      <th>age</th>\n",
       "      <th>job</th>\n",
       "      <th>marital</th>\n",
       "      <th>education</th>\n",
       "      <th>default</th>\n",
       "      <th>housing</th>\n",
       "      <th>loan</th>\n",
       "      <th>contact</th>\n",
       "      <th>month</th>\n",
       "      <th>day_of_week</th>\n",
       "      <th>...</th>\n",
       "      <th>campaign</th>\n",
       "      <th>pdays</th>\n",
       "      <th>previous</th>\n",
       "      <th>poutcome</th>\n",
       "      <th>emp.var.rate</th>\n",
       "      <th>cons.price.idx</th>\n",
       "      <th>cons.conf.idx</th>\n",
       "      <th>euribor3m</th>\n",
       "      <th>nr.employed</th>\n",
       "      <th>y</th>\n",
       "    </tr>\n",
       "  </thead>\n",
       "  <tbody>\n",
       "    <tr>\n",
       "      <th>0</th>\n",
       "      <td>56</td>\n",
       "      <td>housemaid</td>\n",
       "      <td>married</td>\n",
       "      <td>basic.4y</td>\n",
       "      <td>no</td>\n",
       "      <td>no</td>\n",
       "      <td>no</td>\n",
       "      <td>telephone</td>\n",
       "      <td>may</td>\n",
       "      <td>mon</td>\n",
       "      <td>...</td>\n",
       "      <td>1</td>\n",
       "      <td>999</td>\n",
       "      <td>0</td>\n",
       "      <td>nonexistent</td>\n",
       "      <td>1.1</td>\n",
       "      <td>93.994</td>\n",
       "      <td>-36.4</td>\n",
       "      <td>4.857</td>\n",
       "      <td>5191.0</td>\n",
       "      <td>no</td>\n",
       "    </tr>\n",
       "    <tr>\n",
       "      <th>1</th>\n",
       "      <td>57</td>\n",
       "      <td>services</td>\n",
       "      <td>married</td>\n",
       "      <td>high.school</td>\n",
       "      <td>unknown</td>\n",
       "      <td>no</td>\n",
       "      <td>no</td>\n",
       "      <td>telephone</td>\n",
       "      <td>may</td>\n",
       "      <td>mon</td>\n",
       "      <td>...</td>\n",
       "      <td>1</td>\n",
       "      <td>999</td>\n",
       "      <td>0</td>\n",
       "      <td>nonexistent</td>\n",
       "      <td>1.1</td>\n",
       "      <td>93.994</td>\n",
       "      <td>-36.4</td>\n",
       "      <td>4.857</td>\n",
       "      <td>5191.0</td>\n",
       "      <td>no</td>\n",
       "    </tr>\n",
       "    <tr>\n",
       "      <th>2</th>\n",
       "      <td>37</td>\n",
       "      <td>services</td>\n",
       "      <td>married</td>\n",
       "      <td>high.school</td>\n",
       "      <td>no</td>\n",
       "      <td>yes</td>\n",
       "      <td>no</td>\n",
       "      <td>telephone</td>\n",
       "      <td>may</td>\n",
       "      <td>mon</td>\n",
       "      <td>...</td>\n",
       "      <td>1</td>\n",
       "      <td>999</td>\n",
       "      <td>0</td>\n",
       "      <td>nonexistent</td>\n",
       "      <td>1.1</td>\n",
       "      <td>93.994</td>\n",
       "      <td>-36.4</td>\n",
       "      <td>4.857</td>\n",
       "      <td>5191.0</td>\n",
       "      <td>no</td>\n",
       "    </tr>\n",
       "    <tr>\n",
       "      <th>3</th>\n",
       "      <td>40</td>\n",
       "      <td>admin.</td>\n",
       "      <td>married</td>\n",
       "      <td>basic.6y</td>\n",
       "      <td>no</td>\n",
       "      <td>no</td>\n",
       "      <td>no</td>\n",
       "      <td>telephone</td>\n",
       "      <td>may</td>\n",
       "      <td>mon</td>\n",
       "      <td>...</td>\n",
       "      <td>1</td>\n",
       "      <td>999</td>\n",
       "      <td>0</td>\n",
       "      <td>nonexistent</td>\n",
       "      <td>1.1</td>\n",
       "      <td>93.994</td>\n",
       "      <td>-36.4</td>\n",
       "      <td>4.857</td>\n",
       "      <td>5191.0</td>\n",
       "      <td>no</td>\n",
       "    </tr>\n",
       "    <tr>\n",
       "      <th>4</th>\n",
       "      <td>56</td>\n",
       "      <td>services</td>\n",
       "      <td>married</td>\n",
       "      <td>high.school</td>\n",
       "      <td>no</td>\n",
       "      <td>no</td>\n",
       "      <td>yes</td>\n",
       "      <td>telephone</td>\n",
       "      <td>may</td>\n",
       "      <td>mon</td>\n",
       "      <td>...</td>\n",
       "      <td>1</td>\n",
       "      <td>999</td>\n",
       "      <td>0</td>\n",
       "      <td>nonexistent</td>\n",
       "      <td>1.1</td>\n",
       "      <td>93.994</td>\n",
       "      <td>-36.4</td>\n",
       "      <td>4.857</td>\n",
       "      <td>5191.0</td>\n",
       "      <td>no</td>\n",
       "    </tr>\n",
       "  </tbody>\n",
       "</table>\n",
       "<p>5 rows × 21 columns</p>\n",
       "</div>"
      ],
      "text/plain": [
       "   age        job  marital    education  default housing loan    contact  \\\n",
       "0   56  housemaid  married     basic.4y       no      no   no  telephone   \n",
       "1   57   services  married  high.school  unknown      no   no  telephone   \n",
       "2   37   services  married  high.school       no     yes   no  telephone   \n",
       "3   40     admin.  married     basic.6y       no      no   no  telephone   \n",
       "4   56   services  married  high.school       no      no  yes  telephone   \n",
       "\n",
       "  month day_of_week  ...  campaign  pdays  previous     poutcome emp.var.rate  \\\n",
       "0   may         mon  ...         1    999         0  nonexistent          1.1   \n",
       "1   may         mon  ...         1    999         0  nonexistent          1.1   \n",
       "2   may         mon  ...         1    999         0  nonexistent          1.1   \n",
       "3   may         mon  ...         1    999         0  nonexistent          1.1   \n",
       "4   may         mon  ...         1    999         0  nonexistent          1.1   \n",
       "\n",
       "   cons.price.idx  cons.conf.idx  euribor3m  nr.employed   y  \n",
       "0          93.994          -36.4      4.857       5191.0  no  \n",
       "1          93.994          -36.4      4.857       5191.0  no  \n",
       "2          93.994          -36.4      4.857       5191.0  no  \n",
       "3          93.994          -36.4      4.857       5191.0  no  \n",
       "4          93.994          -36.4      4.857       5191.0  no  \n",
       "\n",
       "[5 rows x 21 columns]"
      ]
     },
     "metadata": {},
     "output_type": "display_data"
    },
    {
     "data": {
      "text/markdown": [
       "---"
      ],
      "text/plain": [
       "<IPython.core.display.Markdown object>"
      ]
     },
     "metadata": {},
     "output_type": "display_data"
    },
    {
     "name": "stdout",
     "output_type": "stream",
     "text": [
      "\n",
      "Shape of the dataset\n"
     ]
    },
    {
     "data": {
      "text/plain": [
       "(41188, 21)"
      ]
     },
     "metadata": {},
     "output_type": "display_data"
    },
    {
     "data": {
      "text/markdown": [
       "---"
      ],
      "text/plain": [
       "<IPython.core.display.Markdown object>"
      ]
     },
     "metadata": {},
     "output_type": "display_data"
    },
    {
     "name": "stdout",
     "output_type": "stream",
     "text": [
      "\n",
      "Missing values count\n"
     ]
    },
    {
     "data": {
      "text/plain": [
       "age               0\n",
       "job               0\n",
       "marital           0\n",
       "education         0\n",
       "default           0\n",
       "housing           0\n",
       "loan              0\n",
       "contact           0\n",
       "month             0\n",
       "day_of_week       0\n",
       "duration          0\n",
       "campaign          0\n",
       "pdays             0\n",
       "previous          0\n",
       "poutcome          0\n",
       "emp.var.rate      0\n",
       "cons.price.idx    0\n",
       "cons.conf.idx     0\n",
       "euribor3m         0\n",
       "nr.employed       0\n",
       "y                 0\n",
       "dtype: int64"
      ]
     },
     "metadata": {},
     "output_type": "display_data"
    },
    {
     "name": "stdout",
     "output_type": "stream",
     "text": [
      "\n"
     ]
    }
   ],
   "source": [
    "print(ExploreData(data_bank))"
   ]
  },
  {
   "cell_type": "code",
   "execution_count": 5,
   "metadata": {
    "collapsed": true,
    "jupyter": {
     "outputs_hidden": true,
     "source_hidden": true
    }
   },
   "outputs": [
    {
     "data": {
      "text/plain": [
       "age                  0\n",
       "job                330\n",
       "marital             80\n",
       "education         1731\n",
       "default           8597\n",
       "housing            990\n",
       "loan               990\n",
       "contact              0\n",
       "month                0\n",
       "day_of_week          0\n",
       "duration             0\n",
       "campaign             0\n",
       "pdays                0\n",
       "previous             0\n",
       "poutcome             0\n",
       "emp.var.rate         0\n",
       "cons.price.idx       0\n",
       "cons.conf.idx        0\n",
       "euribor3m            0\n",
       "nr.employed          0\n",
       "y                    0\n",
       "dtype: int64"
      ]
     },
     "execution_count": 5,
     "metadata": {},
     "output_type": "execute_result"
    }
   ],
   "source": [
    "def impute_na(variable, placeholder):\n",
    "    value_counts =  variable.value_counts().drop(placeholder)\n",
    "    index = value_counts.index\n",
    "    values = value_counts.values\n",
    "    \n",
    "    count = variable[variable != placeholder].count()\n",
    "    percentage = values/count\n",
    "    null_count = sum(data_bank.job == placeholder)\n",
    "    value_percentage = (percentage * null_count).round()\n",
    "    \n",
    "    a = [val for val in index for i in range(int(value_percentage[(np.where(index==val))][0]))]\n",
    "\n",
    "    return variable[variable != placeholder].append(pd.Series(a), ignore_index=True)\n",
    "\n",
    "def impute_data():\n",
    "    for var in ['job', 'marital', 'edication', 'default', 'housing', 'loan']:\n",
    "        data_bank[var] = inpute_na(data_bank[var])\n",
    "\n",
    "\n",
    "data_bank.apply(lambda x: x[x=='unknown'].count())"
   ]
  },
  {
   "cell_type": "markdown",
   "metadata": {},
   "source": [
    "### Encoding"
   ]
  },
  {
   "cell_type": "code",
   "execution_count": 6,
   "metadata": {
    "jupyter": {
     "source_hidden": true
    }
   },
   "outputs": [],
   "source": [
    "from statsmodels.stats.outliers_influence import variance_inflation_factor\n",
    "import statsmodels.api as sm\n",
    "\n",
    "def calc_vif(X):\n",
    "\n",
    "    # Calculating VIF\n",
    "    vif = pd.DataFrame()\n",
    "    vif[\"variables\"] = X.columns\n",
    "    vif[\"VIF\"] = [variance_inflation_factor(X.values, i) for i in range(X.shape[1])]\n",
    "\n",
    "    return(vif)\n",
    "\n",
    "def calculate_vif(data):\n",
    "    vif_df = pd.DataFrame(columns = ['Var', 'Vif'])\n",
    "    x_var_names = data.columns\n",
    "    for i in range(0, x_var_names.shape[0]):\n",
    "        y = data[x_var_names[i]]\n",
    "        x = data[x_var_names.drop([x_var_names[i]])]\n",
    "        r_squared = sm.OLS(y,x.astype(float)).fit().rsquared\n",
    "        vif = round(1/(1-r_squared),2)\n",
    "        vif_df.loc[i] = [x_var_names[i], vif]\n",
    "    return vif_df.sort_values(by = 'Vif', axis = 0, ascending=False, inplace=False)"
   ]
  },
  {
   "cell_type": "code",
   "execution_count": 9,
   "metadata": {
    "jupyter": {
     "source_hidden": true
    }
   },
   "outputs": [],
   "source": [
    "def label_encoder(dataset, feature):\n",
    "    label_encoder = preprocessing.LabelEncoder()\n",
    "    dataset_temp = dataset.copy()\n",
    "    dataset_temp[feature]= label_encoder.fit_transform(dataset[feature])\n",
    "    return dataset_temp\n",
    "\n",
    "def one_hot_encoder(dataset, feature):\n",
    "    onehotencoder = preprocessing.OneHotEncoder()\n",
    "    #reshape the 1-D country array to 2-D as fit_transform expects 2-D and finally fit the object \n",
    "    X = onehotencoder.fit_transform(dataset[feature].values.reshape(-1,1)).toarray()\n",
    "    #To add this back into the original dataframe \n",
    "    unique_values = len(dataset[feature].value_counts())\n",
    "    dfOneHot = pd.DataFrame(X, columns = [feature+str(int(i)) for i in range(unique_values)]) \n",
    "    df = pd.concat([dataset, dfOneHot], axis=1)\n",
    "    #droping the feature column \n",
    "    return df.drop([feature], axis=1)\n",
    "\n",
    "def encode(dataset, ohe_features=[], le_features=[]):\n",
    "    # set to original dataset incase features in empty\n",
    "    dataset_encoded = dataset.copy()\n",
    "    \n",
    "    #one hot encoder  \n",
    "    for feature in ohe_features:\n",
    "        dataset_encoded = one_hot_encoder(dataset_encoded, feature)\n",
    "    \n",
    "    #label encoder\n",
    "    for feature in le_features:\n",
    "        dataset_encoded = label_encoder(dataset_encoded, feature)\n",
    "\n",
    "    return dataset_encoded\n",
    "\n",
    "# one_hot_encoder(data_bank, 'job').info()\n"
   ]
  },
  {
   "cell_type": "code",
   "execution_count": 66,
   "metadata": {
    "collapsed": true,
    "jupyter": {
     "outputs_hidden": true,
     "source_hidden": true
    }
   },
   "outputs": [
    {
     "name": "stdout",
     "output_type": "stream",
     "text": [
      "<class 'pandas.core.frame.DataFrame'>\n",
      "RangeIndex: 41188 entries, 0 to 41187\n",
      "Data columns (total 41 columns):\n",
      " #   Column          Non-Null Count  Dtype  \n",
      "---  ------          --------------  -----  \n",
      " 0   age             41188 non-null  int64  \n",
      " 1   default         41188 non-null  int64  \n",
      " 2   housing         41188 non-null  int64  \n",
      " 3   loan            41188 non-null  int64  \n",
      " 4   contact         41188 non-null  int64  \n",
      " 5   month           41188 non-null  int64  \n",
      " 6   day_of_week     41188 non-null  int64  \n",
      " 7   duration        41188 non-null  int64  \n",
      " 8   campaign        41188 non-null  int64  \n",
      " 9   pdays           41188 non-null  int64  \n",
      " 10  previous        41188 non-null  int64  \n",
      " 11  emp.var.rate    41188 non-null  float64\n",
      " 12  cons.price.idx  41188 non-null  float64\n",
      " 13  cons.conf.idx   41188 non-null  float64\n",
      " 14  euribor3m       41188 non-null  float64\n",
      " 15  nr.employed     41188 non-null  float64\n",
      " 16  y               41188 non-null  int64  \n",
      " 17  education0      41188 non-null  float64\n",
      " 18  education1      41188 non-null  float64\n",
      " 19  education2      41188 non-null  float64\n",
      " 20  education3      41188 non-null  float64\n",
      " 21  education4      41188 non-null  float64\n",
      " 22  education5      41188 non-null  float64\n",
      " 23  education7      41188 non-null  float64\n",
      " 24  job1            41188 non-null  float64\n",
      " 25  job2            41188 non-null  float64\n",
      " 26  job3            41188 non-null  float64\n",
      " 27  job4            41188 non-null  float64\n",
      " 28  job5            41188 non-null  float64\n",
      " 29  job6            41188 non-null  float64\n",
      " 30  job7            41188 non-null  float64\n",
      " 31  job8            41188 non-null  float64\n",
      " 32  job9            41188 non-null  float64\n",
      " 33  job10           41188 non-null  float64\n",
      " 34  job11           41188 non-null  float64\n",
      " 35  marital0        41188 non-null  float64\n",
      " 36  marital2        41188 non-null  float64\n",
      " 37  marital3        41188 non-null  float64\n",
      " 38  poutcome0       41188 non-null  float64\n",
      " 39  poutcome1       41188 non-null  float64\n",
      " 40  poutcome2       41188 non-null  float64\n",
      "dtypes: float64(29), int64(12)\n",
      "memory usage: 12.9 MB\n"
     ]
    }
   ],
   "source": [
    "catagorical = ['education', 'job', 'marital', 'poutcome', 'default', 'housing', 'loan', 'contact', 'month', 'day_of_week']\n",
    "numerical = ['age', 'pdays', 'duration', 'cons.price.idx', 'cons.conf.idx', 'nr.employed', 'euribor3m', 'emp.var.rate']\n",
    "\n",
    "data_encoded = encode(data_bank, ['education', 'job', 'marital', 'poutcome'], ['default', 'housing', 'loan', 'contact', 'month', 'day_of_week', 'y'])\n",
    "calc_vif(data_encoded.drop(['job0', 'marital1', 'education6', 'poutcome1', 'euribor3m', 'emp.var.rate'], axis=1))\n",
    "data_encoded = data_encoded.drop(['job0', 'marital1', 'education6'], axis=1) #, 'poutcome1', 'euribor3m', 'emp.var.rate'\n",
    "# corr_all = data_encoded.drop(['euribor3m', 'emp.var.rate'], axis=1).corr()\n",
    "data_encoded.info()\n",
    "\n",
    "# Correlation metrix\n",
    "# # Generate a mask for the upper triangle\n",
    "# mask = np.zeros_like(corr_all, dtype = np.bool)\n",
    "# mask[np.triu_indices_from(mask)] = True\n",
    "\n",
    "# f, ax = plt.subplots(figsize = (12, 10))\n",
    "\n",
    "# sns.heatmap(corr_all, mask = mask,\n",
    "#             square = True, linewidths = .5, ax = ax, cmap = \"BuPu\")      \n",
    "# plt.show()"
   ]
  },
  {
   "cell_type": "markdown",
   "metadata": {},
   "source": [
    "### Scaling"
   ]
  },
  {
   "cell_type": "code",
   "execution_count": 93,
   "metadata": {},
   "outputs": [
    {
     "name": "stdout",
     "output_type": "stream",
     "text": [
      "<class 'pandas.core.frame.DataFrame'>\n",
      "RangeIndex: 41188 entries, 0 to 41187\n",
      "Data columns (total 53 columns):\n",
      " #   Column                         Non-Null Count  Dtype  \n",
      "---  ------                         --------------  -----  \n",
      " 0   age                            41188 non-null  float64\n",
      " 1   duration                       41188 non-null  float64\n",
      " 2   campaign                       41188 non-null  int64  \n",
      " 3   pdays                          41188 non-null  float64\n",
      " 4   previous                       41188 non-null  int64  \n",
      " 5   emp.var.rate                   41188 non-null  float64\n",
      " 6   cons.price.idx                 41188 non-null  float64\n",
      " 7   cons.conf.idx                  41188 non-null  float64\n",
      " 8   euribor3m                      41188 non-null  float64\n",
      " 9   nr.employed                    41188 non-null  float64\n",
      " 10  education_basic.6y             41188 non-null  uint8  \n",
      " 11  education_basic.9y             41188 non-null  uint8  \n",
      " 12  education_high.school          41188 non-null  uint8  \n",
      " 13  education_illiterate           41188 non-null  uint8  \n",
      " 14  education_professional.course  41188 non-null  uint8  \n",
      " 15  education_university.degree    41188 non-null  uint8  \n",
      " 16  education_unknown              41188 non-null  uint8  \n",
      " 17  job_blue-collar                41188 non-null  uint8  \n",
      " 18  job_entrepreneur               41188 non-null  uint8  \n",
      " 19  job_housemaid                  41188 non-null  uint8  \n",
      " 20  job_management                 41188 non-null  uint8  \n",
      " 21  job_retired                    41188 non-null  uint8  \n",
      " 22  job_self-employed              41188 non-null  uint8  \n",
      " 23  job_services                   41188 non-null  uint8  \n",
      " 24  job_student                    41188 non-null  uint8  \n",
      " 25  job_technician                 41188 non-null  uint8  \n",
      " 26  job_unemployed                 41188 non-null  uint8  \n",
      " 27  job_unknown                    41188 non-null  uint8  \n",
      " 28  marital_married                41188 non-null  uint8  \n",
      " 29  marital_single                 41188 non-null  uint8  \n",
      " 30  marital_unknown                41188 non-null  uint8  \n",
      " 31  poutcome_nonexistent           41188 non-null  uint8  \n",
      " 32  poutcome_success               41188 non-null  uint8  \n",
      " 33  default_unknown                41188 non-null  uint8  \n",
      " 34  default_yes                    41188 non-null  uint8  \n",
      " 35  housing_unknown                41188 non-null  uint8  \n",
      " 36  housing_yes                    41188 non-null  uint8  \n",
      " 37  loan_unknown                   41188 non-null  uint8  \n",
      " 38  loan_yes                       41188 non-null  uint8  \n",
      " 39  contact_telephone              41188 non-null  uint8  \n",
      " 40  month_aug                      41188 non-null  uint8  \n",
      " 41  month_dec                      41188 non-null  uint8  \n",
      " 42  month_jul                      41188 non-null  uint8  \n",
      " 43  month_jun                      41188 non-null  uint8  \n",
      " 44  month_mar                      41188 non-null  uint8  \n",
      " 45  month_may                      41188 non-null  uint8  \n",
      " 46  month_nov                      41188 non-null  uint8  \n",
      " 47  month_oct                      41188 non-null  uint8  \n",
      " 48  month_sep                      41188 non-null  uint8  \n",
      " 49  day_of_week_mon                41188 non-null  uint8  \n",
      " 50  day_of_week_thu                41188 non-null  uint8  \n",
      " 51  day_of_week_tue                41188 non-null  uint8  \n",
      " 52  day_of_week_wed                41188 non-null  uint8  \n",
      "dtypes: float64(8), int64(2), uint8(43)\n",
      "memory usage: 4.8 MB\n"
     ]
    }
   ],
   "source": [
    "from sklearn import preprocessing\n",
    "\n",
    "scaler = preprocessing.StandardScaler()\n",
    "\n",
    "X_raw = pd.get_dummies(X, columns=catagorical, drop_first=True)\n",
    "y_raw = pd.get_dummies(y, drop_first=True)\n",
    "\n",
    "for var in numerical:\n",
    "    X_raw[var] = scaler.fit_transform(X_raw[[var]])\n",
    "\n",
    "X_raw.info()"
   ]
  },
  {
   "cell_type": "markdown",
   "metadata": {},
   "source": [
    "# PCA vs t-SNE"
   ]
  },
  {
   "cell_type": "code",
   "execution_count": 14,
   "metadata": {
    "jupyter": {
     "source_hidden": true
    }
   },
   "outputs": [],
   "source": [
    "def fashion_scatter(x, colors):\n",
    "    # choose a color palette with seaborn.\n",
    "    num_classes = len(np.unique(colors))\n",
    "    palette = np.array(sns.color_palette(\"hls\", num_classes))\n",
    "\n",
    "    # create a scatter plot.\n",
    "    f = plt.figure(figsize=(8, 8))\n",
    "    ax = plt.subplot(aspect='equal')\n",
    "    sc = ax.scatter(x[:,0], x[:,1], lw=0, s=40, c=palette[colors.astype(np.int)])\n",
    "    plt.xlim(-25, 25)\n",
    "    plt.ylim(-25, 25)\n",
    "    ax.axis('off')\n",
    "    ax.axis('tight')\n",
    "\n",
    "    # add the labels for each digit corresponding to the label\n",
    "    txts = []\n",
    "\n",
    "    for i in range(num_classes):\n",
    "\n",
    "        # Position of each label at median of data points.\n",
    "\n",
    "        xtext, ytext = np.median(x[colors == i, :], axis=0)\n",
    "        txt = ax.text(xtext, ytext, str(i), fontsize=24)\n",
    "        txt.set_path_effects([\n",
    "            PathEffects.Stroke(linewidth=5, foreground=\"w\"),\n",
    "            PathEffects.Normal()])\n",
    "        txts.append(txt)\n",
    "\n",
    "    return f, ax, sc, txts"
   ]
  },
  {
   "cell_type": "code",
   "execution_count": 147,
   "metadata": {},
   "outputs": [
    {
     "name": "stdout",
     "output_type": "stream",
     "text": [
      "PCA done! Time elapsed: 0.17382574081420898 seconds\n"
     ]
    },
    {
     "data": {
      "text/plain": [
       "(41188, 7)"
      ]
     },
     "execution_count": 147,
     "metadata": {},
     "output_type": "execute_result"
    }
   ],
   "source": [
    "from sklearn.decomposition import PCA\n",
    "import time\n",
    "\n",
    "time_start = time.time()\n",
    "\n",
    "pca = PCA(0.8)\n",
    "pca_result = pca.fit_transform(X_raw)\n",
    "\n",
    "print('PCA done! Time elapsed: {} seconds'.format(time.time()-time_start))\n"
   ]
  },
  {
   "cell_type": "code",
   "execution_count": 110,
   "metadata": {},
   "outputs": [
    {
     "name": "stdout",
     "output_type": "stream",
     "text": [
      "Variance explained per principal component: [0.39038451 0.17921757 0.06354701 0.05318366 0.04919213 0.04496263\n",
      " 0.02827023]\n"
     ]
    }
   ],
   "source": [
    "pca_df = pd.DataFrame(columns = ['pca1','pca2','pca3','pca4'])\n",
    "    \n",
    "pca_df['pca1'] = pca_result[:,0]\n",
    "pca_df['pca2'] = pca_result[:,1]\n",
    "pca_df['pca3'] = pca_result[:,2]\n",
    "pca_df['pca4'] = pca_result[:,3]\n",
    "\n",
    "print('Variance explained per principal component: {}'.format(pca.explained_variance_ratio_))"
   ]
  },
  {
   "cell_type": "code",
   "execution_count": 98,
   "metadata": {
    "collapsed": true,
    "jupyter": {
     "outputs_hidden": true,
     "source_hidden": true
    }
   },
   "outputs": [
    {
     "data": {
      "text/plain": [
       "(<Figure size 576x576 with 1 Axes>,\n",
       " <matplotlib.axes._subplots.AxesSubplot at 0x7f747ba44f90>,\n",
       " <matplotlib.collections.PathCollection at 0x7f747ba44c50>,\n",
       " [Text(-0.5887521555257897, -1.1815136012875769, '0'),\n",
       "  Text(-1.3016856537978714, 2.204747243031691, '1')])"
      ]
     },
     "execution_count": 98,
     "metadata": {},
     "output_type": "execute_result"
    },
    {
     "data": {
      "image/png": "[encoded data removed]",
      "text/plain": [
       "<Figure size 576x576 with 1 Axes>"
      ]
     },
     "metadata": {},
     "output_type": "display_data"
    }
   ],
   "source": [
    "top_two_comp = pca_df[['pca1','pca2']] # taking first and second principal component\n",
    "\n",
    "fashion_scatter(top_two_comp.values, y_raw.yes) "
   ]
  },
  {
   "cell_type": "code",
   "execution_count": 100,
   "metadata": {
    "collapsed": true,
    "jupyter": {
     "outputs_hidden": true,
     "source_hidden": true
    }
   },
   "outputs": [
    {
     "name": "stdout",
     "output_type": "stream",
     "text": [
      "t-SNE done! Time elapsed: 347.3970572948456 seconds\n"
     ]
    }
   ],
   "source": [
    "from sklearn.manifold import TSNE\n",
    "import time\n",
    "time_start = time.time()\n",
    "\n",
    "fashion_tsne = TSNE(random_state=RS).fit_transform(X_raw)\n",
    "\n",
    "print('t-SNE done! Time elapsed: {} seconds'.format(time.time()-time_start))"
   ]
  },
  {
   "cell_type": "code",
   "execution_count": 101,
   "metadata": {
    "collapsed": true,
    "jupyter": {
     "outputs_hidden": true,
     "source_hidden": true
    }
   },
   "outputs": [
    {
     "data": {
      "text/plain": [
       "(<Figure size 576x576 with 1 Axes>,\n",
       " <matplotlib.axes._subplots.AxesSubplot at 0x7f747b77d110>,\n",
       " <matplotlib.collections.PathCollection at 0x7f747b784110>,\n",
       " [Text(3.2508702, -1.017762, '0'), Text(-19.017382, 11.056693, '1')])"
      ]
     },
     "execution_count": 101,
     "metadata": {},
     "output_type": "execute_result"
    },
    {
     "data": {
      "image/png": "[encoded data removed]",
      "text/plain": [
       "<Figure size 576x576 with 1 Axes>"
      ]
     },
     "metadata": {},
     "output_type": "display_data"
    }
   ],
   "source": [
    "fashion_scatter(fashion_tsne, y_raw.yes)"
   ]
  },
  {
   "cell_type": "markdown",
   "metadata": {},
   "source": [
    "# K-fold"
   ]
  },
  {
   "cell_type": "code",
   "execution_count": null,
   "metadata": {},
   "outputs": [],
   "source": [
    "from sklearn.decomposition import PCA\n",
    "from sklearn.model_selection import StratifiedKFold\n",
    "from sklearn.linear_model import LogisticRegression\n",
    "from sklearn import metrics\n",
    "\n",
    "pca = PCA(n_components=7)\n",
    "kfold = StratifiedKFold(n_splits=10, shuffle=True, random_state=1)\n",
    "\n",
    "model_log = LogisticRegression(solver='liblinear', random_state=0)\n",
    "\n",
    "X2 = X_raw.values\n",
    "y2 = y_raw.values.ravel()\n",
    "\n",
    "# score = np.array([0,0,0])\n",
    "\n",
    "for train_ix, test_ix in kfold.split(X2, y2):\n",
    "    \n",
    "    train_X, test_X = X2[train_ix], X2[test_ix]\n",
    "    train_y, test_y = y2[train_ix], y2[test_ix]\n",
    "    \n",
    "    train_X = pca.fit_transform(train_X)\n",
    "    test_X = pca.fit_transform(test_X)\n",
    "    \n",
    "    #logistic regression\n",
    "    model_log.fit(train_X, train_y)\n",
    "    \n",
    "    y_pred=model_log.predict(test_X)\n",
    "    \n",
    "#     print(metrics.confusion_matrix(test_y, y_pred))\n",
    "    print(\"Accuracy:\",metrics.accuracy_score(test_y, y_pred))\n",
    "    print(\"Precision:\",metrics.precision_score(test_y, y_pred))\n",
    "    print(\"Recall:\",metrics.recall_score(test_y, y_pred))\n",
    "    print(\"F1 Score:\",metrics.f1_score(test_y, y_pred))\n",
    "    print('\\n')\n",
    "\n",
    " \n",
    "\n",
    "# for train_ix, test_ix in kfold.split(X2, y2):\n",
    "# \t# select rows\n",
    "# \ttrain_X, test_X = X2[train_ix], X2[test_ix]\n",
    "# \ttrain_y, test_y = y2[train_ix], y2[test_ix]\n",
    "    \n",
    "# \t# summarize train and test composition\n",
    "# \ttrain_0, train_1 = len(train_y[train_y==0]), len(train_y[train_y==1])\n",
    "# \ttest_0, test_1 = len(test_y[test_y==0]), len(test_y[test_y==1])\n",
    "# \tprint('>Train: 0=%d, 1=%d, Test: 0=%d, 1=%d' % (train_0, train_1, test_0, test_1))"
   ]
  }
 ],
 "metadata": {
  "kernelspec": {
   "display_name": "Python 3",
   "language": "python",
   "name": "python3"
  },
  "language_info": {
   "codemirror_mode": {
    "name": "ipython",
    "version": 3
   },
   "file_extension": ".py",
   "mimetype": "text/x-python",
   "name": "python",
   "nbconvert_exporter": "python",
   "pygments_lexer": "ipython3",
   "version": "3.7.6"
  }
 },
 "nbformat": 4,
 "nbformat_minor": 4
}
